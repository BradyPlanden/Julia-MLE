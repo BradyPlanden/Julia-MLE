{
 "cells": [
  {
   "cell_type": "markdown",
   "metadata": {},
   "source": [
    "# Maximum Likelihood Estimation\n",
    "## Problem:\n",
    "    Write a short Python (or Matlab, Julia etc.) script that \n",
    "    (1) generates some data y as the output of a parametric function of x (e.g. a polynomial), \n",
    "    (2) adds noise to it and plots y vs. x, then \n",
    "    (3) solves the inverse problem of identifying the parameters of the underlying function from data, using maximum likelihood estimation, and plots the fitted curve on the same plot as the data. "
   ]
  },
  {
   "cell_type": "code",
   "execution_count": 20,
   "metadata": {},
   "outputs": [],
   "source": [
    "using  Distributions, Optim, Plots, StatsFuns"
   ]
  },
  {
   "cell_type": "markdown",
   "metadata": {},
   "source": [
    " "
   ]
  },
  {
   "cell_type": "code",
   "execution_count": 21,
   "metadata": {},
   "outputs": [],
   "source": [
    "nvar,n = 2,100;"
   ]
  },
  {
   "cell_type": "code",
   "execution_count": 22,
   "metadata": {},
   "outputs": [],
   "source": [
    "X = rand(Normal(0,1), n, nvar-1);"
   ]
  },
  {
   "cell_type": "code",
   "execution_count": 23,
   "metadata": {},
   "outputs": [],
   "source": [
    "A = 0.5; # Noise Amplitude"
   ]
  },
  {
   "cell_type": "code",
   "execution_count": 24,
   "metadata": {},
   "outputs": [],
   "source": [
    "β = [0,7,1]; # Polynomial coeffs."
   ]
  },
  {
   "cell_type": "code",
   "execution_count": 25,
   "metadata": {},
   "outputs": [
    {
     "data": {
      "text/plain": [
       "gen (generic function with 1 method)"
      ]
     },
     "execution_count": 25,
     "metadata": {},
     "output_type": "execute_result"
    }
   ],
   "source": [
    "function gen(n,nvar,A,β,X)\n",
    "    ϵ = randn(n) * A\n",
    "    y = (X * β[1] .+ X.^2 * β[2] .+ X.^3 * β[3]) .+ ϵ\n",
    "    return y\n",
    "end"
   ]
  },
  {
   "cell_type": "code",
   "execution_count": 26,
   "metadata": {
    "scrolled": false
   },
   "outputs": [],
   "source": [
    "y = gen(n,nvar,A,β,X);"
   ]
  },
  {
   "cell_type": "markdown",
   "metadata": {},
   "source": [
    " "
   ]
  },
  {
   "cell_type": "code",
   "execution_count": 27,
   "metadata": {},
   "outputs": [
    {
     "data": {
      "image/svg+xml": [
       "<?xml version=\"1.0\" encoding=\"utf-8\"?>\n",
       "<svg xmlns=\"http://www.w3.org/2000/svg\" xmlns:xlink=\"http://www.w3.org/1999/xlink\" width=\"720\" height=\"540\" viewBox=\"0 0 2880 2160\">\n",
       "<defs>\n",
       "  <clipPath id=\"clip470\">\n",
       "    <rect x=\"0\" y=\"0\" width=\"2880\" height=\"2160\"/>\n",
       "  </clipPath>\n",
       "</defs>\n",
       "<path clip-path=\"url(#clip470)\" d=\"\n",
       "M0 2160 L2880 2160 L2880 0 L0 0  Z\n",
       "  \" fill=\"#ffffff\" fill-rule=\"evenodd\" fill-opacity=\"1\"/>\n",
       "<defs>\n",
       "  <clipPath id=\"clip471\">\n",
       "    <rect x=\"576\" y=\"0\" width=\"2017\" height=\"2017\"/>\n",
       "  </clipPath>\n",
       "</defs>\n",
       "<path clip-path=\"url(#clip470)\" d=\"\n",
       "M215.861 1967.32 L2832.76 1967.32 L2832.76 47.2441 L215.861 47.2441  Z\n",
       "  \" fill=\"#ffffff\" fill-rule=\"evenodd\" fill-opacity=\"1\"/>\n",
       "<defs>\n",
       "  <clipPath id=\"clip472\">\n",
       "    <rect x=\"215\" y=\"47\" width=\"2618\" height=\"1921\"/>\n",
       "  </clipPath>\n",
       "</defs>\n",
       "<polyline clip-path=\"url(#clip472)\" style=\"stroke:#000000; stroke-linecap:butt; stroke-linejoin:round; stroke-width:2; stroke-opacity:0.1; fill:none\" points=\"\n",
       "  461.4,1967.32 461.4,47.2441 \n",
       "  \"/>\n",
       "<polyline clip-path=\"url(#clip472)\" style=\"stroke:#000000; stroke-linecap:butt; stroke-linejoin:round; stroke-width:2; stroke-opacity:0.1; fill:none\" points=\"\n",
       "  968.865,1967.32 968.865,47.2441 \n",
       "  \"/>\n",
       "<polyline clip-path=\"url(#clip472)\" style=\"stroke:#000000; stroke-linecap:butt; stroke-linejoin:round; stroke-width:2; stroke-opacity:0.1; fill:none\" points=\"\n",
       "  1476.33,1967.32 1476.33,47.2441 \n",
       "  \"/>\n",
       "<polyline clip-path=\"url(#clip472)\" style=\"stroke:#000000; stroke-linecap:butt; stroke-linejoin:round; stroke-width:2; stroke-opacity:0.1; fill:none\" points=\"\n",
       "  1983.79,1967.32 1983.79,47.2441 \n",
       "  \"/>\n",
       "<polyline clip-path=\"url(#clip472)\" style=\"stroke:#000000; stroke-linecap:butt; stroke-linejoin:round; stroke-width:2; stroke-opacity:0.1; fill:none\" points=\"\n",
       "  2491.26,1967.32 2491.26,47.2441 \n",
       "  \"/>\n",
       "<polyline clip-path=\"url(#clip470)\" style=\"stroke:#000000; stroke-linecap:butt; stroke-linejoin:round; stroke-width:4; stroke-opacity:1; fill:none\" points=\"\n",
       "  215.861,1967.32 2832.76,1967.32 \n",
       "  \"/>\n",
       "<polyline clip-path=\"url(#clip470)\" style=\"stroke:#000000; stroke-linecap:butt; stroke-linejoin:round; stroke-width:4; stroke-opacity:1; fill:none\" points=\"\n",
       "  461.4,1967.32 461.4,1948.42 \n",
       "  \"/>\n",
       "<polyline clip-path=\"url(#clip470)\" style=\"stroke:#000000; stroke-linecap:butt; stroke-linejoin:round; stroke-width:4; stroke-opacity:1; fill:none\" points=\"\n",
       "  968.865,1967.32 968.865,1948.42 \n",
       "  \"/>\n",
       "<polyline clip-path=\"url(#clip470)\" style=\"stroke:#000000; stroke-linecap:butt; stroke-linejoin:round; stroke-width:4; stroke-opacity:1; fill:none\" points=\"\n",
       "  1476.33,1967.32 1476.33,1948.42 \n",
       "  \"/>\n",
       "<polyline clip-path=\"url(#clip470)\" style=\"stroke:#000000; stroke-linecap:butt; stroke-linejoin:round; stroke-width:4; stroke-opacity:1; fill:none\" points=\"\n",
       "  1983.79,1967.32 1983.79,1948.42 \n",
       "  \"/>\n",
       "<polyline clip-path=\"url(#clip470)\" style=\"stroke:#000000; stroke-linecap:butt; stroke-linejoin:round; stroke-width:4; stroke-opacity:1; fill:none\" points=\"\n",
       "  2491.26,1967.32 2491.26,1948.42 \n",
       "  \"/>\n",
       "<path clip-path=\"url(#clip470)\" d=\"M431.343 2016.73 L461.018 2016.73 L461.018 2020.67 L431.343 2020.67 L431.343 2016.73 Z\" fill=\"#000000\" fill-rule=\"evenodd\" fill-opacity=\"1\" /><path clip-path=\"url(#clip470)\" d=\"M475.139 2029.62 L491.458 2029.62 L491.458 2033.56 L469.514 2033.56 L469.514 2029.62 Q472.176 2026.87 476.759 2022.24 Q481.365 2017.59 482.546 2016.25 Q484.791 2013.72 485.671 2011.99 Q486.574 2010.23 486.574 2008.54 Q486.574 2005.78 484.629 2004.05 Q482.708 2002.31 479.606 2002.31 Q477.407 2002.31 474.953 2003.07 Q472.523 2003.84 469.745 2005.39 L469.745 2000.67 Q472.569 1999.53 475.023 1998.95 Q477.477 1998.37 479.514 1998.37 Q484.884 1998.37 488.078 2001.06 Q491.273 2003.75 491.273 2008.24 Q491.273 2010.37 490.463 2012.29 Q489.676 2014.18 487.569 2016.78 Q486.99 2017.45 483.889 2020.67 Q480.787 2023.86 475.139 2029.62 Z\" fill=\"#000000\" fill-rule=\"evenodd\" fill-opacity=\"1\" /><path clip-path=\"url(#clip470)\" d=\"M938.622 2016.73 L968.298 2016.73 L968.298 2020.67 L938.622 2020.67 L938.622 2016.73 Z\" fill=\"#000000\" fill-rule=\"evenodd\" fill-opacity=\"1\" /><path clip-path=\"url(#clip470)\" d=\"M979.201 2029.62 L986.839 2029.62 L986.839 2003.26 L978.529 2004.93 L978.529 2000.67 L986.793 1999 L991.469 1999 L991.469 2029.62 L999.108 2029.62 L999.108 2033.56 L979.201 2033.56 L979.201 2029.62 Z\" fill=\"#000000\" fill-rule=\"evenodd\" fill-opacity=\"1\" /><path clip-path=\"url(#clip470)\" d=\"M1476.33 2002.08 Q1472.72 2002.08 1470.89 2005.64 Q1469.08 2009.18 1469.08 2016.31 Q1469.08 2023.42 1470.89 2026.99 Q1472.72 2030.53 1476.33 2030.53 Q1479.96 2030.53 1481.77 2026.99 Q1483.6 2023.42 1483.6 2016.31 Q1483.6 2009.18 1481.77 2005.64 Q1479.96 2002.08 1476.33 2002.08 M1476.33 1998.37 Q1482.14 1998.37 1485.2 2002.98 Q1488.27 2007.56 1488.27 2016.31 Q1488.27 2025.04 1485.2 2029.65 Q1482.14 2034.23 1476.33 2034.23 Q1470.52 2034.23 1467.44 2029.65 Q1464.39 2025.04 1464.39 2016.31 Q1464.39 2007.56 1467.44 2002.98 Q1470.52 1998.37 1476.33 1998.37 Z\" fill=\"#000000\" fill-rule=\"evenodd\" fill-opacity=\"1\" /><path clip-path=\"url(#clip470)\" d=\"M1974.18 2029.62 L1981.82 2029.62 L1981.82 2003.26 L1973.51 2004.93 L1973.51 2000.67 L1981.77 1999 L1986.44 1999 L1986.44 2029.62 L1994.08 2029.62 L1994.08 2033.56 L1974.18 2033.56 L1974.18 2029.62 Z\" fill=\"#000000\" fill-rule=\"evenodd\" fill-opacity=\"1\" /><path clip-path=\"url(#clip470)\" d=\"M2485.91 2029.62 L2502.23 2029.62 L2502.23 2033.56 L2480.29 2033.56 L2480.29 2029.62 Q2482.95 2026.87 2487.53 2022.24 Q2492.14 2017.59 2493.32 2016.25 Q2495.56 2013.72 2496.44 2011.99 Q2497.35 2010.23 2497.35 2008.54 Q2497.35 2005.78 2495.4 2004.05 Q2493.48 2002.31 2490.38 2002.31 Q2488.18 2002.31 2485.73 2003.07 Q2483.3 2003.84 2480.52 2005.39 L2480.52 2000.67 Q2483.34 1999.53 2485.8 1998.95 Q2488.25 1998.37 2490.29 1998.37 Q2495.66 1998.37 2498.85 2001.06 Q2502.05 2003.75 2502.05 2008.24 Q2502.05 2010.37 2501.24 2012.29 Q2500.45 2014.18 2498.34 2016.78 Q2497.76 2017.45 2494.66 2020.67 Q2491.56 2023.86 2485.91 2029.62 Z\" fill=\"#000000\" fill-rule=\"evenodd\" fill-opacity=\"1\" /><path clip-path=\"url(#clip470)\" d=\"M1506.13 2071.86 L1513.04 2071.86 L1524.85 2089.53 L1536.72 2071.86 L1543.63 2071.86 L1528.35 2094.68 L1544.65 2119.38 L1537.74 2119.38 L1524.37 2099.17 L1510.91 2119.38 L1503.97 2119.38 L1520.93 2094.02 L1506.13 2071.86 Z\" fill=\"#000000\" fill-rule=\"evenodd\" fill-opacity=\"1\" /><polyline clip-path=\"url(#clip472)\" style=\"stroke:#000000; stroke-linecap:butt; stroke-linejoin:round; stroke-width:2; stroke-opacity:0.1; fill:none\" points=\"\n",
       "  215.861,1896.49 2832.76,1896.49 \n",
       "  \"/>\n",
       "<polyline clip-path=\"url(#clip472)\" style=\"stroke:#000000; stroke-linecap:butt; stroke-linejoin:round; stroke-width:2; stroke-opacity:0.1; fill:none\" points=\"\n",
       "  215.861,1598.42 2832.76,1598.42 \n",
       "  \"/>\n",
       "<polyline clip-path=\"url(#clip472)\" style=\"stroke:#000000; stroke-linecap:butt; stroke-linejoin:round; stroke-width:2; stroke-opacity:0.1; fill:none\" points=\"\n",
       "  215.861,1300.35 2832.76,1300.35 \n",
       "  \"/>\n",
       "<polyline clip-path=\"url(#clip472)\" style=\"stroke:#000000; stroke-linecap:butt; stroke-linejoin:round; stroke-width:2; stroke-opacity:0.1; fill:none\" points=\"\n",
       "  215.861,1002.28 2832.76,1002.28 \n",
       "  \"/>\n",
       "<polyline clip-path=\"url(#clip472)\" style=\"stroke:#000000; stroke-linecap:butt; stroke-linejoin:round; stroke-width:2; stroke-opacity:0.1; fill:none\" points=\"\n",
       "  215.861,704.213 2832.76,704.213 \n",
       "  \"/>\n",
       "<polyline clip-path=\"url(#clip472)\" style=\"stroke:#000000; stroke-linecap:butt; stroke-linejoin:round; stroke-width:2; stroke-opacity:0.1; fill:none\" points=\"\n",
       "  215.861,406.144 2832.76,406.144 \n",
       "  \"/>\n",
       "<polyline clip-path=\"url(#clip472)\" style=\"stroke:#000000; stroke-linecap:butt; stroke-linejoin:round; stroke-width:2; stroke-opacity:0.1; fill:none\" points=\"\n",
       "  215.861,108.075 2832.76,108.075 \n",
       "  \"/>\n",
       "<polyline clip-path=\"url(#clip470)\" style=\"stroke:#000000; stroke-linecap:butt; stroke-linejoin:round; stroke-width:4; stroke-opacity:1; fill:none\" points=\"\n",
       "  215.861,1967.32 215.861,47.2441 \n",
       "  \"/>\n",
       "<polyline clip-path=\"url(#clip470)\" style=\"stroke:#000000; stroke-linecap:butt; stroke-linejoin:round; stroke-width:4; stroke-opacity:1; fill:none\" points=\"\n",
       "  215.861,1896.49 234.759,1896.49 \n",
       "  \"/>\n",
       "<polyline clip-path=\"url(#clip470)\" style=\"stroke:#000000; stroke-linecap:butt; stroke-linejoin:round; stroke-width:4; stroke-opacity:1; fill:none\" points=\"\n",
       "  215.861,1598.42 234.759,1598.42 \n",
       "  \"/>\n",
       "<polyline clip-path=\"url(#clip470)\" style=\"stroke:#000000; stroke-linecap:butt; stroke-linejoin:round; stroke-width:4; stroke-opacity:1; fill:none\" points=\"\n",
       "  215.861,1300.35 234.759,1300.35 \n",
       "  \"/>\n",
       "<polyline clip-path=\"url(#clip470)\" style=\"stroke:#000000; stroke-linecap:butt; stroke-linejoin:round; stroke-width:4; stroke-opacity:1; fill:none\" points=\"\n",
       "  215.861,1002.28 234.759,1002.28 \n",
       "  \"/>\n",
       "<polyline clip-path=\"url(#clip470)\" style=\"stroke:#000000; stroke-linecap:butt; stroke-linejoin:round; stroke-width:4; stroke-opacity:1; fill:none\" points=\"\n",
       "  215.861,704.213 234.759,704.213 \n",
       "  \"/>\n",
       "<polyline clip-path=\"url(#clip470)\" style=\"stroke:#000000; stroke-linecap:butt; stroke-linejoin:round; stroke-width:4; stroke-opacity:1; fill:none\" points=\"\n",
       "  215.861,406.144 234.759,406.144 \n",
       "  \"/>\n",
       "<polyline clip-path=\"url(#clip470)\" style=\"stroke:#000000; stroke-linecap:butt; stroke-linejoin:round; stroke-width:4; stroke-opacity:1; fill:none\" points=\"\n",
       "  215.861,108.075 234.759,108.075 \n",
       "  \"/>\n",
       "<path clip-path=\"url(#clip470)\" d=\"M160.717 1882.29 Q157.106 1882.29 155.277 1885.85 Q153.471 1889.39 153.471 1896.52 Q153.471 1903.63 155.277 1907.19 Q157.106 1910.74 160.717 1910.74 Q164.351 1910.74 166.156 1907.19 Q167.985 1903.63 167.985 1896.52 Q167.985 1889.39 166.156 1885.85 Q164.351 1882.29 160.717 1882.29 M160.717 1878.58 Q166.527 1878.58 169.582 1883.19 Q172.661 1887.77 172.661 1896.52 Q172.661 1905.25 169.582 1909.86 Q166.527 1914.44 160.717 1914.44 Q154.906 1914.44 151.828 1909.86 Q148.772 1905.25 148.772 1896.52 Q148.772 1887.77 151.828 1883.19 Q154.906 1878.58 160.717 1878.58 Z\" fill=\"#000000\" fill-rule=\"evenodd\" fill-opacity=\"1\" /><path clip-path=\"url(#clip470)\" d=\"M121.365 1611.76 L129.004 1611.76 L129.004 1585.4 L120.694 1587.07 L120.694 1582.81 L128.958 1581.14 L133.633 1581.14 L133.633 1611.76 L141.272 1611.76 L141.272 1615.7 L121.365 1615.7 L121.365 1611.76 Z\" fill=\"#000000\" fill-rule=\"evenodd\" fill-opacity=\"1\" /><path clip-path=\"url(#clip470)\" d=\"M160.717 1584.22 Q157.106 1584.22 155.277 1587.78 Q153.471 1591.32 153.471 1598.45 Q153.471 1605.56 155.277 1609.13 Q157.106 1612.67 160.717 1612.67 Q164.351 1612.67 166.156 1609.13 Q167.985 1605.56 167.985 1598.45 Q167.985 1591.32 166.156 1587.78 Q164.351 1584.22 160.717 1584.22 M160.717 1580.51 Q166.527 1580.51 169.582 1585.12 Q172.661 1589.7 172.661 1598.45 Q172.661 1607.18 169.582 1611.79 Q166.527 1616.37 160.717 1616.37 Q154.906 1616.37 151.828 1611.79 Q148.772 1607.18 148.772 1598.45 Q148.772 1589.7 151.828 1585.12 Q154.906 1580.51 160.717 1580.51 Z\" fill=\"#000000\" fill-rule=\"evenodd\" fill-opacity=\"1\" /><path clip-path=\"url(#clip470)\" d=\"M124.583 1313.7 L140.902 1313.7 L140.902 1317.63 L118.958 1317.63 L118.958 1313.7 Q121.62 1310.94 126.203 1306.31 Q130.809 1301.66 131.99 1300.32 Q134.235 1297.79 135.115 1296.06 Q136.018 1294.3 136.018 1292.61 Q136.018 1289.85 134.073 1288.12 Q132.152 1286.38 129.05 1286.38 Q126.851 1286.38 124.397 1287.14 Q121.967 1287.91 119.189 1289.46 L119.189 1284.74 Q122.013 1283.6 124.467 1283.02 Q126.92 1282.45 128.958 1282.45 Q134.328 1282.45 137.522 1285.13 Q140.717 1287.82 140.717 1292.31 Q140.717 1294.44 139.907 1296.36 Q139.119 1298.26 137.013 1300.85 Q136.434 1301.52 133.332 1304.74 Q130.231 1307.93 124.583 1313.7 Z\" fill=\"#000000\" fill-rule=\"evenodd\" fill-opacity=\"1\" /><path clip-path=\"url(#clip470)\" d=\"M160.717 1286.15 Q157.106 1286.15 155.277 1289.71 Q153.471 1293.26 153.471 1300.39 Q153.471 1307.49 155.277 1311.06 Q157.106 1314.6 160.717 1314.6 Q164.351 1314.6 166.156 1311.06 Q167.985 1307.49 167.985 1300.39 Q167.985 1293.26 166.156 1289.71 Q164.351 1286.15 160.717 1286.15 M160.717 1282.45 Q166.527 1282.45 169.582 1287.05 Q172.661 1291.64 172.661 1300.39 Q172.661 1309.11 169.582 1313.72 Q166.527 1318.3 160.717 1318.3 Q154.906 1318.3 151.828 1313.72 Q148.772 1309.11 148.772 1300.39 Q148.772 1291.64 151.828 1287.05 Q154.906 1282.45 160.717 1282.45 Z\" fill=\"#000000\" fill-rule=\"evenodd\" fill-opacity=\"1\" /><path clip-path=\"url(#clip470)\" d=\"M134.721 1000.93 Q138.078 1001.64 139.953 1003.91 Q141.851 1006.18 141.851 1009.52 Q141.851 1014.63 138.332 1017.43 Q134.814 1020.23 128.333 1020.23 Q126.157 1020.23 123.842 1019.79 Q121.55 1019.38 119.096 1018.52 L119.096 1014.01 Q121.041 1015.14 123.356 1015.72 Q125.67 1016.3 128.194 1016.3 Q132.592 1016.3 134.883 1014.56 Q137.198 1012.83 137.198 1009.52 Q137.198 1006.46 135.045 1004.75 Q132.916 1003.01 129.096 1003.01 L125.069 1003.01 L125.069 999.168 L129.282 999.168 Q132.731 999.168 134.559 997.802 Q136.388 996.413 136.388 993.821 Q136.388 991.159 134.49 989.747 Q132.615 988.312 129.096 988.312 Q127.175 988.312 124.976 988.728 Q122.777 989.145 120.138 990.025 L120.138 985.858 Q122.8 985.117 125.115 984.747 Q127.453 984.377 129.513 984.377 Q134.837 984.377 137.939 986.807 Q141.041 989.214 141.041 993.335 Q141.041 996.205 139.397 998.196 Q137.754 1000.16 134.721 1000.93 Z\" fill=\"#000000\" fill-rule=\"evenodd\" fill-opacity=\"1\" /><path clip-path=\"url(#clip470)\" d=\"M160.717 988.08 Q157.106 988.08 155.277 991.645 Q153.471 995.187 153.471 1002.32 Q153.471 1009.42 155.277 1012.99 Q157.106 1016.53 160.717 1016.53 Q164.351 1016.53 166.156 1012.99 Q167.985 1009.42 167.985 1002.32 Q167.985 995.187 166.156 991.645 Q164.351 988.08 160.717 988.08 M160.717 984.377 Q166.527 984.377 169.582 988.983 Q172.661 993.566 172.661 1002.32 Q172.661 1011.04 169.582 1015.65 Q166.527 1020.23 160.717 1020.23 Q154.906 1020.23 151.828 1015.65 Q148.772 1011.04 148.772 1002.32 Q148.772 993.566 151.828 988.983 Q154.906 984.377 160.717 984.377 Z\" fill=\"#000000\" fill-rule=\"evenodd\" fill-opacity=\"1\" /><path clip-path=\"url(#clip470)\" d=\"M133.402 691.007 L121.596 709.456 L133.402 709.456 L133.402 691.007 M132.175 686.933 L138.055 686.933 L138.055 709.456 L142.985 709.456 L142.985 713.345 L138.055 713.345 L138.055 721.493 L133.402 721.493 L133.402 713.345 L117.8 713.345 L117.8 708.831 L132.175 686.933 Z\" fill=\"#000000\" fill-rule=\"evenodd\" fill-opacity=\"1\" /><path clip-path=\"url(#clip470)\" d=\"M160.717 690.011 Q157.106 690.011 155.277 693.576 Q153.471 697.118 153.471 704.247 Q153.471 711.354 155.277 714.919 Q157.106 718.46 160.717 718.46 Q164.351 718.46 166.156 714.919 Q167.985 711.354 167.985 704.247 Q167.985 697.118 166.156 693.576 Q164.351 690.011 160.717 690.011 M160.717 686.308 Q166.527 686.308 169.582 690.914 Q172.661 695.497 172.661 704.247 Q172.661 712.974 169.582 717.581 Q166.527 722.164 160.717 722.164 Q154.906 722.164 151.828 717.581 Q148.772 712.974 148.772 704.247 Q148.772 695.497 151.828 690.914 Q154.906 686.308 160.717 686.308 Z\" fill=\"#000000\" fill-rule=\"evenodd\" fill-opacity=\"1\" /><path clip-path=\"url(#clip470)\" d=\"M120.601 388.864 L138.957 388.864 L138.957 392.799 L124.883 392.799 L124.883 401.271 Q125.902 400.924 126.92 400.762 Q127.939 400.577 128.958 400.577 Q134.745 400.577 138.124 403.748 Q141.504 406.919 141.504 412.336 Q141.504 417.915 138.032 421.016 Q134.559 424.095 128.24 424.095 Q126.064 424.095 123.795 423.725 Q121.55 423.354 119.143 422.614 L119.143 417.915 Q121.226 419.049 123.448 419.604 Q125.67 420.16 128.147 420.16 Q132.152 420.16 134.49 418.053 Q136.828 415.947 136.828 412.336 Q136.828 408.725 134.49 406.618 Q132.152 404.512 128.147 404.512 Q126.272 404.512 124.397 404.928 Q122.546 405.345 120.601 406.225 L120.601 388.864 Z\" fill=\"#000000\" fill-rule=\"evenodd\" fill-opacity=\"1\" /><path clip-path=\"url(#clip470)\" d=\"M160.717 391.942 Q157.106 391.942 155.277 395.507 Q153.471 399.049 153.471 406.178 Q153.471 413.285 155.277 416.85 Q157.106 420.391 160.717 420.391 Q164.351 420.391 166.156 416.85 Q167.985 413.285 167.985 406.178 Q167.985 399.049 166.156 395.507 Q164.351 391.942 160.717 391.942 M160.717 388.239 Q166.527 388.239 169.582 392.845 Q172.661 397.429 172.661 406.178 Q172.661 414.905 169.582 419.512 Q166.527 424.095 160.717 424.095 Q154.906 424.095 151.828 419.512 Q148.772 414.905 148.772 406.178 Q148.772 397.429 151.828 392.845 Q154.906 388.239 160.717 388.239 Z\" fill=\"#000000\" fill-rule=\"evenodd\" fill-opacity=\"1\" /><path clip-path=\"url(#clip470)\" d=\"M131.133 106.211 Q127.985 106.211 126.133 108.364 Q124.305 110.517 124.305 114.267 Q124.305 117.994 126.133 120.17 Q127.985 122.322 131.133 122.322 Q134.282 122.322 136.11 120.17 Q137.962 117.994 137.962 114.267 Q137.962 110.517 136.11 108.364 Q134.282 106.211 131.133 106.211 M140.416 91.5587 L140.416 95.818 Q138.657 94.9846 136.851 94.5448 Q135.069 94.105 133.309 94.105 Q128.68 94.105 126.226 97.23 Q123.795 100.355 123.448 106.674 Q124.814 104.661 126.874 103.596 Q128.934 102.508 131.411 102.508 Q136.62 102.508 139.629 105.679 Q142.661 108.827 142.661 114.267 Q142.661 119.591 139.513 122.809 Q136.365 126.026 131.133 126.026 Q125.138 126.026 121.967 121.443 Q118.796 116.836 118.796 108.11 Q118.796 99.9152 122.684 95.0541 Q126.573 90.1699 133.124 90.1699 Q134.883 90.1699 136.666 90.5171 Q138.471 90.8643 140.416 91.5587 Z\" fill=\"#000000\" fill-rule=\"evenodd\" fill-opacity=\"1\" /><path clip-path=\"url(#clip470)\" d=\"M160.717 93.8735 Q157.106 93.8735 155.277 97.4383 Q153.471 100.98 153.471 108.11 Q153.471 115.216 155.277 118.781 Q157.106 122.322 160.717 122.322 Q164.351 122.322 166.156 118.781 Q167.985 115.216 167.985 108.11 Q167.985 100.98 166.156 97.4383 Q164.351 93.8735 160.717 93.8735 M160.717 90.1699 Q166.527 90.1699 169.582 94.7763 Q172.661 99.3596 172.661 108.11 Q172.661 116.836 169.582 121.443 Q166.527 126.026 160.717 126.026 Q154.906 126.026 151.828 121.443 Q148.772 116.836 148.772 108.11 Q148.772 99.3596 151.828 94.7763 Q154.906 90.1699 160.717 90.1699 Z\" fill=\"#000000\" fill-rule=\"evenodd\" fill-opacity=\"1\" /><path clip-path=\"url(#clip470)\" d=\"M12.8242 1027.32 L12.8242 1020.41 L32.3669 1007.23 L12.8242 994.153 L12.8242 987.246 L37.7141 1004.05 L60.3442 1004.05 L60.3442 1010.51 L37.7141 1010.51 L12.8242 1027.32 Z\" fill=\"#000000\" fill-rule=\"evenodd\" fill-opacity=\"1\" /><circle clip-path=\"url(#clip472)\" cx=\"878.831\" cy=\"1641.22\" r=\"14.4\" fill=\"#009af9\" fill-rule=\"evenodd\" fill-opacity=\"1\" stroke=\"#000000\" stroke-opacity=\"1\" stroke-width=\"4.32\"/>\n",
       "<circle clip-path=\"url(#clip472)\" cx=\"1444.52\" cy=\"1898.35\" r=\"14.4\" fill=\"#009af9\" fill-rule=\"evenodd\" fill-opacity=\"1\" stroke=\"#000000\" stroke-opacity=\"1\" stroke-width=\"4.32\"/>\n",
       "<circle clip-path=\"url(#clip472)\" cx=\"2321.48\" cy=\"1186.18\" r=\"14.4\" fill=\"#009af9\" fill-rule=\"evenodd\" fill-opacity=\"1\" stroke=\"#000000\" stroke-opacity=\"1\" stroke-width=\"4.32\"/>\n",
       "<circle clip-path=\"url(#clip472)\" cx=\"2136.87\" cy=\"1498.78\" r=\"14.4\" fill=\"#009af9\" fill-rule=\"evenodd\" fill-opacity=\"1\" stroke=\"#000000\" stroke-opacity=\"1\" stroke-width=\"4.32\"/>\n",
       "<circle clip-path=\"url(#clip472)\" cx=\"1392.37\" cy=\"1884.27\" r=\"14.4\" fill=\"#009af9\" fill-rule=\"evenodd\" fill-opacity=\"1\" stroke=\"#000000\" stroke-opacity=\"1\" stroke-width=\"4.32\"/>\n",
       "<circle clip-path=\"url(#clip472)\" cx=\"1148.33\" cy=\"1827.98\" r=\"14.4\" fill=\"#009af9\" fill-rule=\"evenodd\" fill-opacity=\"1\" stroke=\"#000000\" stroke-opacity=\"1\" stroke-width=\"4.32\"/>\n",
       "<circle clip-path=\"url(#clip472)\" cx=\"1478.02\" cy=\"1872.2\" r=\"14.4\" fill=\"#009af9\" fill-rule=\"evenodd\" fill-opacity=\"1\" stroke=\"#000000\" stroke-opacity=\"1\" stroke-width=\"4.32\"/>\n",
       "<circle clip-path=\"url(#clip472)\" cx=\"1438.18\" cy=\"1857.61\" r=\"14.4\" fill=\"#009af9\" fill-rule=\"evenodd\" fill-opacity=\"1\" stroke=\"#000000\" stroke-opacity=\"1\" stroke-width=\"4.32\"/>\n",
       "<circle clip-path=\"url(#clip472)\" cx=\"1915.41\" cy=\"1727\" r=\"14.4\" fill=\"#009af9\" fill-rule=\"evenodd\" fill-opacity=\"1\" stroke=\"#000000\" stroke-opacity=\"1\" stroke-width=\"4.32\"/>\n",
       "<circle clip-path=\"url(#clip472)\" cx=\"711.164\" cy=\"1538.34\" r=\"14.4\" fill=\"#009af9\" fill-rule=\"evenodd\" fill-opacity=\"1\" stroke=\"#000000\" stroke-opacity=\"1\" stroke-width=\"4.32\"/>\n",
       "<circle clip-path=\"url(#clip472)\" cx=\"1068.39\" cy=\"1765.18\" r=\"14.4\" fill=\"#009af9\" fill-rule=\"evenodd\" fill-opacity=\"1\" stroke=\"#000000\" stroke-opacity=\"1\" stroke-width=\"4.32\"/>\n",
       "<circle clip-path=\"url(#clip472)\" cx=\"1688.36\" cy=\"1866.62\" r=\"14.4\" fill=\"#009af9\" fill-rule=\"evenodd\" fill-opacity=\"1\" stroke=\"#000000\" stroke-opacity=\"1\" stroke-width=\"4.32\"/>\n",
       "<circle clip-path=\"url(#clip472)\" cx=\"935.372\" cy=\"1696.44\" r=\"14.4\" fill=\"#009af9\" fill-rule=\"evenodd\" fill-opacity=\"1\" stroke=\"#000000\" stroke-opacity=\"1\" stroke-width=\"4.32\"/>\n",
       "<circle clip-path=\"url(#clip472)\" cx=\"1535.43\" cy=\"1875.97\" r=\"14.4\" fill=\"#009af9\" fill-rule=\"evenodd\" fill-opacity=\"1\" stroke=\"#000000\" stroke-opacity=\"1\" stroke-width=\"4.32\"/>\n",
       "<circle clip-path=\"url(#clip472)\" cx=\"1638.29\" cy=\"1881.23\" r=\"14.4\" fill=\"#009af9\" fill-rule=\"evenodd\" fill-opacity=\"1\" stroke=\"#000000\" stroke-opacity=\"1\" stroke-width=\"4.32\"/>\n",
       "<circle clip-path=\"url(#clip472)\" cx=\"1645.17\" cy=\"1868.66\" r=\"14.4\" fill=\"#009af9\" fill-rule=\"evenodd\" fill-opacity=\"1\" stroke=\"#000000\" stroke-opacity=\"1\" stroke-width=\"4.32\"/>\n",
       "<circle clip-path=\"url(#clip472)\" cx=\"1111.32\" cy=\"1809.85\" r=\"14.4\" fill=\"#009af9\" fill-rule=\"evenodd\" fill-opacity=\"1\" stroke=\"#000000\" stroke-opacity=\"1\" stroke-width=\"4.32\"/>\n",
       "<circle clip-path=\"url(#clip472)\" cx=\"1760.94\" cy=\"1842.82\" r=\"14.4\" fill=\"#009af9\" fill-rule=\"evenodd\" fill-opacity=\"1\" stroke=\"#000000\" stroke-opacity=\"1\" stroke-width=\"4.32\"/>\n",
       "<circle clip-path=\"url(#clip472)\" cx=\"1061.53\" cy=\"1777.28\" r=\"14.4\" fill=\"#009af9\" fill-rule=\"evenodd\" fill-opacity=\"1\" stroke=\"#000000\" stroke-opacity=\"1\" stroke-width=\"4.32\"/>\n",
       "<circle clip-path=\"url(#clip472)\" cx=\"1564.28\" cy=\"1891.94\" r=\"14.4\" fill=\"#009af9\" fill-rule=\"evenodd\" fill-opacity=\"1\" stroke=\"#000000\" stroke-opacity=\"1\" stroke-width=\"4.32\"/>\n",
       "<circle clip-path=\"url(#clip472)\" cx=\"1692.66\" cy=\"1832.34\" r=\"14.4\" fill=\"#009af9\" fill-rule=\"evenodd\" fill-opacity=\"1\" stroke=\"#000000\" stroke-opacity=\"1\" stroke-width=\"4.32\"/>\n",
       "<circle clip-path=\"url(#clip472)\" cx=\"2230.48\" cy=\"1348.96\" r=\"14.4\" fill=\"#009af9\" fill-rule=\"evenodd\" fill-opacity=\"1\" stroke=\"#000000\" stroke-opacity=\"1\" stroke-width=\"4.32\"/>\n",
       "<circle clip-path=\"url(#clip472)\" cx=\"1617.7\" cy=\"1854.31\" r=\"14.4\" fill=\"#009af9\" fill-rule=\"evenodd\" fill-opacity=\"1\" stroke=\"#000000\" stroke-opacity=\"1\" stroke-width=\"4.32\"/>\n",
       "<circle clip-path=\"url(#clip472)\" cx=\"1406.22\" cy=\"1879.89\" r=\"14.4\" fill=\"#009af9\" fill-rule=\"evenodd\" fill-opacity=\"1\" stroke=\"#000000\" stroke-opacity=\"1\" stroke-width=\"4.32\"/>\n",
       "<circle clip-path=\"url(#clip472)\" cx=\"289.924\" cy=\"1130.74\" r=\"14.4\" fill=\"#009af9\" fill-rule=\"evenodd\" fill-opacity=\"1\" stroke=\"#000000\" stroke-opacity=\"1\" stroke-width=\"4.32\"/>\n",
       "<circle clip-path=\"url(#clip472)\" cx=\"1374.95\" cy=\"1887.85\" r=\"14.4\" fill=\"#009af9\" fill-rule=\"evenodd\" fill-opacity=\"1\" stroke=\"#000000\" stroke-opacity=\"1\" stroke-width=\"4.32\"/>\n",
       "<circle clip-path=\"url(#clip472)\" cx=\"2127.29\" cy=\"1488.84\" r=\"14.4\" fill=\"#009af9\" fill-rule=\"evenodd\" fill-opacity=\"1\" stroke=\"#000000\" stroke-opacity=\"1\" stroke-width=\"4.32\"/>\n",
       "<circle clip-path=\"url(#clip472)\" cx=\"1702.06\" cy=\"1853.19\" r=\"14.4\" fill=\"#009af9\" fill-rule=\"evenodd\" fill-opacity=\"1\" stroke=\"#000000\" stroke-opacity=\"1\" stroke-width=\"4.32\"/>\n",
       "<circle clip-path=\"url(#clip472)\" cx=\"640.379\" cy=\"1457.23\" r=\"14.4\" fill=\"#009af9\" fill-rule=\"evenodd\" fill-opacity=\"1\" stroke=\"#000000\" stroke-opacity=\"1\" stroke-width=\"4.32\"/>\n",
       "<circle clip-path=\"url(#clip472)\" cx=\"2353.88\" cy=\"1126.29\" r=\"14.4\" fill=\"#009af9\" fill-rule=\"evenodd\" fill-opacity=\"1\" stroke=\"#000000\" stroke-opacity=\"1\" stroke-width=\"4.32\"/>\n",
       "<circle clip-path=\"url(#clip472)\" cx=\"2105.68\" cy=\"1516.05\" r=\"14.4\" fill=\"#009af9\" fill-rule=\"evenodd\" fill-opacity=\"1\" stroke=\"#000000\" stroke-opacity=\"1\" stroke-width=\"4.32\"/>\n",
       "<circle clip-path=\"url(#clip472)\" cx=\"866.755\" cy=\"1624.22\" r=\"14.4\" fill=\"#009af9\" fill-rule=\"evenodd\" fill-opacity=\"1\" stroke=\"#000000\" stroke-opacity=\"1\" stroke-width=\"4.32\"/>\n",
       "<circle clip-path=\"url(#clip472)\" cx=\"1159.88\" cy=\"1822.07\" r=\"14.4\" fill=\"#009af9\" fill-rule=\"evenodd\" fill-opacity=\"1\" stroke=\"#000000\" stroke-opacity=\"1\" stroke-width=\"4.32\"/>\n",
       "<circle clip-path=\"url(#clip472)\" cx=\"872.401\" cy=\"1673.16\" r=\"14.4\" fill=\"#009af9\" fill-rule=\"evenodd\" fill-opacity=\"1\" stroke=\"#000000\" stroke-opacity=\"1\" stroke-width=\"4.32\"/>\n",
       "<circle clip-path=\"url(#clip472)\" cx=\"699.588\" cy=\"1513.52\" r=\"14.4\" fill=\"#009af9\" fill-rule=\"evenodd\" fill-opacity=\"1\" stroke=\"#000000\" stroke-opacity=\"1\" stroke-width=\"4.32\"/>\n",
       "<circle clip-path=\"url(#clip472)\" cx=\"1382.54\" cy=\"1875.51\" r=\"14.4\" fill=\"#009af9\" fill-rule=\"evenodd\" fill-opacity=\"1\" stroke=\"#000000\" stroke-opacity=\"1\" stroke-width=\"4.32\"/>\n",
       "<circle clip-path=\"url(#clip472)\" cx=\"1072.79\" cy=\"1788.59\" r=\"14.4\" fill=\"#009af9\" fill-rule=\"evenodd\" fill-opacity=\"1\" stroke=\"#000000\" stroke-opacity=\"1\" stroke-width=\"4.32\"/>\n",
       "<circle clip-path=\"url(#clip472)\" cx=\"1458.09\" cy=\"1901.45\" r=\"14.4\" fill=\"#009af9\" fill-rule=\"evenodd\" fill-opacity=\"1\" stroke=\"#000000\" stroke-opacity=\"1\" stroke-width=\"4.32\"/>\n",
       "<circle clip-path=\"url(#clip472)\" cx=\"2758.69\" cy=\"101.586\" r=\"14.4\" fill=\"#009af9\" fill-rule=\"evenodd\" fill-opacity=\"1\" stroke=\"#000000\" stroke-opacity=\"1\" stroke-width=\"4.32\"/>\n",
       "<circle clip-path=\"url(#clip472)\" cx=\"1023.84\" cy=\"1785.61\" r=\"14.4\" fill=\"#009af9\" fill-rule=\"evenodd\" fill-opacity=\"1\" stroke=\"#000000\" stroke-opacity=\"1\" stroke-width=\"4.32\"/>\n",
       "<circle clip-path=\"url(#clip472)\" cx=\"2611.02\" cy=\"508.315\" r=\"14.4\" fill=\"#009af9\" fill-rule=\"evenodd\" fill-opacity=\"1\" stroke=\"#000000\" stroke-opacity=\"1\" stroke-width=\"4.32\"/>\n",
       "<circle clip-path=\"url(#clip472)\" cx=\"1683.61\" cy=\"1880.54\" r=\"14.4\" fill=\"#009af9\" fill-rule=\"evenodd\" fill-opacity=\"1\" stroke=\"#000000\" stroke-opacity=\"1\" stroke-width=\"4.32\"/>\n",
       "<circle clip-path=\"url(#clip472)\" cx=\"1220.89\" cy=\"1843.51\" r=\"14.4\" fill=\"#009af9\" fill-rule=\"evenodd\" fill-opacity=\"1\" stroke=\"#000000\" stroke-opacity=\"1\" stroke-width=\"4.32\"/>\n",
       "<circle clip-path=\"url(#clip472)\" cx=\"1023.39\" cy=\"1728.86\" r=\"14.4\" fill=\"#009af9\" fill-rule=\"evenodd\" fill-opacity=\"1\" stroke=\"#000000\" stroke-opacity=\"1\" stroke-width=\"4.32\"/>\n",
       "<circle clip-path=\"url(#clip472)\" cx=\"1580.86\" cy=\"1896.19\" r=\"14.4\" fill=\"#009af9\" fill-rule=\"evenodd\" fill-opacity=\"1\" stroke=\"#000000\" stroke-opacity=\"1\" stroke-width=\"4.32\"/>\n",
       "<circle clip-path=\"url(#clip472)\" cx=\"2603.36\" cy=\"555.498\" r=\"14.4\" fill=\"#009af9\" fill-rule=\"evenodd\" fill-opacity=\"1\" stroke=\"#000000\" stroke-opacity=\"1\" stroke-width=\"4.32\"/>\n",
       "<circle clip-path=\"url(#clip472)\" cx=\"1304.29\" cy=\"1880.56\" r=\"14.4\" fill=\"#009af9\" fill-rule=\"evenodd\" fill-opacity=\"1\" stroke=\"#000000\" stroke-opacity=\"1\" stroke-width=\"4.32\"/>\n",
       "<circle clip-path=\"url(#clip472)\" cx=\"1447.46\" cy=\"1905.32\" r=\"14.4\" fill=\"#009af9\" fill-rule=\"evenodd\" fill-opacity=\"1\" stroke=\"#000000\" stroke-opacity=\"1\" stroke-width=\"4.32\"/>\n",
       "<circle clip-path=\"url(#clip472)\" cx=\"1624.01\" cy=\"1891.49\" r=\"14.4\" fill=\"#009af9\" fill-rule=\"evenodd\" fill-opacity=\"1\" stroke=\"#000000\" stroke-opacity=\"1\" stroke-width=\"4.32\"/>\n",
       "<circle clip-path=\"url(#clip472)\" cx=\"1444.77\" cy=\"1899.26\" r=\"14.4\" fill=\"#009af9\" fill-rule=\"evenodd\" fill-opacity=\"1\" stroke=\"#000000\" stroke-opacity=\"1\" stroke-width=\"4.32\"/>\n",
       "<circle clip-path=\"url(#clip472)\" cx=\"1244.58\" cy=\"1870.01\" r=\"14.4\" fill=\"#009af9\" fill-rule=\"evenodd\" fill-opacity=\"1\" stroke=\"#000000\" stroke-opacity=\"1\" stroke-width=\"4.32\"/>\n",
       "<circle clip-path=\"url(#clip472)\" cx=\"1610.44\" cy=\"1910.98\" r=\"14.4\" fill=\"#009af9\" fill-rule=\"evenodd\" fill-opacity=\"1\" stroke=\"#000000\" stroke-opacity=\"1\" stroke-width=\"4.32\"/>\n",
       "<circle clip-path=\"url(#clip472)\" cx=\"1062.98\" cy=\"1773.5\" r=\"14.4\" fill=\"#009af9\" fill-rule=\"evenodd\" fill-opacity=\"1\" stroke=\"#000000\" stroke-opacity=\"1\" stroke-width=\"4.32\"/>\n",
       "<circle clip-path=\"url(#clip472)\" cx=\"1240.47\" cy=\"1839.3\" r=\"14.4\" fill=\"#009af9\" fill-rule=\"evenodd\" fill-opacity=\"1\" stroke=\"#000000\" stroke-opacity=\"1\" stroke-width=\"4.32\"/>\n",
       "<circle clip-path=\"url(#clip472)\" cx=\"1478.57\" cy=\"1902.66\" r=\"14.4\" fill=\"#009af9\" fill-rule=\"evenodd\" fill-opacity=\"1\" stroke=\"#000000\" stroke-opacity=\"1\" stroke-width=\"4.32\"/>\n",
       "<circle clip-path=\"url(#clip472)\" cx=\"1567.4\" cy=\"1872.55\" r=\"14.4\" fill=\"#009af9\" fill-rule=\"evenodd\" fill-opacity=\"1\" stroke=\"#000000\" stroke-opacity=\"1\" stroke-width=\"4.32\"/>\n",
       "<circle clip-path=\"url(#clip472)\" cx=\"1245.88\" cy=\"1848.5\" r=\"14.4\" fill=\"#009af9\" fill-rule=\"evenodd\" fill-opacity=\"1\" stroke=\"#000000\" stroke-opacity=\"1\" stroke-width=\"4.32\"/>\n",
       "<circle clip-path=\"url(#clip472)\" cx=\"1978.6\" cy=\"1695.12\" r=\"14.4\" fill=\"#009af9\" fill-rule=\"evenodd\" fill-opacity=\"1\" stroke=\"#000000\" stroke-opacity=\"1\" stroke-width=\"4.32\"/>\n",
       "<circle clip-path=\"url(#clip472)\" cx=\"1676.45\" cy=\"1874.68\" r=\"14.4\" fill=\"#009af9\" fill-rule=\"evenodd\" fill-opacity=\"1\" stroke=\"#000000\" stroke-opacity=\"1\" stroke-width=\"4.32\"/>\n",
       "<circle clip-path=\"url(#clip472)\" cx=\"1878.84\" cy=\"1748.61\" r=\"14.4\" fill=\"#009af9\" fill-rule=\"evenodd\" fill-opacity=\"1\" stroke=\"#000000\" stroke-opacity=\"1\" stroke-width=\"4.32\"/>\n",
       "<circle clip-path=\"url(#clip472)\" cx=\"1477.32\" cy=\"1904.61\" r=\"14.4\" fill=\"#009af9\" fill-rule=\"evenodd\" fill-opacity=\"1\" stroke=\"#000000\" stroke-opacity=\"1\" stroke-width=\"4.32\"/>\n",
       "<circle clip-path=\"url(#clip472)\" cx=\"1655.14\" cy=\"1859.35\" r=\"14.4\" fill=\"#009af9\" fill-rule=\"evenodd\" fill-opacity=\"1\" stroke=\"#000000\" stroke-opacity=\"1\" stroke-width=\"4.32\"/>\n",
       "<circle clip-path=\"url(#clip472)\" cx=\"1602.5\" cy=\"1895.17\" r=\"14.4\" fill=\"#009af9\" fill-rule=\"evenodd\" fill-opacity=\"1\" stroke=\"#000000\" stroke-opacity=\"1\" stroke-width=\"4.32\"/>\n",
       "<circle clip-path=\"url(#clip472)\" cx=\"1455.52\" cy=\"1889.77\" r=\"14.4\" fill=\"#009af9\" fill-rule=\"evenodd\" fill-opacity=\"1\" stroke=\"#000000\" stroke-opacity=\"1\" stroke-width=\"4.32\"/>\n",
       "<circle clip-path=\"url(#clip472)\" cx=\"652.16\" cy=\"1462.04\" r=\"14.4\" fill=\"#009af9\" fill-rule=\"evenodd\" fill-opacity=\"1\" stroke=\"#000000\" stroke-opacity=\"1\" stroke-width=\"4.32\"/>\n",
       "<circle clip-path=\"url(#clip472)\" cx=\"1692.65\" cy=\"1847.15\" r=\"14.4\" fill=\"#009af9\" fill-rule=\"evenodd\" fill-opacity=\"1\" stroke=\"#000000\" stroke-opacity=\"1\" stroke-width=\"4.32\"/>\n",
       "<circle clip-path=\"url(#clip472)\" cx=\"1705.67\" cy=\"1855.89\" r=\"14.4\" fill=\"#009af9\" fill-rule=\"evenodd\" fill-opacity=\"1\" stroke=\"#000000\" stroke-opacity=\"1\" stroke-width=\"4.32\"/>\n",
       "<circle clip-path=\"url(#clip472)\" cx=\"878.764\" cy=\"1662.15\" r=\"14.4\" fill=\"#009af9\" fill-rule=\"evenodd\" fill-opacity=\"1\" stroke=\"#000000\" stroke-opacity=\"1\" stroke-width=\"4.32\"/>\n",
       "<circle clip-path=\"url(#clip472)\" cx=\"2536.6\" cy=\"674.695\" r=\"14.4\" fill=\"#009af9\" fill-rule=\"evenodd\" fill-opacity=\"1\" stroke=\"#000000\" stroke-opacity=\"1\" stroke-width=\"4.32\"/>\n",
       "<circle clip-path=\"url(#clip472)\" cx=\"1281.75\" cy=\"1841.4\" r=\"14.4\" fill=\"#009af9\" fill-rule=\"evenodd\" fill-opacity=\"1\" stroke=\"#000000\" stroke-opacity=\"1\" stroke-width=\"4.32\"/>\n",
       "<circle clip-path=\"url(#clip472)\" cx=\"1052.88\" cy=\"1771.83\" r=\"14.4\" fill=\"#009af9\" fill-rule=\"evenodd\" fill-opacity=\"1\" stroke=\"#000000\" stroke-opacity=\"1\" stroke-width=\"4.32\"/>\n",
       "<circle clip-path=\"url(#clip472)\" cx=\"1657.05\" cy=\"1873.87\" r=\"14.4\" fill=\"#009af9\" fill-rule=\"evenodd\" fill-opacity=\"1\" stroke=\"#000000\" stroke-opacity=\"1\" stroke-width=\"4.32\"/>\n",
       "<circle clip-path=\"url(#clip472)\" cx=\"1597.01\" cy=\"1881.02\" r=\"14.4\" fill=\"#009af9\" fill-rule=\"evenodd\" fill-opacity=\"1\" stroke=\"#000000\" stroke-opacity=\"1\" stroke-width=\"4.32\"/>\n",
       "<circle clip-path=\"url(#clip472)\" cx=\"2122.96\" cy=\"1505.81\" r=\"14.4\" fill=\"#009af9\" fill-rule=\"evenodd\" fill-opacity=\"1\" stroke=\"#000000\" stroke-opacity=\"1\" stroke-width=\"4.32\"/>\n",
       "<circle clip-path=\"url(#clip472)\" cx=\"1361.53\" cy=\"1897.89\" r=\"14.4\" fill=\"#009af9\" fill-rule=\"evenodd\" fill-opacity=\"1\" stroke=\"#000000\" stroke-opacity=\"1\" stroke-width=\"4.32\"/>\n",
       "<circle clip-path=\"url(#clip472)\" cx=\"1728.54\" cy=\"1835.19\" r=\"14.4\" fill=\"#009af9\" fill-rule=\"evenodd\" fill-opacity=\"1\" stroke=\"#000000\" stroke-opacity=\"1\" stroke-width=\"4.32\"/>\n",
       "<circle clip-path=\"url(#clip472)\" cx=\"1546\" cy=\"1882.93\" r=\"14.4\" fill=\"#009af9\" fill-rule=\"evenodd\" fill-opacity=\"1\" stroke=\"#000000\" stroke-opacity=\"1\" stroke-width=\"4.32\"/>\n",
       "<circle clip-path=\"url(#clip472)\" cx=\"1498.49\" cy=\"1903.17\" r=\"14.4\" fill=\"#009af9\" fill-rule=\"evenodd\" fill-opacity=\"1\" stroke=\"#000000\" stroke-opacity=\"1\" stroke-width=\"4.32\"/>\n",
       "<circle clip-path=\"url(#clip472)\" cx=\"2383.88\" cy=\"1062.71\" r=\"14.4\" fill=\"#009af9\" fill-rule=\"evenodd\" fill-opacity=\"1\" stroke=\"#000000\" stroke-opacity=\"1\" stroke-width=\"4.32\"/>\n",
       "<circle clip-path=\"url(#clip472)\" cx=\"982.14\" cy=\"1734.79\" r=\"14.4\" fill=\"#009af9\" fill-rule=\"evenodd\" fill-opacity=\"1\" stroke=\"#000000\" stroke-opacity=\"1\" stroke-width=\"4.32\"/>\n",
       "<circle clip-path=\"url(#clip472)\" cx=\"849.654\" cy=\"1634.82\" r=\"14.4\" fill=\"#009af9\" fill-rule=\"evenodd\" fill-opacity=\"1\" stroke=\"#000000\" stroke-opacity=\"1\" stroke-width=\"4.32\"/>\n",
       "<circle clip-path=\"url(#clip472)\" cx=\"2062.51\" cy=\"1574.3\" r=\"14.4\" fill=\"#009af9\" fill-rule=\"evenodd\" fill-opacity=\"1\" stroke=\"#000000\" stroke-opacity=\"1\" stroke-width=\"4.32\"/>\n",
       "<circle clip-path=\"url(#clip472)\" cx=\"1465.53\" cy=\"1877.92\" r=\"14.4\" fill=\"#009af9\" fill-rule=\"evenodd\" fill-opacity=\"1\" stroke=\"#000000\" stroke-opacity=\"1\" stroke-width=\"4.32\"/>\n",
       "<circle clip-path=\"url(#clip472)\" cx=\"1574.57\" cy=\"1891.71\" r=\"14.4\" fill=\"#009af9\" fill-rule=\"evenodd\" fill-opacity=\"1\" stroke=\"#000000\" stroke-opacity=\"1\" stroke-width=\"4.32\"/>\n",
       "<circle clip-path=\"url(#clip472)\" cx=\"1291.01\" cy=\"1883.62\" r=\"14.4\" fill=\"#009af9\" fill-rule=\"evenodd\" fill-opacity=\"1\" stroke=\"#000000\" stroke-opacity=\"1\" stroke-width=\"4.32\"/>\n",
       "<circle clip-path=\"url(#clip472)\" cx=\"978.741\" cy=\"1744.12\" r=\"14.4\" fill=\"#009af9\" fill-rule=\"evenodd\" fill-opacity=\"1\" stroke=\"#000000\" stroke-opacity=\"1\" stroke-width=\"4.32\"/>\n",
       "<circle clip-path=\"url(#clip472)\" cx=\"723.474\" cy=\"1530.26\" r=\"14.4\" fill=\"#009af9\" fill-rule=\"evenodd\" fill-opacity=\"1\" stroke=\"#000000\" stroke-opacity=\"1\" stroke-width=\"4.32\"/>\n",
       "<circle clip-path=\"url(#clip472)\" cx=\"1302.46\" cy=\"1901\" r=\"14.4\" fill=\"#009af9\" fill-rule=\"evenodd\" fill-opacity=\"1\" stroke=\"#000000\" stroke-opacity=\"1\" stroke-width=\"4.32\"/>\n",
       "<circle clip-path=\"url(#clip472)\" cx=\"1165.02\" cy=\"1795.51\" r=\"14.4\" fill=\"#009af9\" fill-rule=\"evenodd\" fill-opacity=\"1\" stroke=\"#000000\" stroke-opacity=\"1\" stroke-width=\"4.32\"/>\n",
       "<circle clip-path=\"url(#clip472)\" cx=\"1289.01\" cy=\"1855.16\" r=\"14.4\" fill=\"#009af9\" fill-rule=\"evenodd\" fill-opacity=\"1\" stroke=\"#000000\" stroke-opacity=\"1\" stroke-width=\"4.32\"/>\n",
       "<circle clip-path=\"url(#clip472)\" cx=\"536.274\" cy=\"1366.33\" r=\"14.4\" fill=\"#009af9\" fill-rule=\"evenodd\" fill-opacity=\"1\" stroke=\"#000000\" stroke-opacity=\"1\" stroke-width=\"4.32\"/>\n",
       "<circle clip-path=\"url(#clip472)\" cx=\"1083.57\" cy=\"1760.04\" r=\"14.4\" fill=\"#009af9\" fill-rule=\"evenodd\" fill-opacity=\"1\" stroke=\"#000000\" stroke-opacity=\"1\" stroke-width=\"4.32\"/>\n",
       "<circle clip-path=\"url(#clip472)\" cx=\"730.128\" cy=\"1558.23\" r=\"14.4\" fill=\"#009af9\" fill-rule=\"evenodd\" fill-opacity=\"1\" stroke=\"#000000\" stroke-opacity=\"1\" stroke-width=\"4.32\"/>\n",
       "<circle clip-path=\"url(#clip472)\" cx=\"1826.3\" cy=\"1785.8\" r=\"14.4\" fill=\"#009af9\" fill-rule=\"evenodd\" fill-opacity=\"1\" stroke=\"#000000\" stroke-opacity=\"1\" stroke-width=\"4.32\"/>\n",
       "<circle clip-path=\"url(#clip472)\" cx=\"1453.9\" cy=\"1912.98\" r=\"14.4\" fill=\"#009af9\" fill-rule=\"evenodd\" fill-opacity=\"1\" stroke=\"#000000\" stroke-opacity=\"1\" stroke-width=\"4.32\"/>\n",
       "<circle clip-path=\"url(#clip472)\" cx=\"1505.92\" cy=\"1867.37\" r=\"14.4\" fill=\"#009af9\" fill-rule=\"evenodd\" fill-opacity=\"1\" stroke=\"#000000\" stroke-opacity=\"1\" stroke-width=\"4.32\"/>\n",
       "<circle clip-path=\"url(#clip472)\" cx=\"390.102\" cy=\"1239.61\" r=\"14.4\" fill=\"#009af9\" fill-rule=\"evenodd\" fill-opacity=\"1\" stroke=\"#000000\" stroke-opacity=\"1\" stroke-width=\"4.32\"/>\n",
       "<circle clip-path=\"url(#clip472)\" cx=\"1229.51\" cy=\"1837.45\" r=\"14.4\" fill=\"#009af9\" fill-rule=\"evenodd\" fill-opacity=\"1\" stroke=\"#000000\" stroke-opacity=\"1\" stroke-width=\"4.32\"/>\n",
       "<circle clip-path=\"url(#clip472)\" cx=\"1591.87\" cy=\"1895.92\" r=\"14.4\" fill=\"#009af9\" fill-rule=\"evenodd\" fill-opacity=\"1\" stroke=\"#000000\" stroke-opacity=\"1\" stroke-width=\"4.32\"/>\n",
       "<circle clip-path=\"url(#clip472)\" cx=\"2000.91\" cy=\"1609.64\" r=\"14.4\" fill=\"#009af9\" fill-rule=\"evenodd\" fill-opacity=\"1\" stroke=\"#000000\" stroke-opacity=\"1\" stroke-width=\"4.32\"/>\n",
       "<path clip-path=\"url(#clip470)\" d=\"\n",
       "M303.091 214.927 L710.129 214.927 L710.129 111.247 L303.091 111.247  Z\n",
       "  \" fill=\"#ffffff\" fill-rule=\"evenodd\" fill-opacity=\"1\"/>\n",
       "<polyline clip-path=\"url(#clip470)\" style=\"stroke:#000000; stroke-linecap:butt; stroke-linejoin:round; stroke-width:4; stroke-opacity:1; fill:none\" points=\"\n",
       "  303.091,214.927 710.129,214.927 710.129,111.247 303.091,111.247 303.091,214.927 \n",
       "  \"/>\n",
       "<circle clip-path=\"url(#clip470)\" cx=\"419.397\" cy=\"163.087\" r=\"23.04\" fill=\"#009af9\" fill-rule=\"evenodd\" fill-opacity=\"1\" stroke=\"#000000\" stroke-opacity=\"1\" stroke-width=\"6.912\"/>\n",
       "<path clip-path=\"url(#clip470)\" d=\"M535.704 145.807 L564.94 145.807 L564.94 149.742 L552.671 149.742 L552.671 180.367 L547.972 180.367 L547.972 149.742 L535.704 149.742 L535.704 145.807 Z\" fill=\"#000000\" fill-rule=\"evenodd\" fill-opacity=\"1\" /><path clip-path=\"url(#clip470)\" d=\"M577.324 158.422 Q576.606 158.006 575.75 157.82 Q574.916 157.612 573.898 157.612 Q570.287 157.612 568.342 159.973 Q566.421 162.311 566.421 166.709 L566.421 180.367 L562.139 180.367 L562.139 154.441 L566.421 154.441 L566.421 158.469 Q567.764 156.107 569.916 154.973 Q572.069 153.816 575.148 153.816 Q575.588 153.816 576.12 153.885 Q576.653 153.932 577.301 154.047 L577.324 158.422 Z\" fill=\"#000000\" fill-rule=\"evenodd\" fill-opacity=\"1\" /><path clip-path=\"url(#clip470)\" d=\"M581.352 170.135 L581.352 154.441 L585.611 154.441 L585.611 169.973 Q585.611 173.654 587.046 175.506 Q588.481 177.334 591.352 177.334 Q594.801 177.334 596.791 175.135 Q598.805 172.936 598.805 169.14 L598.805 154.441 L603.064 154.441 L603.064 180.367 L598.805 180.367 L598.805 176.385 Q597.254 178.746 595.194 179.904 Q593.157 181.038 590.449 181.038 Q585.981 181.038 583.666 178.26 Q581.352 175.482 581.352 170.135 M592.069 153.816 L592.069 153.816 Z\" fill=\"#000000\" fill-rule=\"evenodd\" fill-opacity=\"1\" /><path clip-path=\"url(#clip470)\" d=\"M616.05 147.08 L616.05 154.441 L624.824 154.441 L624.824 157.751 L616.05 157.751 L616.05 171.825 Q616.05 174.996 616.907 175.899 Q617.787 176.802 620.449 176.802 L624.824 176.802 L624.824 180.367 L620.449 180.367 Q615.518 180.367 613.643 178.538 Q611.768 176.686 611.768 171.825 L611.768 157.751 L608.643 157.751 L608.643 154.441 L611.768 154.441 L611.768 147.08 L616.05 147.08 Z\" fill=\"#000000\" fill-rule=\"evenodd\" fill-opacity=\"1\" /><path clip-path=\"url(#clip470)\" d=\"M651.976 164.719 L651.976 180.367 L647.717 180.367 L647.717 164.857 Q647.717 161.177 646.282 159.348 Q644.847 157.52 641.976 157.52 Q638.527 157.52 636.536 159.719 Q634.546 161.918 634.546 165.714 L634.546 180.367 L630.263 180.367 L630.263 144.348 L634.546 144.348 L634.546 158.469 Q636.074 156.131 638.134 154.973 Q640.217 153.816 642.925 153.816 Q647.393 153.816 649.685 156.594 Q651.976 159.348 651.976 164.719 Z\" fill=\"#000000\" fill-rule=\"evenodd\" fill-opacity=\"1\" /></svg>\n"
      ]
     },
     "execution_count": 27,
     "metadata": {},
     "output_type": "execute_result"
    }
   ],
   "source": [
    "scatter(X, y, ylabel = \"Y\", xlabel = \"X\", label=\"Truth\", legend=:topleft, size=(720,540))"
   ]
  },
  {
   "cell_type": "code",
   "execution_count": 28,
   "metadata": {},
   "outputs": [
    {
     "data": {
      "text/plain": [
       "log_lkhd (generic function with 1 method)"
      ]
     },
     "execution_count": 28,
     "metadata": {},
     "output_type": "execute_result"
    }
   ],
   "source": [
    "function log_lkhd(X, y, n, β, A) \n",
    "    ŷ = gen(n,nvar,A,β,X)\n",
    "    ll = sum(-logpdf.(Normal(0.1,1),y-ŷ))/n\n",
    "    return ll\n",
    "end"
   ]
  },
  {
   "cell_type": "code",
   "execution_count": 29,
   "metadata": {},
   "outputs": [
    {
     "data": {
      "text/plain": [
       "1.158081362034104"
      ]
     },
     "execution_count": 29,
     "metadata": {},
     "output_type": "execute_result"
    }
   ],
   "source": [
    "log_lkhd(X, y, size(y,1),β,A) # Test log likelihood"
   ]
  },
  {
   "cell_type": "code",
   "execution_count": 30,
   "metadata": {},
   "outputs": [
    {
     "data": {
      "text/plain": [
       "f (generic function with 1 method)"
      ]
     },
     "execution_count": 30,
     "metadata": {},
     "output_type": "execute_result"
    }
   ],
   "source": [
    "f(X,y,n,A) = β -> log_lkhd(X, y, n, β, A) #closure for optimise call"
   ]
  },
  {
   "cell_type": "code",
   "execution_count": 31,
   "metadata": {},
   "outputs": [
    {
     "data": {
      "text/plain": [
       "#3 (generic function with 1 method)"
      ]
     },
     "execution_count": 31,
     "metadata": {},
     "output_type": "execute_result"
    }
   ],
   "source": [
    "ν = f(X,y,n,A) #wrapper"
   ]
  },
  {
   "cell_type": "code",
   "execution_count": 32,
   "metadata": {},
   "outputs": [
    {
     "data": {
      "text/plain": [
       "73.74373353757701"
      ]
     },
     "execution_count": 32,
     "metadata": {},
     "output_type": "execute_result"
    }
   ],
   "source": [
    "ν([0.2,0.2,0.1]) #Test ν"
   ]
  },
  {
   "cell_type": "code",
   "execution_count": 33,
   "metadata": {
    "scrolled": false
   },
   "outputs": [
    {
     "data": {
      "text/plain": [
       " * Status: success (objective increased between iterations)\n",
       "\n",
       " * Candidate solution\n",
       "    Final objective value:     1.133390e+00\n",
       "\n",
       " * Found with\n",
       "    Algorithm:     L-BFGS\n",
       "\n",
       " * Convergence measures\n",
       "    |x - x'|               = 0.00e+00 ≤ 0.0e+00\n",
       "    |x - x'|/|x'|          = 0.00e+00 ≤ 0.0e+00\n",
       "    |f(x) - f(x')|         = 9.56e-03 ≰ 0.0e+00\n",
       "    |f(x) - f(x')|/|f(x')| = 8.44e-03 ≰ 0.0e+00\n",
       "    |g(x)|                 = 1.78e-01 ≰ 1.0e-08\n",
       "\n",
       " * Work counters\n",
       "    Seconds run:   0  (vs limit Inf)\n",
       "    Iterations:    3\n",
       "    f(x) calls:    56\n",
       "    ∇f(x) calls:   56\n"
      ]
     },
     "execution_count": 33,
     "metadata": {},
     "output_type": "execute_result"
    }
   ],
   "source": [
    "res = optimize(ν, [0.,0.,0.], LBFGS(), autodiff=:forward)"
   ]
  },
  {
   "cell_type": "code",
   "execution_count": 34,
   "metadata": {},
   "outputs": [
    {
     "data": {
      "text/plain": [
       "3-element Vector{Float64}:\n",
       " -0.20889033677801083\n",
       "  6.982781768967852\n",
       "  1.085667087704798"
      ]
     },
     "execution_count": 34,
     "metadata": {},
     "output_type": "execute_result"
    }
   ],
   "source": [
    "β̂ = Optim.minimizer(res)"
   ]
  },
  {
   "cell_type": "code",
   "execution_count": 35,
   "metadata": {},
   "outputs": [
    {
     "data": {
      "text/plain": [
       "3-element Vector{Float64}:\n",
       "  0.20889033677801083\n",
       "  0.017218231032147813\n",
       " -0.08566708770479803"
      ]
     },
     "execution_count": 35,
     "metadata": {},
     "output_type": "execute_result"
    }
   ],
   "source": [
    "β-β̂"
   ]
  },
  {
   "cell_type": "code",
   "execution_count": 36,
   "metadata": {},
   "outputs": [],
   "source": [
    "ŷ = gen(n,nvar,0.,β̂,X);"
   ]
  },
  {
   "cell_type": "code",
   "execution_count": 37,
   "metadata": {},
   "outputs": [],
   "source": [
    "ψ = sortslices([X[:] ŷ[:]], dims=1);"
   ]
  },
  {
   "cell_type": "code",
   "execution_count": 38,
   "metadata": {},
   "outputs": [
    {
     "data": {
      "image/svg+xml": [
       "<?xml version=\"1.0\" encoding=\"utf-8\"?>\n",
       "<svg xmlns=\"http://www.w3.org/2000/svg\" xmlns:xlink=\"http://www.w3.org/1999/xlink\" width=\"720\" height=\"540\" viewBox=\"0 0 2880 2160\">\n",
       "<defs>\n",
       "  <clipPath id=\"clip510\">\n",
       "    <rect x=\"0\" y=\"0\" width=\"2880\" height=\"2160\"/>\n",
       "  </clipPath>\n",
       "</defs>\n",
       "<path clip-path=\"url(#clip510)\" d=\"\n",
       "M0 2160 L2880 2160 L2880 0 L0 0  Z\n",
       "  \" fill=\"#ffffff\" fill-rule=\"evenodd\" fill-opacity=\"1\"/>\n",
       "<defs>\n",
       "  <clipPath id=\"clip511\">\n",
       "    <rect x=\"576\" y=\"0\" width=\"2017\" height=\"2017\"/>\n",
       "  </clipPath>\n",
       "</defs>\n",
       "<path clip-path=\"url(#clip510)\" d=\"\n",
       "M215.861 1967.32 L2832.76 1967.32 L2832.76 47.2441 L215.861 47.2441  Z\n",
       "  \" fill=\"#ffffff\" fill-rule=\"evenodd\" fill-opacity=\"1\"/>\n",
       "<defs>\n",
       "  <clipPath id=\"clip512\">\n",
       "    <rect x=\"215\" y=\"47\" width=\"2618\" height=\"1921\"/>\n",
       "  </clipPath>\n",
       "</defs>\n",
       "<polyline clip-path=\"url(#clip512)\" style=\"stroke:#000000; stroke-linecap:butt; stroke-linejoin:round; stroke-width:2; stroke-opacity:0.1; fill:none\" points=\"\n",
       "  461.4,1967.32 461.4,47.2441 \n",
       "  \"/>\n",
       "<polyline clip-path=\"url(#clip512)\" style=\"stroke:#000000; stroke-linecap:butt; stroke-linejoin:round; stroke-width:2; stroke-opacity:0.1; fill:none\" points=\"\n",
       "  968.865,1967.32 968.865,47.2441 \n",
       "  \"/>\n",
       "<polyline clip-path=\"url(#clip512)\" style=\"stroke:#000000; stroke-linecap:butt; stroke-linejoin:round; stroke-width:2; stroke-opacity:0.1; fill:none\" points=\"\n",
       "  1476.33,1967.32 1476.33,47.2441 \n",
       "  \"/>\n",
       "<polyline clip-path=\"url(#clip512)\" style=\"stroke:#000000; stroke-linecap:butt; stroke-linejoin:round; stroke-width:2; stroke-opacity:0.1; fill:none\" points=\"\n",
       "  1983.79,1967.32 1983.79,47.2441 \n",
       "  \"/>\n",
       "<polyline clip-path=\"url(#clip512)\" style=\"stroke:#000000; stroke-linecap:butt; stroke-linejoin:round; stroke-width:2; stroke-opacity:0.1; fill:none\" points=\"\n",
       "  2491.26,1967.32 2491.26,47.2441 \n",
       "  \"/>\n",
       "<polyline clip-path=\"url(#clip510)\" style=\"stroke:#000000; stroke-linecap:butt; stroke-linejoin:round; stroke-width:4; stroke-opacity:1; fill:none\" points=\"\n",
       "  215.861,1967.32 2832.76,1967.32 \n",
       "  \"/>\n",
       "<polyline clip-path=\"url(#clip510)\" style=\"stroke:#000000; stroke-linecap:butt; stroke-linejoin:round; stroke-width:4; stroke-opacity:1; fill:none\" points=\"\n",
       "  461.4,1967.32 461.4,1948.42 \n",
       "  \"/>\n",
       "<polyline clip-path=\"url(#clip510)\" style=\"stroke:#000000; stroke-linecap:butt; stroke-linejoin:round; stroke-width:4; stroke-opacity:1; fill:none\" points=\"\n",
       "  968.865,1967.32 968.865,1948.42 \n",
       "  \"/>\n",
       "<polyline clip-path=\"url(#clip510)\" style=\"stroke:#000000; stroke-linecap:butt; stroke-linejoin:round; stroke-width:4; stroke-opacity:1; fill:none\" points=\"\n",
       "  1476.33,1967.32 1476.33,1948.42 \n",
       "  \"/>\n",
       "<polyline clip-path=\"url(#clip510)\" style=\"stroke:#000000; stroke-linecap:butt; stroke-linejoin:round; stroke-width:4; stroke-opacity:1; fill:none\" points=\"\n",
       "  1983.79,1967.32 1983.79,1948.42 \n",
       "  \"/>\n",
       "<polyline clip-path=\"url(#clip510)\" style=\"stroke:#000000; stroke-linecap:butt; stroke-linejoin:round; stroke-width:4; stroke-opacity:1; fill:none\" points=\"\n",
       "  2491.26,1967.32 2491.26,1948.42 \n",
       "  \"/>\n",
       "<path clip-path=\"url(#clip510)\" d=\"M431.343 2016.73 L461.018 2016.73 L461.018 2020.67 L431.343 2020.67 L431.343 2016.73 Z\" fill=\"#000000\" fill-rule=\"evenodd\" fill-opacity=\"1\" /><path clip-path=\"url(#clip510)\" d=\"M475.139 2029.62 L491.458 2029.62 L491.458 2033.56 L469.514 2033.56 L469.514 2029.62 Q472.176 2026.87 476.759 2022.24 Q481.365 2017.59 482.546 2016.25 Q484.791 2013.72 485.671 2011.99 Q486.574 2010.23 486.574 2008.54 Q486.574 2005.78 484.629 2004.05 Q482.708 2002.31 479.606 2002.31 Q477.407 2002.31 474.953 2003.07 Q472.523 2003.84 469.745 2005.39 L469.745 2000.67 Q472.569 1999.53 475.023 1998.95 Q477.477 1998.37 479.514 1998.37 Q484.884 1998.37 488.078 2001.06 Q491.273 2003.75 491.273 2008.24 Q491.273 2010.37 490.463 2012.29 Q489.676 2014.18 487.569 2016.78 Q486.99 2017.45 483.889 2020.67 Q480.787 2023.86 475.139 2029.62 Z\" fill=\"#000000\" fill-rule=\"evenodd\" fill-opacity=\"1\" /><path clip-path=\"url(#clip510)\" d=\"M938.622 2016.73 L968.298 2016.73 L968.298 2020.67 L938.622 2020.67 L938.622 2016.73 Z\" fill=\"#000000\" fill-rule=\"evenodd\" fill-opacity=\"1\" /><path clip-path=\"url(#clip510)\" d=\"M979.201 2029.62 L986.839 2029.62 L986.839 2003.26 L978.529 2004.93 L978.529 2000.67 L986.793 1999 L991.469 1999 L991.469 2029.62 L999.108 2029.62 L999.108 2033.56 L979.201 2033.56 L979.201 2029.62 Z\" fill=\"#000000\" fill-rule=\"evenodd\" fill-opacity=\"1\" /><path clip-path=\"url(#clip510)\" d=\"M1476.33 2002.08 Q1472.72 2002.08 1470.89 2005.64 Q1469.08 2009.18 1469.08 2016.31 Q1469.08 2023.42 1470.89 2026.99 Q1472.72 2030.53 1476.33 2030.53 Q1479.96 2030.53 1481.77 2026.99 Q1483.6 2023.42 1483.6 2016.31 Q1483.6 2009.18 1481.77 2005.64 Q1479.96 2002.08 1476.33 2002.08 M1476.33 1998.37 Q1482.14 1998.37 1485.2 2002.98 Q1488.27 2007.56 1488.27 2016.31 Q1488.27 2025.04 1485.2 2029.65 Q1482.14 2034.23 1476.33 2034.23 Q1470.52 2034.23 1467.44 2029.65 Q1464.39 2025.04 1464.39 2016.31 Q1464.39 2007.56 1467.44 2002.98 Q1470.52 1998.37 1476.33 1998.37 Z\" fill=\"#000000\" fill-rule=\"evenodd\" fill-opacity=\"1\" /><path clip-path=\"url(#clip510)\" d=\"M1974.18 2029.62 L1981.82 2029.62 L1981.82 2003.26 L1973.51 2004.93 L1973.51 2000.67 L1981.77 1999 L1986.44 1999 L1986.44 2029.62 L1994.08 2029.62 L1994.08 2033.56 L1974.18 2033.56 L1974.18 2029.62 Z\" fill=\"#000000\" fill-rule=\"evenodd\" fill-opacity=\"1\" /><path clip-path=\"url(#clip510)\" d=\"M2485.91 2029.62 L2502.23 2029.62 L2502.23 2033.56 L2480.29 2033.56 L2480.29 2029.62 Q2482.95 2026.87 2487.53 2022.24 Q2492.14 2017.59 2493.32 2016.25 Q2495.56 2013.72 2496.44 2011.99 Q2497.35 2010.23 2497.35 2008.54 Q2497.35 2005.78 2495.4 2004.05 Q2493.48 2002.31 2490.38 2002.31 Q2488.18 2002.31 2485.73 2003.07 Q2483.3 2003.84 2480.52 2005.39 L2480.52 2000.67 Q2483.34 1999.53 2485.8 1998.95 Q2488.25 1998.37 2490.29 1998.37 Q2495.66 1998.37 2498.85 2001.06 Q2502.05 2003.75 2502.05 2008.24 Q2502.05 2010.37 2501.24 2012.29 Q2500.45 2014.18 2498.34 2016.78 Q2497.76 2017.45 2494.66 2020.67 Q2491.56 2023.86 2485.91 2029.62 Z\" fill=\"#000000\" fill-rule=\"evenodd\" fill-opacity=\"1\" /><path clip-path=\"url(#clip510)\" d=\"M1506.13 2071.86 L1513.04 2071.86 L1524.85 2089.53 L1536.72 2071.86 L1543.63 2071.86 L1528.35 2094.68 L1544.65 2119.38 L1537.74 2119.38 L1524.37 2099.17 L1510.91 2119.38 L1503.97 2119.38 L1520.93 2094.02 L1506.13 2071.86 Z\" fill=\"#000000\" fill-rule=\"evenodd\" fill-opacity=\"1\" /><polyline clip-path=\"url(#clip512)\" style=\"stroke:#000000; stroke-linecap:butt; stroke-linejoin:round; stroke-width:2; stroke-opacity:0.1; fill:none\" points=\"\n",
       "  215.861,1896.85 2832.76,1896.85 \n",
       "  \"/>\n",
       "<polyline clip-path=\"url(#clip512)\" style=\"stroke:#000000; stroke-linecap:butt; stroke-linejoin:round; stroke-width:2; stroke-opacity:0.1; fill:none\" points=\"\n",
       "  215.861,1605.32 2832.76,1605.32 \n",
       "  \"/>\n",
       "<polyline clip-path=\"url(#clip512)\" style=\"stroke:#000000; stroke-linecap:butt; stroke-linejoin:round; stroke-width:2; stroke-opacity:0.1; fill:none\" points=\"\n",
       "  215.861,1313.8 2832.76,1313.8 \n",
       "  \"/>\n",
       "<polyline clip-path=\"url(#clip512)\" style=\"stroke:#000000; stroke-linecap:butt; stroke-linejoin:round; stroke-width:2; stroke-opacity:0.1; fill:none\" points=\"\n",
       "  215.861,1022.27 2832.76,1022.27 \n",
       "  \"/>\n",
       "<polyline clip-path=\"url(#clip512)\" style=\"stroke:#000000; stroke-linecap:butt; stroke-linejoin:round; stroke-width:2; stroke-opacity:0.1; fill:none\" points=\"\n",
       "  215.861,730.742 2832.76,730.742 \n",
       "  \"/>\n",
       "<polyline clip-path=\"url(#clip512)\" style=\"stroke:#000000; stroke-linecap:butt; stroke-linejoin:round; stroke-width:2; stroke-opacity:0.1; fill:none\" points=\"\n",
       "  215.861,439.215 2832.76,439.215 \n",
       "  \"/>\n",
       "<polyline clip-path=\"url(#clip512)\" style=\"stroke:#000000; stroke-linecap:butt; stroke-linejoin:round; stroke-width:2; stroke-opacity:0.1; fill:none\" points=\"\n",
       "  215.861,147.687 2832.76,147.687 \n",
       "  \"/>\n",
       "<polyline clip-path=\"url(#clip510)\" style=\"stroke:#000000; stroke-linecap:butt; stroke-linejoin:round; stroke-width:4; stroke-opacity:1; fill:none\" points=\"\n",
       "  215.861,1967.32 215.861,47.2441 \n",
       "  \"/>\n",
       "<polyline clip-path=\"url(#clip510)\" style=\"stroke:#000000; stroke-linecap:butt; stroke-linejoin:round; stroke-width:4; stroke-opacity:1; fill:none\" points=\"\n",
       "  215.861,1896.85 234.759,1896.85 \n",
       "  \"/>\n",
       "<polyline clip-path=\"url(#clip510)\" style=\"stroke:#000000; stroke-linecap:butt; stroke-linejoin:round; stroke-width:4; stroke-opacity:1; fill:none\" points=\"\n",
       "  215.861,1605.32 234.759,1605.32 \n",
       "  \"/>\n",
       "<polyline clip-path=\"url(#clip510)\" style=\"stroke:#000000; stroke-linecap:butt; stroke-linejoin:round; stroke-width:4; stroke-opacity:1; fill:none\" points=\"\n",
       "  215.861,1313.8 234.759,1313.8 \n",
       "  \"/>\n",
       "<polyline clip-path=\"url(#clip510)\" style=\"stroke:#000000; stroke-linecap:butt; stroke-linejoin:round; stroke-width:4; stroke-opacity:1; fill:none\" points=\"\n",
       "  215.861,1022.27 234.759,1022.27 \n",
       "  \"/>\n",
       "<polyline clip-path=\"url(#clip510)\" style=\"stroke:#000000; stroke-linecap:butt; stroke-linejoin:round; stroke-width:4; stroke-opacity:1; fill:none\" points=\"\n",
       "  215.861,730.742 234.759,730.742 \n",
       "  \"/>\n",
       "<polyline clip-path=\"url(#clip510)\" style=\"stroke:#000000; stroke-linecap:butt; stroke-linejoin:round; stroke-width:4; stroke-opacity:1; fill:none\" points=\"\n",
       "  215.861,439.215 234.759,439.215 \n",
       "  \"/>\n",
       "<polyline clip-path=\"url(#clip510)\" style=\"stroke:#000000; stroke-linecap:butt; stroke-linejoin:round; stroke-width:4; stroke-opacity:1; fill:none\" points=\"\n",
       "  215.861,147.687 234.759,147.687 \n",
       "  \"/>\n",
       "<path clip-path=\"url(#clip510)\" d=\"M160.717 1882.65 Q157.106 1882.65 155.277 1886.21 Q153.471 1889.76 153.471 1896.88 Q153.471 1903.99 155.277 1907.56 Q157.106 1911.1 160.717 1911.1 Q164.351 1911.1 166.156 1907.56 Q167.985 1903.99 167.985 1896.88 Q167.985 1889.76 166.156 1886.21 Q164.351 1882.65 160.717 1882.65 M160.717 1878.95 Q166.527 1878.95 169.582 1883.55 Q172.661 1888.13 172.661 1896.88 Q172.661 1905.61 169.582 1910.22 Q166.527 1914.8 160.717 1914.8 Q154.906 1914.8 151.828 1910.22 Q148.772 1905.61 148.772 1896.88 Q148.772 1888.13 151.828 1883.55 Q154.906 1878.95 160.717 1878.95 Z\" fill=\"#000000\" fill-rule=\"evenodd\" fill-opacity=\"1\" /><path clip-path=\"url(#clip510)\" d=\"M121.365 1618.67 L129.004 1618.67 L129.004 1592.3 L120.694 1593.97 L120.694 1589.71 L128.958 1588.04 L133.633 1588.04 L133.633 1618.67 L141.272 1618.67 L141.272 1622.6 L121.365 1622.6 L121.365 1618.67 Z\" fill=\"#000000\" fill-rule=\"evenodd\" fill-opacity=\"1\" /><path clip-path=\"url(#clip510)\" d=\"M160.717 1591.12 Q157.106 1591.12 155.277 1594.69 Q153.471 1598.23 153.471 1605.36 Q153.471 1612.46 155.277 1616.03 Q157.106 1619.57 160.717 1619.57 Q164.351 1619.57 166.156 1616.03 Q167.985 1612.46 167.985 1605.36 Q167.985 1598.23 166.156 1594.69 Q164.351 1591.12 160.717 1591.12 M160.717 1587.42 Q166.527 1587.42 169.582 1592.02 Q172.661 1596.61 172.661 1605.36 Q172.661 1614.08 169.582 1618.69 Q166.527 1623.27 160.717 1623.27 Q154.906 1623.27 151.828 1618.69 Q148.772 1614.08 148.772 1605.36 Q148.772 1596.61 151.828 1592.02 Q154.906 1587.42 160.717 1587.42 Z\" fill=\"#000000\" fill-rule=\"evenodd\" fill-opacity=\"1\" /><path clip-path=\"url(#clip510)\" d=\"M124.583 1327.14 L140.902 1327.14 L140.902 1331.08 L118.958 1331.08 L118.958 1327.14 Q121.62 1324.39 126.203 1319.76 Q130.809 1315.1 131.99 1313.76 Q134.235 1311.24 135.115 1309.5 Q136.018 1307.74 136.018 1306.05 Q136.018 1303.3 134.073 1301.56 Q132.152 1299.83 129.05 1299.83 Q126.851 1299.83 124.397 1300.59 Q121.967 1301.35 119.189 1302.9 L119.189 1298.18 Q122.013 1297.05 124.467 1296.47 Q126.92 1295.89 128.958 1295.89 Q134.328 1295.89 137.522 1298.58 Q140.717 1301.26 140.717 1305.75 Q140.717 1307.88 139.907 1309.8 Q139.119 1311.7 137.013 1314.29 Q136.434 1314.96 133.332 1318.18 Q130.231 1321.38 124.583 1327.14 Z\" fill=\"#000000\" fill-rule=\"evenodd\" fill-opacity=\"1\" /><path clip-path=\"url(#clip510)\" d=\"M160.717 1299.59 Q157.106 1299.59 155.277 1303.16 Q153.471 1306.7 153.471 1313.83 Q153.471 1320.94 155.277 1324.5 Q157.106 1328.04 160.717 1328.04 Q164.351 1328.04 166.156 1324.5 Q167.985 1320.94 167.985 1313.83 Q167.985 1306.7 166.156 1303.16 Q164.351 1299.59 160.717 1299.59 M160.717 1295.89 Q166.527 1295.89 169.582 1300.5 Q172.661 1305.08 172.661 1313.83 Q172.661 1322.56 169.582 1327.16 Q166.527 1331.75 160.717 1331.75 Q154.906 1331.75 151.828 1327.16 Q148.772 1322.56 148.772 1313.83 Q148.772 1305.08 151.828 1300.5 Q154.906 1295.89 160.717 1295.89 Z\" fill=\"#000000\" fill-rule=\"evenodd\" fill-opacity=\"1\" /><path clip-path=\"url(#clip510)\" d=\"M134.721 1020.91 Q138.078 1021.63 139.953 1023.9 Q141.851 1026.17 141.851 1029.5 Q141.851 1034.62 138.332 1037.42 Q134.814 1040.22 128.333 1040.22 Q126.157 1040.22 123.842 1039.78 Q121.55 1039.36 119.096 1038.51 L119.096 1033.99 Q121.041 1035.13 123.356 1035.71 Q125.67 1036.28 128.194 1036.28 Q132.592 1036.28 134.883 1034.55 Q137.198 1032.81 137.198 1029.5 Q137.198 1026.45 135.045 1024.73 Q132.916 1023 129.096 1023 L125.069 1023 L125.069 1019.16 L129.282 1019.16 Q132.731 1019.16 134.559 1017.79 Q136.388 1016.4 136.388 1013.81 Q136.388 1011.15 134.49 1009.73 Q132.615 1008.3 129.096 1008.3 Q127.175 1008.3 124.976 1008.72 Q122.777 1009.13 120.138 1010.01 L120.138 1005.85 Q122.8 1005.1 125.115 1004.73 Q127.453 1004.36 129.513 1004.36 Q134.837 1004.36 137.939 1006.79 Q141.041 1009.2 141.041 1013.32 Q141.041 1016.19 139.397 1018.18 Q137.754 1020.15 134.721 1020.91 Z\" fill=\"#000000\" fill-rule=\"evenodd\" fill-opacity=\"1\" /><path clip-path=\"url(#clip510)\" d=\"M160.717 1008.07 Q157.106 1008.07 155.277 1011.63 Q153.471 1015.17 153.471 1022.3 Q153.471 1029.41 155.277 1032.97 Q157.106 1036.52 160.717 1036.52 Q164.351 1036.52 166.156 1032.97 Q167.985 1029.41 167.985 1022.3 Q167.985 1015.17 166.156 1011.63 Q164.351 1008.07 160.717 1008.07 M160.717 1004.36 Q166.527 1004.36 169.582 1008.97 Q172.661 1013.55 172.661 1022.3 Q172.661 1031.03 169.582 1035.64 Q166.527 1040.22 160.717 1040.22 Q154.906 1040.22 151.828 1035.64 Q148.772 1031.03 148.772 1022.3 Q148.772 1013.55 151.828 1008.97 Q154.906 1004.36 160.717 1004.36 Z\" fill=\"#000000\" fill-rule=\"evenodd\" fill-opacity=\"1\" /><path clip-path=\"url(#clip510)\" d=\"M133.402 717.536 L121.596 735.985 L133.402 735.985 L133.402 717.536 M132.175 713.462 L138.055 713.462 L138.055 735.985 L142.985 735.985 L142.985 739.874 L138.055 739.874 L138.055 748.022 L133.402 748.022 L133.402 739.874 L117.8 739.874 L117.8 735.36 L132.175 713.462 Z\" fill=\"#000000\" fill-rule=\"evenodd\" fill-opacity=\"1\" /><path clip-path=\"url(#clip510)\" d=\"M160.717 716.54 Q157.106 716.54 155.277 720.105 Q153.471 723.647 153.471 730.776 Q153.471 737.883 155.277 741.448 Q157.106 744.989 160.717 744.989 Q164.351 744.989 166.156 741.448 Q167.985 737.883 167.985 730.776 Q167.985 723.647 166.156 720.105 Q164.351 716.54 160.717 716.54 M160.717 712.837 Q166.527 712.837 169.582 717.443 Q172.661 722.026 172.661 730.776 Q172.661 739.503 169.582 744.11 Q166.527 748.693 160.717 748.693 Q154.906 748.693 151.828 744.11 Q148.772 739.503 148.772 730.776 Q148.772 722.026 151.828 717.443 Q154.906 712.837 160.717 712.837 Z\" fill=\"#000000\" fill-rule=\"evenodd\" fill-opacity=\"1\" /><path clip-path=\"url(#clip510)\" d=\"M120.601 421.935 L138.957 421.935 L138.957 425.87 L124.883 425.87 L124.883 434.342 Q125.902 433.995 126.92 433.833 Q127.939 433.647 128.958 433.647 Q134.745 433.647 138.124 436.819 Q141.504 439.99 141.504 445.407 Q141.504 450.985 138.032 454.087 Q134.559 457.166 128.24 457.166 Q126.064 457.166 123.795 456.795 Q121.55 456.425 119.143 455.684 L119.143 450.985 Q121.226 452.12 123.448 452.675 Q125.67 453.231 128.147 453.231 Q132.152 453.231 134.49 451.124 Q136.828 449.018 136.828 445.407 Q136.828 441.796 134.49 439.689 Q132.152 437.583 128.147 437.583 Q126.272 437.583 124.397 437.999 Q122.546 438.416 120.601 439.296 L120.601 421.935 Z\" fill=\"#000000\" fill-rule=\"evenodd\" fill-opacity=\"1\" /><path clip-path=\"url(#clip510)\" d=\"M160.717 425.013 Q157.106 425.013 155.277 428.578 Q153.471 432.12 153.471 439.249 Q153.471 446.356 155.277 449.92 Q157.106 453.462 160.717 453.462 Q164.351 453.462 166.156 449.92 Q167.985 446.356 167.985 439.249 Q167.985 432.12 166.156 428.578 Q164.351 425.013 160.717 425.013 M160.717 421.31 Q166.527 421.31 169.582 425.916 Q172.661 430.499 172.661 439.249 Q172.661 447.976 169.582 452.583 Q166.527 457.166 160.717 457.166 Q154.906 457.166 151.828 452.583 Q148.772 447.976 148.772 439.249 Q148.772 430.499 151.828 425.916 Q154.906 421.31 160.717 421.31 Z\" fill=\"#000000\" fill-rule=\"evenodd\" fill-opacity=\"1\" /><path clip-path=\"url(#clip510)\" d=\"M131.133 145.824 Q127.985 145.824 126.133 147.977 Q124.305 150.13 124.305 153.88 Q124.305 157.606 126.133 159.782 Q127.985 161.935 131.133 161.935 Q134.282 161.935 136.11 159.782 Q137.962 157.606 137.962 153.88 Q137.962 150.13 136.11 147.977 Q134.282 145.824 131.133 145.824 M140.416 131.171 L140.416 135.431 Q138.657 134.597 136.851 134.157 Q135.069 133.718 133.309 133.718 Q128.68 133.718 126.226 136.843 Q123.795 139.968 123.448 146.287 Q124.814 144.273 126.874 143.208 Q128.934 142.12 131.411 142.12 Q136.62 142.12 139.629 145.292 Q142.661 148.44 142.661 153.88 Q142.661 159.204 139.513 162.421 Q136.365 165.639 131.133 165.639 Q125.138 165.639 121.967 161.055 Q118.796 156.449 118.796 147.722 Q118.796 139.528 122.684 134.667 Q126.573 129.782 133.124 129.782 Q134.883 129.782 136.666 130.13 Q138.471 130.477 140.416 131.171 Z\" fill=\"#000000\" fill-rule=\"evenodd\" fill-opacity=\"1\" /><path clip-path=\"url(#clip510)\" d=\"M160.717 133.486 Q157.106 133.486 155.277 137.051 Q153.471 140.593 153.471 147.722 Q153.471 154.829 155.277 158.393 Q157.106 161.935 160.717 161.935 Q164.351 161.935 166.156 158.393 Q167.985 154.829 167.985 147.722 Q167.985 140.593 166.156 137.051 Q164.351 133.486 160.717 133.486 M160.717 129.782 Q166.527 129.782 169.582 134.389 Q172.661 138.972 172.661 147.722 Q172.661 156.449 169.582 161.055 Q166.527 165.639 160.717 165.639 Q154.906 165.639 151.828 161.055 Q148.772 156.449 148.772 147.722 Q148.772 138.972 151.828 134.389 Q154.906 129.782 160.717 129.782 Z\" fill=\"#000000\" fill-rule=\"evenodd\" fill-opacity=\"1\" /><path clip-path=\"url(#clip510)\" d=\"M12.8242 1027.32 L12.8242 1020.41 L32.3669 1007.23 L12.8242 994.153 L12.8242 987.246 L37.7141 1004.05 L60.3442 1004.05 L60.3442 1010.51 L37.7141 1010.51 L12.8242 1027.32 Z\" fill=\"#000000\" fill-rule=\"evenodd\" fill-opacity=\"1\" /><circle clip-path=\"url(#clip512)\" cx=\"878.831\" cy=\"1647.18\" r=\"14.4\" fill=\"#009af9\" fill-rule=\"evenodd\" fill-opacity=\"1\" stroke=\"#000000\" stroke-opacity=\"1\" stroke-width=\"4.32\"/>\n",
       "<circle clip-path=\"url(#clip512)\" cx=\"1444.52\" cy=\"1898.67\" r=\"14.4\" fill=\"#009af9\" fill-rule=\"evenodd\" fill-opacity=\"1\" stroke=\"#000000\" stroke-opacity=\"1\" stroke-width=\"4.32\"/>\n",
       "<circle clip-path=\"url(#clip512)\" cx=\"2321.48\" cy=\"1202.14\" r=\"14.4\" fill=\"#009af9\" fill-rule=\"evenodd\" fill-opacity=\"1\" stroke=\"#000000\" stroke-opacity=\"1\" stroke-width=\"4.32\"/>\n",
       "<circle clip-path=\"url(#clip512)\" cx=\"2136.87\" cy=\"1507.87\" r=\"14.4\" fill=\"#009af9\" fill-rule=\"evenodd\" fill-opacity=\"1\" stroke=\"#000000\" stroke-opacity=\"1\" stroke-width=\"4.32\"/>\n",
       "<circle clip-path=\"url(#clip512)\" cx=\"1392.37\" cy=\"1884.9\" r=\"14.4\" fill=\"#009af9\" fill-rule=\"evenodd\" fill-opacity=\"1\" stroke=\"#000000\" stroke-opacity=\"1\" stroke-width=\"4.32\"/>\n",
       "<circle clip-path=\"url(#clip512)\" cx=\"1148.33\" cy=\"1829.85\" r=\"14.4\" fill=\"#009af9\" fill-rule=\"evenodd\" fill-opacity=\"1\" stroke=\"#000000\" stroke-opacity=\"1\" stroke-width=\"4.32\"/>\n",
       "<circle clip-path=\"url(#clip512)\" cx=\"1478.02\" cy=\"1873.1\" r=\"14.4\" fill=\"#009af9\" fill-rule=\"evenodd\" fill-opacity=\"1\" stroke=\"#000000\" stroke-opacity=\"1\" stroke-width=\"4.32\"/>\n",
       "<circle clip-path=\"url(#clip512)\" cx=\"1438.18\" cy=\"1858.83\" r=\"14.4\" fill=\"#009af9\" fill-rule=\"evenodd\" fill-opacity=\"1\" stroke=\"#000000\" stroke-opacity=\"1\" stroke-width=\"4.32\"/>\n",
       "<circle clip-path=\"url(#clip512)\" cx=\"1915.41\" cy=\"1731.09\" r=\"14.4\" fill=\"#009af9\" fill-rule=\"evenodd\" fill-opacity=\"1\" stroke=\"#000000\" stroke-opacity=\"1\" stroke-width=\"4.32\"/>\n",
       "<circle clip-path=\"url(#clip512)\" cx=\"711.164\" cy=\"1546.56\" r=\"14.4\" fill=\"#009af9\" fill-rule=\"evenodd\" fill-opacity=\"1\" stroke=\"#000000\" stroke-opacity=\"1\" stroke-width=\"4.32\"/>\n",
       "<circle clip-path=\"url(#clip512)\" cx=\"1068.39\" cy=\"1768.42\" r=\"14.4\" fill=\"#009af9\" fill-rule=\"evenodd\" fill-opacity=\"1\" stroke=\"#000000\" stroke-opacity=\"1\" stroke-width=\"4.32\"/>\n",
       "<circle clip-path=\"url(#clip512)\" cx=\"1688.36\" cy=\"1867.64\" r=\"14.4\" fill=\"#009af9\" fill-rule=\"evenodd\" fill-opacity=\"1\" stroke=\"#000000\" stroke-opacity=\"1\" stroke-width=\"4.32\"/>\n",
       "<circle clip-path=\"url(#clip512)\" cx=\"935.372\" cy=\"1701.19\" r=\"14.4\" fill=\"#009af9\" fill-rule=\"evenodd\" fill-opacity=\"1\" stroke=\"#000000\" stroke-opacity=\"1\" stroke-width=\"4.32\"/>\n",
       "<circle clip-path=\"url(#clip512)\" cx=\"1535.43\" cy=\"1876.78\" r=\"14.4\" fill=\"#009af9\" fill-rule=\"evenodd\" fill-opacity=\"1\" stroke=\"#000000\" stroke-opacity=\"1\" stroke-width=\"4.32\"/>\n",
       "<circle clip-path=\"url(#clip512)\" cx=\"1638.29\" cy=\"1881.93\" r=\"14.4\" fill=\"#009af9\" fill-rule=\"evenodd\" fill-opacity=\"1\" stroke=\"#000000\" stroke-opacity=\"1\" stroke-width=\"4.32\"/>\n",
       "<circle clip-path=\"url(#clip512)\" cx=\"1645.17\" cy=\"1869.63\" r=\"14.4\" fill=\"#009af9\" fill-rule=\"evenodd\" fill-opacity=\"1\" stroke=\"#000000\" stroke-opacity=\"1\" stroke-width=\"4.32\"/>\n",
       "<circle clip-path=\"url(#clip512)\" cx=\"1111.32\" cy=\"1812.11\" r=\"14.4\" fill=\"#009af9\" fill-rule=\"evenodd\" fill-opacity=\"1\" stroke=\"#000000\" stroke-opacity=\"1\" stroke-width=\"4.32\"/>\n",
       "<circle clip-path=\"url(#clip512)\" cx=\"1760.94\" cy=\"1844.36\" r=\"14.4\" fill=\"#009af9\" fill-rule=\"evenodd\" fill-opacity=\"1\" stroke=\"#000000\" stroke-opacity=\"1\" stroke-width=\"4.32\"/>\n",
       "<circle clip-path=\"url(#clip512)\" cx=\"1061.53\" cy=\"1780.26\" r=\"14.4\" fill=\"#009af9\" fill-rule=\"evenodd\" fill-opacity=\"1\" stroke=\"#000000\" stroke-opacity=\"1\" stroke-width=\"4.32\"/>\n",
       "<circle clip-path=\"url(#clip512)\" cx=\"1564.28\" cy=\"1892.4\" r=\"14.4\" fill=\"#009af9\" fill-rule=\"evenodd\" fill-opacity=\"1\" stroke=\"#000000\" stroke-opacity=\"1\" stroke-width=\"4.32\"/>\n",
       "<circle clip-path=\"url(#clip512)\" cx=\"1692.66\" cy=\"1834.11\" r=\"14.4\" fill=\"#009af9\" fill-rule=\"evenodd\" fill-opacity=\"1\" stroke=\"#000000\" stroke-opacity=\"1\" stroke-width=\"4.32\"/>\n",
       "<circle clip-path=\"url(#clip512)\" cx=\"2230.48\" cy=\"1361.34\" r=\"14.4\" fill=\"#009af9\" fill-rule=\"evenodd\" fill-opacity=\"1\" stroke=\"#000000\" stroke-opacity=\"1\" stroke-width=\"4.32\"/>\n",
       "<circle clip-path=\"url(#clip512)\" cx=\"1617.7\" cy=\"1855.6\" r=\"14.4\" fill=\"#009af9\" fill-rule=\"evenodd\" fill-opacity=\"1\" stroke=\"#000000\" stroke-opacity=\"1\" stroke-width=\"4.32\"/>\n",
       "<circle clip-path=\"url(#clip512)\" cx=\"1406.22\" cy=\"1880.61\" r=\"14.4\" fill=\"#009af9\" fill-rule=\"evenodd\" fill-opacity=\"1\" stroke=\"#000000\" stroke-opacity=\"1\" stroke-width=\"4.32\"/>\n",
       "<circle clip-path=\"url(#clip512)\" cx=\"289.924\" cy=\"1147.9\" r=\"14.4\" fill=\"#009af9\" fill-rule=\"evenodd\" fill-opacity=\"1\" stroke=\"#000000\" stroke-opacity=\"1\" stroke-width=\"4.32\"/>\n",
       "<circle clip-path=\"url(#clip512)\" cx=\"1374.95\" cy=\"1888.4\" r=\"14.4\" fill=\"#009af9\" fill-rule=\"evenodd\" fill-opacity=\"1\" stroke=\"#000000\" stroke-opacity=\"1\" stroke-width=\"4.32\"/>\n",
       "<circle clip-path=\"url(#clip512)\" cx=\"2127.29\" cy=\"1498.15\" r=\"14.4\" fill=\"#009af9\" fill-rule=\"evenodd\" fill-opacity=\"1\" stroke=\"#000000\" stroke-opacity=\"1\" stroke-width=\"4.32\"/>\n",
       "<circle clip-path=\"url(#clip512)\" cx=\"1702.06\" cy=\"1854.5\" r=\"14.4\" fill=\"#009af9\" fill-rule=\"evenodd\" fill-opacity=\"1\" stroke=\"#000000\" stroke-opacity=\"1\" stroke-width=\"4.32\"/>\n",
       "<circle clip-path=\"url(#clip512)\" cx=\"640.379\" cy=\"1467.23\" r=\"14.4\" fill=\"#009af9\" fill-rule=\"evenodd\" fill-opacity=\"1\" stroke=\"#000000\" stroke-opacity=\"1\" stroke-width=\"4.32\"/>\n",
       "<circle clip-path=\"url(#clip512)\" cx=\"2353.88\" cy=\"1143.56\" r=\"14.4\" fill=\"#009af9\" fill-rule=\"evenodd\" fill-opacity=\"1\" stroke=\"#000000\" stroke-opacity=\"1\" stroke-width=\"4.32\"/>\n",
       "<circle clip-path=\"url(#clip512)\" cx=\"2105.68\" cy=\"1524.76\" r=\"14.4\" fill=\"#009af9\" fill-rule=\"evenodd\" fill-opacity=\"1\" stroke=\"#000000\" stroke-opacity=\"1\" stroke-width=\"4.32\"/>\n",
       "<circle clip-path=\"url(#clip512)\" cx=\"866.755\" cy=\"1630.56\" r=\"14.4\" fill=\"#009af9\" fill-rule=\"evenodd\" fill-opacity=\"1\" stroke=\"#000000\" stroke-opacity=\"1\" stroke-width=\"4.32\"/>\n",
       "<circle clip-path=\"url(#clip512)\" cx=\"1159.88\" cy=\"1824.07\" r=\"14.4\" fill=\"#009af9\" fill-rule=\"evenodd\" fill-opacity=\"1\" stroke=\"#000000\" stroke-opacity=\"1\" stroke-width=\"4.32\"/>\n",
       "<circle clip-path=\"url(#clip512)\" cx=\"872.401\" cy=\"1678.42\" r=\"14.4\" fill=\"#009af9\" fill-rule=\"evenodd\" fill-opacity=\"1\" stroke=\"#000000\" stroke-opacity=\"1\" stroke-width=\"4.32\"/>\n",
       "<circle clip-path=\"url(#clip512)\" cx=\"699.588\" cy=\"1522.29\" r=\"14.4\" fill=\"#009af9\" fill-rule=\"evenodd\" fill-opacity=\"1\" stroke=\"#000000\" stroke-opacity=\"1\" stroke-width=\"4.32\"/>\n",
       "<circle clip-path=\"url(#clip512)\" cx=\"1382.54\" cy=\"1876.34\" r=\"14.4\" fill=\"#009af9\" fill-rule=\"evenodd\" fill-opacity=\"1\" stroke=\"#000000\" stroke-opacity=\"1\" stroke-width=\"4.32\"/>\n",
       "<circle clip-path=\"url(#clip512)\" cx=\"1072.79\" cy=\"1791.32\" r=\"14.4\" fill=\"#009af9\" fill-rule=\"evenodd\" fill-opacity=\"1\" stroke=\"#000000\" stroke-opacity=\"1\" stroke-width=\"4.32\"/>\n",
       "<circle clip-path=\"url(#clip512)\" cx=\"1458.09\" cy=\"1901.7\" r=\"14.4\" fill=\"#009af9\" fill-rule=\"evenodd\" fill-opacity=\"1\" stroke=\"#000000\" stroke-opacity=\"1\" stroke-width=\"4.32\"/>\n",
       "<circle clip-path=\"url(#clip512)\" cx=\"2758.69\" cy=\"141.341\" r=\"14.4\" fill=\"#009af9\" fill-rule=\"evenodd\" fill-opacity=\"1\" stroke=\"#000000\" stroke-opacity=\"1\" stroke-width=\"4.32\"/>\n",
       "<circle clip-path=\"url(#clip512)\" cx=\"1023.84\" cy=\"1788.4\" r=\"14.4\" fill=\"#009af9\" fill-rule=\"evenodd\" fill-opacity=\"1\" stroke=\"#000000\" stroke-opacity=\"1\" stroke-width=\"4.32\"/>\n",
       "<circle clip-path=\"url(#clip512)\" cx=\"2611.02\" cy=\"539.143\" r=\"14.4\" fill=\"#009af9\" fill-rule=\"evenodd\" fill-opacity=\"1\" stroke=\"#000000\" stroke-opacity=\"1\" stroke-width=\"4.32\"/>\n",
       "<circle clip-path=\"url(#clip512)\" cx=\"1683.61\" cy=\"1881.25\" r=\"14.4\" fill=\"#009af9\" fill-rule=\"evenodd\" fill-opacity=\"1\" stroke=\"#000000\" stroke-opacity=\"1\" stroke-width=\"4.32\"/>\n",
       "<circle clip-path=\"url(#clip512)\" cx=\"1220.89\" cy=\"1845.04\" r=\"14.4\" fill=\"#009af9\" fill-rule=\"evenodd\" fill-opacity=\"1\" stroke=\"#000000\" stroke-opacity=\"1\" stroke-width=\"4.32\"/>\n",
       "<circle clip-path=\"url(#clip512)\" cx=\"1023.39\" cy=\"1732.9\" r=\"14.4\" fill=\"#009af9\" fill-rule=\"evenodd\" fill-opacity=\"1\" stroke=\"#000000\" stroke-opacity=\"1\" stroke-width=\"4.32\"/>\n",
       "<circle clip-path=\"url(#clip512)\" cx=\"1580.86\" cy=\"1896.56\" r=\"14.4\" fill=\"#009af9\" fill-rule=\"evenodd\" fill-opacity=\"1\" stroke=\"#000000\" stroke-opacity=\"1\" stroke-width=\"4.32\"/>\n",
       "<circle clip-path=\"url(#clip512)\" cx=\"2603.36\" cy=\"585.29\" r=\"14.4\" fill=\"#009af9\" fill-rule=\"evenodd\" fill-opacity=\"1\" stroke=\"#000000\" stroke-opacity=\"1\" stroke-width=\"4.32\"/>\n",
       "<circle clip-path=\"url(#clip512)\" cx=\"1304.29\" cy=\"1881.27\" r=\"14.4\" fill=\"#009af9\" fill-rule=\"evenodd\" fill-opacity=\"1\" stroke=\"#000000\" stroke-opacity=\"1\" stroke-width=\"4.32\"/>\n",
       "<circle clip-path=\"url(#clip512)\" cx=\"1447.46\" cy=\"1905.49\" r=\"14.4\" fill=\"#009af9\" fill-rule=\"evenodd\" fill-opacity=\"1\" stroke=\"#000000\" stroke-opacity=\"1\" stroke-width=\"4.32\"/>\n",
       "<circle clip-path=\"url(#clip512)\" cx=\"1624.01\" cy=\"1891.96\" r=\"14.4\" fill=\"#009af9\" fill-rule=\"evenodd\" fill-opacity=\"1\" stroke=\"#000000\" stroke-opacity=\"1\" stroke-width=\"4.32\"/>\n",
       "<circle clip-path=\"url(#clip512)\" cx=\"1444.77\" cy=\"1899.56\" r=\"14.4\" fill=\"#009af9\" fill-rule=\"evenodd\" fill-opacity=\"1\" stroke=\"#000000\" stroke-opacity=\"1\" stroke-width=\"4.32\"/>\n",
       "<circle clip-path=\"url(#clip512)\" cx=\"1244.58\" cy=\"1870.96\" r=\"14.4\" fill=\"#009af9\" fill-rule=\"evenodd\" fill-opacity=\"1\" stroke=\"#000000\" stroke-opacity=\"1\" stroke-width=\"4.32\"/>\n",
       "<circle clip-path=\"url(#clip512)\" cx=\"1610.44\" cy=\"1911.03\" r=\"14.4\" fill=\"#009af9\" fill-rule=\"evenodd\" fill-opacity=\"1\" stroke=\"#000000\" stroke-opacity=\"1\" stroke-width=\"4.32\"/>\n",
       "<circle clip-path=\"url(#clip512)\" cx=\"1062.98\" cy=\"1776.56\" r=\"14.4\" fill=\"#009af9\" fill-rule=\"evenodd\" fill-opacity=\"1\" stroke=\"#000000\" stroke-opacity=\"1\" stroke-width=\"4.32\"/>\n",
       "<circle clip-path=\"url(#clip512)\" cx=\"1240.47\" cy=\"1840.92\" r=\"14.4\" fill=\"#009af9\" fill-rule=\"evenodd\" fill-opacity=\"1\" stroke=\"#000000\" stroke-opacity=\"1\" stroke-width=\"4.32\"/>\n",
       "<circle clip-path=\"url(#clip512)\" cx=\"1478.57\" cy=\"1902.88\" r=\"14.4\" fill=\"#009af9\" fill-rule=\"evenodd\" fill-opacity=\"1\" stroke=\"#000000\" stroke-opacity=\"1\" stroke-width=\"4.32\"/>\n",
       "<circle clip-path=\"url(#clip512)\" cx=\"1567.4\" cy=\"1873.44\" r=\"14.4\" fill=\"#009af9\" fill-rule=\"evenodd\" fill-opacity=\"1\" stroke=\"#000000\" stroke-opacity=\"1\" stroke-width=\"4.32\"/>\n",
       "<circle clip-path=\"url(#clip512)\" cx=\"1245.88\" cy=\"1849.91\" r=\"14.4\" fill=\"#009af9\" fill-rule=\"evenodd\" fill-opacity=\"1\" stroke=\"#000000\" stroke-opacity=\"1\" stroke-width=\"4.32\"/>\n",
       "<circle clip-path=\"url(#clip512)\" cx=\"1978.6\" cy=\"1699.9\" r=\"14.4\" fill=\"#009af9\" fill-rule=\"evenodd\" fill-opacity=\"1\" stroke=\"#000000\" stroke-opacity=\"1\" stroke-width=\"4.32\"/>\n",
       "<circle clip-path=\"url(#clip512)\" cx=\"1676.45\" cy=\"1875.52\" r=\"14.4\" fill=\"#009af9\" fill-rule=\"evenodd\" fill-opacity=\"1\" stroke=\"#000000\" stroke-opacity=\"1\" stroke-width=\"4.32\"/>\n",
       "<circle clip-path=\"url(#clip512)\" cx=\"1878.84\" cy=\"1752.22\" r=\"14.4\" fill=\"#009af9\" fill-rule=\"evenodd\" fill-opacity=\"1\" stroke=\"#000000\" stroke-opacity=\"1\" stroke-width=\"4.32\"/>\n",
       "<circle clip-path=\"url(#clip512)\" cx=\"1477.32\" cy=\"1904.79\" r=\"14.4\" fill=\"#009af9\" fill-rule=\"evenodd\" fill-opacity=\"1\" stroke=\"#000000\" stroke-opacity=\"1\" stroke-width=\"4.32\"/>\n",
       "<circle clip-path=\"url(#clip512)\" cx=\"1655.14\" cy=\"1860.52\" r=\"14.4\" fill=\"#009af9\" fill-rule=\"evenodd\" fill-opacity=\"1\" stroke=\"#000000\" stroke-opacity=\"1\" stroke-width=\"4.32\"/>\n",
       "<circle clip-path=\"url(#clip512)\" cx=\"1602.5\" cy=\"1895.56\" r=\"14.4\" fill=\"#009af9\" fill-rule=\"evenodd\" fill-opacity=\"1\" stroke=\"#000000\" stroke-opacity=\"1\" stroke-width=\"4.32\"/>\n",
       "<circle clip-path=\"url(#clip512)\" cx=\"1455.52\" cy=\"1890.28\" r=\"14.4\" fill=\"#009af9\" fill-rule=\"evenodd\" fill-opacity=\"1\" stroke=\"#000000\" stroke-opacity=\"1\" stroke-width=\"4.32\"/>\n",
       "<circle clip-path=\"url(#clip512)\" cx=\"652.16\" cy=\"1471.94\" r=\"14.4\" fill=\"#009af9\" fill-rule=\"evenodd\" fill-opacity=\"1\" stroke=\"#000000\" stroke-opacity=\"1\" stroke-width=\"4.32\"/>\n",
       "<circle clip-path=\"url(#clip512)\" cx=\"1692.65\" cy=\"1848.59\" r=\"14.4\" fill=\"#009af9\" fill-rule=\"evenodd\" fill-opacity=\"1\" stroke=\"#000000\" stroke-opacity=\"1\" stroke-width=\"4.32\"/>\n",
       "<circle clip-path=\"url(#clip512)\" cx=\"1705.67\" cy=\"1857.15\" r=\"14.4\" fill=\"#009af9\" fill-rule=\"evenodd\" fill-opacity=\"1\" stroke=\"#000000\" stroke-opacity=\"1\" stroke-width=\"4.32\"/>\n",
       "<circle clip-path=\"url(#clip512)\" cx=\"878.764\" cy=\"1667.65\" r=\"14.4\" fill=\"#009af9\" fill-rule=\"evenodd\" fill-opacity=\"1\" stroke=\"#000000\" stroke-opacity=\"1\" stroke-width=\"4.32\"/>\n",
       "<circle clip-path=\"url(#clip512)\" cx=\"2536.6\" cy=\"701.872\" r=\"14.4\" fill=\"#009af9\" fill-rule=\"evenodd\" fill-opacity=\"1\" stroke=\"#000000\" stroke-opacity=\"1\" stroke-width=\"4.32\"/>\n",
       "<circle clip-path=\"url(#clip512)\" cx=\"1281.75\" cy=\"1842.97\" r=\"14.4\" fill=\"#009af9\" fill-rule=\"evenodd\" fill-opacity=\"1\" stroke=\"#000000\" stroke-opacity=\"1\" stroke-width=\"4.32\"/>\n",
       "<circle clip-path=\"url(#clip512)\" cx=\"1052.88\" cy=\"1774.93\" r=\"14.4\" fill=\"#009af9\" fill-rule=\"evenodd\" fill-opacity=\"1\" stroke=\"#000000\" stroke-opacity=\"1\" stroke-width=\"4.32\"/>\n",
       "<circle clip-path=\"url(#clip512)\" cx=\"1657.05\" cy=\"1874.72\" r=\"14.4\" fill=\"#009af9\" fill-rule=\"evenodd\" fill-opacity=\"1\" stroke=\"#000000\" stroke-opacity=\"1\" stroke-width=\"4.32\"/>\n",
       "<circle clip-path=\"url(#clip512)\" cx=\"1597.01\" cy=\"1881.72\" r=\"14.4\" fill=\"#009af9\" fill-rule=\"evenodd\" fill-opacity=\"1\" stroke=\"#000000\" stroke-opacity=\"1\" stroke-width=\"4.32\"/>\n",
       "<circle clip-path=\"url(#clip512)\" cx=\"2122.96\" cy=\"1514.74\" r=\"14.4\" fill=\"#009af9\" fill-rule=\"evenodd\" fill-opacity=\"1\" stroke=\"#000000\" stroke-opacity=\"1\" stroke-width=\"4.32\"/>\n",
       "<circle clip-path=\"url(#clip512)\" cx=\"1361.53\" cy=\"1898.22\" r=\"14.4\" fill=\"#009af9\" fill-rule=\"evenodd\" fill-opacity=\"1\" stroke=\"#000000\" stroke-opacity=\"1\" stroke-width=\"4.32\"/>\n",
       "<circle clip-path=\"url(#clip512)\" cx=\"1728.54\" cy=\"1836.9\" r=\"14.4\" fill=\"#009af9\" fill-rule=\"evenodd\" fill-opacity=\"1\" stroke=\"#000000\" stroke-opacity=\"1\" stroke-width=\"4.32\"/>\n",
       "<circle clip-path=\"url(#clip512)\" cx=\"1546\" cy=\"1883.59\" r=\"14.4\" fill=\"#009af9\" fill-rule=\"evenodd\" fill-opacity=\"1\" stroke=\"#000000\" stroke-opacity=\"1\" stroke-width=\"4.32\"/>\n",
       "<circle clip-path=\"url(#clip512)\" cx=\"1498.49\" cy=\"1903.39\" r=\"14.4\" fill=\"#009af9\" fill-rule=\"evenodd\" fill-opacity=\"1\" stroke=\"#000000\" stroke-opacity=\"1\" stroke-width=\"4.32\"/>\n",
       "<circle clip-path=\"url(#clip512)\" cx=\"2383.88\" cy=\"1081.38\" r=\"14.4\" fill=\"#009af9\" fill-rule=\"evenodd\" fill-opacity=\"1\" stroke=\"#000000\" stroke-opacity=\"1\" stroke-width=\"4.32\"/>\n",
       "<circle clip-path=\"url(#clip512)\" cx=\"982.14\" cy=\"1738.7\" r=\"14.4\" fill=\"#009af9\" fill-rule=\"evenodd\" fill-opacity=\"1\" stroke=\"#000000\" stroke-opacity=\"1\" stroke-width=\"4.32\"/>\n",
       "<circle clip-path=\"url(#clip512)\" cx=\"849.654\" cy=\"1640.93\" r=\"14.4\" fill=\"#009af9\" fill-rule=\"evenodd\" fill-opacity=\"1\" stroke=\"#000000\" stroke-opacity=\"1\" stroke-width=\"4.32\"/>\n",
       "<circle clip-path=\"url(#clip512)\" cx=\"2062.51\" cy=\"1581.73\" r=\"14.4\" fill=\"#009af9\" fill-rule=\"evenodd\" fill-opacity=\"1\" stroke=\"#000000\" stroke-opacity=\"1\" stroke-width=\"4.32\"/>\n",
       "<circle clip-path=\"url(#clip512)\" cx=\"1465.53\" cy=\"1878.69\" r=\"14.4\" fill=\"#009af9\" fill-rule=\"evenodd\" fill-opacity=\"1\" stroke=\"#000000\" stroke-opacity=\"1\" stroke-width=\"4.32\"/>\n",
       "<circle clip-path=\"url(#clip512)\" cx=\"1574.57\" cy=\"1892.18\" r=\"14.4\" fill=\"#009af9\" fill-rule=\"evenodd\" fill-opacity=\"1\" stroke=\"#000000\" stroke-opacity=\"1\" stroke-width=\"4.32\"/>\n",
       "<circle clip-path=\"url(#clip512)\" cx=\"1291.01\" cy=\"1884.26\" r=\"14.4\" fill=\"#009af9\" fill-rule=\"evenodd\" fill-opacity=\"1\" stroke=\"#000000\" stroke-opacity=\"1\" stroke-width=\"4.32\"/>\n",
       "<circle clip-path=\"url(#clip512)\" cx=\"978.741\" cy=\"1747.83\" r=\"14.4\" fill=\"#009af9\" fill-rule=\"evenodd\" fill-opacity=\"1\" stroke=\"#000000\" stroke-opacity=\"1\" stroke-width=\"4.32\"/>\n",
       "<circle clip-path=\"url(#clip512)\" cx=\"723.474\" cy=\"1538.66\" r=\"14.4\" fill=\"#009af9\" fill-rule=\"evenodd\" fill-opacity=\"1\" stroke=\"#000000\" stroke-opacity=\"1\" stroke-width=\"4.32\"/>\n",
       "<circle clip-path=\"url(#clip512)\" cx=\"1302.46\" cy=\"1901.26\" r=\"14.4\" fill=\"#009af9\" fill-rule=\"evenodd\" fill-opacity=\"1\" stroke=\"#000000\" stroke-opacity=\"1\" stroke-width=\"4.32\"/>\n",
       "<circle clip-path=\"url(#clip512)\" cx=\"1165.02\" cy=\"1798.08\" r=\"14.4\" fill=\"#009af9\" fill-rule=\"evenodd\" fill-opacity=\"1\" stroke=\"#000000\" stroke-opacity=\"1\" stroke-width=\"4.32\"/>\n",
       "<circle clip-path=\"url(#clip512)\" cx=\"1289.01\" cy=\"1856.43\" r=\"14.4\" fill=\"#009af9\" fill-rule=\"evenodd\" fill-opacity=\"1\" stroke=\"#000000\" stroke-opacity=\"1\" stroke-width=\"4.32\"/>\n",
       "<circle clip-path=\"url(#clip512)\" cx=\"536.274\" cy=\"1378.33\" r=\"14.4\" fill=\"#009af9\" fill-rule=\"evenodd\" fill-opacity=\"1\" stroke=\"#000000\" stroke-opacity=\"1\" stroke-width=\"4.32\"/>\n",
       "<circle clip-path=\"url(#clip512)\" cx=\"1083.57\" cy=\"1763.4\" r=\"14.4\" fill=\"#009af9\" fill-rule=\"evenodd\" fill-opacity=\"1\" stroke=\"#000000\" stroke-opacity=\"1\" stroke-width=\"4.32\"/>\n",
       "<circle clip-path=\"url(#clip512)\" cx=\"730.128\" cy=\"1566.01\" r=\"14.4\" fill=\"#009af9\" fill-rule=\"evenodd\" fill-opacity=\"1\" stroke=\"#000000\" stroke-opacity=\"1\" stroke-width=\"4.32\"/>\n",
       "<circle clip-path=\"url(#clip512)\" cx=\"1826.3\" cy=\"1788.59\" r=\"14.4\" fill=\"#009af9\" fill-rule=\"evenodd\" fill-opacity=\"1\" stroke=\"#000000\" stroke-opacity=\"1\" stroke-width=\"4.32\"/>\n",
       "<circle clip-path=\"url(#clip512)\" cx=\"1453.9\" cy=\"1912.98\" r=\"14.4\" fill=\"#009af9\" fill-rule=\"evenodd\" fill-opacity=\"1\" stroke=\"#000000\" stroke-opacity=\"1\" stroke-width=\"4.32\"/>\n",
       "<circle clip-path=\"url(#clip512)\" cx=\"1505.92\" cy=\"1868.37\" r=\"14.4\" fill=\"#009af9\" fill-rule=\"evenodd\" fill-opacity=\"1\" stroke=\"#000000\" stroke-opacity=\"1\" stroke-width=\"4.32\"/>\n",
       "<circle clip-path=\"url(#clip512)\" cx=\"390.102\" cy=\"1254.39\" r=\"14.4\" fill=\"#009af9\" fill-rule=\"evenodd\" fill-opacity=\"1\" stroke=\"#000000\" stroke-opacity=\"1\" stroke-width=\"4.32\"/>\n",
       "<circle clip-path=\"url(#clip512)\" cx=\"1229.51\" cy=\"1839.1\" r=\"14.4\" fill=\"#009af9\" fill-rule=\"evenodd\" fill-opacity=\"1\" stroke=\"#000000\" stroke-opacity=\"1\" stroke-width=\"4.32\"/>\n",
       "<circle clip-path=\"url(#clip512)\" cx=\"1591.87\" cy=\"1896.29\" r=\"14.4\" fill=\"#009af9\" fill-rule=\"evenodd\" fill-opacity=\"1\" stroke=\"#000000\" stroke-opacity=\"1\" stroke-width=\"4.32\"/>\n",
       "<circle clip-path=\"url(#clip512)\" cx=\"2000.91\" cy=\"1616.29\" r=\"14.4\" fill=\"#009af9\" fill-rule=\"evenodd\" fill-opacity=\"1\" stroke=\"#000000\" stroke-opacity=\"1\" stroke-width=\"4.32\"/>\n",
       "<polyline clip-path=\"url(#clip512)\" style=\"stroke:#e26f46; stroke-linecap:butt; stroke-linejoin:round; stroke-width:4; stroke-opacity:1; fill:none\" points=\"\n",
       "  289.924,1174.4 390.102,1261.52 536.274,1388.21 640.379,1475.9 652.16,1485.6 699.588,1524.1 711.164,1533.35 723.474,1543.12 730.128,1548.37 849.654,1638.49 \n",
       "  866.755,1650.66 872.401,1654.64 878.764,1659.09 878.831,1659.13 935.372,1697.37 978.741,1725 982.14,1727.09 1023.39,1751.75 1023.84,1752.01 1052.88,1768.41 \n",
       "  1061.53,1773.15 1062.98,1773.93 1068.39,1776.85 1072.79,1779.2 1083.57,1784.87 1111.32,1798.93 1148.33,1816.42 1159.88,1821.57 1165.02,1823.81 1220.89,1846.24 \n",
       "  1229.51,1849.37 1240.47,1853.22 1244.58,1854.63 1245.88,1855.07 1281.75,1866.37 1289.01,1868.46 1291.01,1869.02 1302.46,1872.14 1304.29,1872.62 1361.53,1885.42 \n",
       "  1374.95,1887.76 1382.54,1888.97 1392.37,1890.41 1406.22,1892.21 1438.18,1895.26 1444.52,1895.68 1444.77,1895.69 1447.46,1895.85 1453.9,1896.19 1455.52,1896.26 \n",
       "  1458.09,1896.37 1465.53,1896.63 1477.32,1896.86 1478.02,1896.87 1478.57,1896.87 1498.49,1896.73 1505.92,1896.51 1535.43,1894.75 1546,1893.77 1564.28,1891.63 \n",
       "  1567.4,1891.2 1574.57,1890.17 1580.86,1889.19 1591.87,1887.31 1597.01,1886.36 1602.5,1885.29 1610.44,1883.66 1617.7,1882.06 1624.01,1880.6 1638.29,1877.03 \n",
       "  1645.17,1875.18 1655.14,1872.34 1657.05,1871.77 1676.45,1865.65 1683.61,1863.22 1688.36,1861.55 1692.65,1860 1692.66,1860 1702.06,1856.49 1705.67,1855.1 \n",
       "  1728.54,1845.71 1760.94,1830.65 1826.3,1793.85 1878.84,1757.82 1915.41,1729.21 1978.6,1672.77 2000.91,1650.65 2062.51,1583.49 2105.68,1530.93 2122.96,1508.6 \n",
       "  2127.29,1502.88 2136.87,1490.07 2230.48,1352.43 2321.48,1196.16 2353.88,1134.96 2383.88,1075.62 2536.6,732.244 2603.36,559.586 2611.02,538.858 2758.69,101.586 \n",
       "  \n",
       "  \"/>\n",
       "<path clip-path=\"url(#clip510)\" d=\"\n",
       "M303.091 266.767 L820.684 266.767 L820.684 111.247 L303.091 111.247  Z\n",
       "  \" fill=\"#ffffff\" fill-rule=\"evenodd\" fill-opacity=\"1\"/>\n",
       "<polyline clip-path=\"url(#clip510)\" style=\"stroke:#000000; stroke-linecap:butt; stroke-linejoin:round; stroke-width:4; stroke-opacity:1; fill:none\" points=\"\n",
       "  303.091,266.767 820.684,266.767 820.684,111.247 303.091,111.247 303.091,266.767 \n",
       "  \"/>\n",
       "<circle clip-path=\"url(#clip510)\" cx=\"419.397\" cy=\"163.087\" r=\"23.04\" fill=\"#009af9\" fill-rule=\"evenodd\" fill-opacity=\"1\" stroke=\"#000000\" stroke-opacity=\"1\" stroke-width=\"6.912\"/>\n",
       "<path clip-path=\"url(#clip510)\" d=\"M535.704 145.807 L564.94 145.807 L564.94 149.742 L552.671 149.742 L552.671 180.367 L547.972 180.367 L547.972 149.742 L535.704 149.742 L535.704 145.807 Z\" fill=\"#000000\" fill-rule=\"evenodd\" fill-opacity=\"1\" /><path clip-path=\"url(#clip510)\" d=\"M577.324 158.422 Q576.606 158.006 575.75 157.82 Q574.916 157.612 573.898 157.612 Q570.287 157.612 568.342 159.973 Q566.421 162.311 566.421 166.709 L566.421 180.367 L562.139 180.367 L562.139 154.441 L566.421 154.441 L566.421 158.469 Q567.764 156.107 569.916 154.973 Q572.069 153.816 575.148 153.816 Q575.588 153.816 576.12 153.885 Q576.653 153.932 577.301 154.047 L577.324 158.422 Z\" fill=\"#000000\" fill-rule=\"evenodd\" fill-opacity=\"1\" /><path clip-path=\"url(#clip510)\" d=\"M581.352 170.135 L581.352 154.441 L585.611 154.441 L585.611 169.973 Q585.611 173.654 587.046 175.506 Q588.481 177.334 591.352 177.334 Q594.801 177.334 596.791 175.135 Q598.805 172.936 598.805 169.14 L598.805 154.441 L603.064 154.441 L603.064 180.367 L598.805 180.367 L598.805 176.385 Q597.254 178.746 595.194 179.904 Q593.157 181.038 590.449 181.038 Q585.981 181.038 583.666 178.26 Q581.352 175.482 581.352 170.135 M592.069 153.816 L592.069 153.816 Z\" fill=\"#000000\" fill-rule=\"evenodd\" fill-opacity=\"1\" /><path clip-path=\"url(#clip510)\" d=\"M616.05 147.08 L616.05 154.441 L624.824 154.441 L624.824 157.751 L616.05 157.751 L616.05 171.825 Q616.05 174.996 616.907 175.899 Q617.787 176.802 620.449 176.802 L624.824 176.802 L624.824 180.367 L620.449 180.367 Q615.518 180.367 613.643 178.538 Q611.768 176.686 611.768 171.825 L611.768 157.751 L608.643 157.751 L608.643 154.441 L611.768 154.441 L611.768 147.08 L616.05 147.08 Z\" fill=\"#000000\" fill-rule=\"evenodd\" fill-opacity=\"1\" /><path clip-path=\"url(#clip510)\" d=\"M651.976 164.719 L651.976 180.367 L647.717 180.367 L647.717 164.857 Q647.717 161.177 646.282 159.348 Q644.847 157.52 641.976 157.52 Q638.527 157.52 636.536 159.719 Q634.546 161.918 634.546 165.714 L634.546 180.367 L630.263 180.367 L630.263 144.348 L634.546 144.348 L634.546 158.469 Q636.074 156.131 638.134 154.973 Q640.217 153.816 642.925 153.816 Q647.393 153.816 649.685 156.594 Q651.976 159.348 651.976 164.719 Z\" fill=\"#000000\" fill-rule=\"evenodd\" fill-opacity=\"1\" /><polyline clip-path=\"url(#clip510)\" style=\"stroke:#e26f46; stroke-linecap:butt; stroke-linejoin:round; stroke-width:4; stroke-opacity:1; fill:none\" points=\"\n",
       "  332.167,214.927 506.627,214.927 \n",
       "  \"/>\n",
       "<path clip-path=\"url(#clip510)\" d=\"M540.38 201.489 L540.38 214.475 L546.259 214.475 Q549.523 214.475 551.305 212.785 Q553.088 211.096 553.088 207.971 Q553.088 204.869 551.305 203.179 Q549.523 201.489 546.259 201.489 L540.38 201.489 M535.704 197.647 L546.259 197.647 Q552.069 197.647 555.032 200.285 Q558.018 202.901 558.018 207.971 Q558.018 213.086 555.032 215.702 Q552.069 218.318 546.259 218.318 L540.38 218.318 L540.38 232.207 L535.704 232.207 L535.704 197.647 Z\" fill=\"#000000\" fill-rule=\"evenodd\" fill-opacity=\"1\" /><path clip-path=\"url(#clip510)\" d=\"M578.296 210.262 Q577.578 209.846 576.722 209.66 Q575.889 209.452 574.87 209.452 Q571.259 209.452 569.315 211.813 Q567.393 214.151 567.393 218.549 L567.393 232.207 L563.111 232.207 L563.111 206.281 L567.393 206.281 L567.393 210.309 Q568.736 207.947 570.889 206.813 Q573.041 205.656 576.12 205.656 Q576.56 205.656 577.092 205.725 Q577.625 205.772 578.273 205.887 L578.296 210.262 Z\" fill=\"#000000\" fill-rule=\"evenodd\" fill-opacity=\"1\" /><path clip-path=\"url(#clip510)\" d=\"M603.898 218.179 L603.898 220.262 L584.315 220.262 Q584.592 224.66 586.953 226.975 Q589.338 229.267 593.574 229.267 Q596.027 229.267 598.319 228.665 Q600.634 228.063 602.902 226.859 L602.902 230.887 Q600.611 231.859 598.203 232.369 Q595.796 232.878 593.319 232.878 Q587.115 232.878 583.481 229.267 Q579.87 225.656 579.87 219.498 Q579.87 213.133 583.296 209.406 Q586.745 205.656 592.578 205.656 Q597.81 205.656 600.842 209.035 Q603.898 212.392 603.898 218.179 M599.639 216.929 Q599.592 213.434 597.671 211.35 Q595.773 209.267 592.625 209.267 Q589.06 209.267 586.907 211.281 Q584.777 213.295 584.453 216.952 L599.639 216.929 Z\" fill=\"#000000\" fill-rule=\"evenodd\" fill-opacity=\"1\" /><path clip-path=\"url(#clip510)\" d=\"M627.949 210.216 L627.949 196.188 L632.208 196.188 L632.208 232.207 L627.949 232.207 L627.949 228.318 Q626.606 230.633 624.546 231.767 Q622.509 232.878 619.638 232.878 Q614.939 232.878 611.976 229.128 Q609.037 225.378 609.037 219.267 Q609.037 213.156 611.976 209.406 Q614.939 205.656 619.638 205.656 Q622.509 205.656 624.546 206.79 Q626.606 207.901 627.949 210.216 M613.435 219.267 Q613.435 223.966 615.356 226.651 Q617.3 229.313 620.68 229.313 Q624.06 229.313 626.004 226.651 Q627.949 223.966 627.949 219.267 Q627.949 214.568 626.004 211.906 Q624.06 209.221 620.68 209.221 Q617.3 209.221 615.356 211.906 Q613.435 214.568 613.435 219.267 Z\" fill=\"#000000\" fill-rule=\"evenodd\" fill-opacity=\"1\" /><path clip-path=\"url(#clip510)\" d=\"M640.981 206.281 L645.24 206.281 L645.24 232.207 L640.981 232.207 L640.981 206.281 M640.981 196.188 L645.24 196.188 L645.24 201.582 L640.981 201.582 L640.981 196.188 Z\" fill=\"#000000\" fill-rule=\"evenodd\" fill-opacity=\"1\" /><path clip-path=\"url(#clip510)\" d=\"M672.809 207.276 L672.809 211.258 Q671.004 210.262 669.175 209.776 Q667.37 209.267 665.518 209.267 Q661.374 209.267 659.083 211.906 Q656.791 214.522 656.791 219.267 Q656.791 224.012 659.083 226.651 Q661.374 229.267 665.518 229.267 Q667.37 229.267 669.175 228.781 Q671.004 228.271 672.809 227.276 L672.809 231.211 Q671.027 232.045 669.106 232.461 Q667.208 232.878 665.055 232.878 Q659.198 232.878 655.749 229.197 Q652.3 225.517 652.3 219.267 Q652.3 212.924 655.772 209.29 Q659.268 205.656 665.333 205.656 Q667.3 205.656 669.175 206.073 Q671.05 206.466 672.809 207.276 Z\" fill=\"#000000\" fill-rule=\"evenodd\" fill-opacity=\"1\" /><path clip-path=\"url(#clip510)\" d=\"M684.43 198.92 L684.43 206.281 L693.203 206.281 L693.203 209.591 L684.43 209.591 L684.43 223.665 Q684.43 226.836 685.286 227.739 Q686.166 228.642 688.828 228.642 L693.203 228.642 L693.203 232.207 L688.828 232.207 Q683.897 232.207 682.022 230.378 Q680.147 228.526 680.147 223.665 L680.147 209.591 L677.022 209.591 L677.022 206.281 L680.147 206.281 L680.147 198.92 L684.43 198.92 Z\" fill=\"#000000\" fill-rule=\"evenodd\" fill-opacity=\"1\" /><path clip-path=\"url(#clip510)\" d=\"M698.805 206.281 L703.064 206.281 L703.064 232.207 L698.805 232.207 L698.805 206.281 M698.805 196.188 L703.064 196.188 L703.064 201.582 L698.805 201.582 L698.805 196.188 Z\" fill=\"#000000\" fill-rule=\"evenodd\" fill-opacity=\"1\" /><path clip-path=\"url(#clip510)\" d=\"M722.022 209.267 Q718.596 209.267 716.605 211.952 Q714.615 214.614 714.615 219.267 Q714.615 223.92 716.582 226.605 Q718.573 229.267 722.022 229.267 Q725.425 229.267 727.416 226.582 Q729.406 223.896 729.406 219.267 Q729.406 214.66 727.416 211.975 Q725.425 209.267 722.022 209.267 M722.022 205.656 Q727.578 205.656 730.749 209.267 Q733.92 212.878 733.92 219.267 Q733.92 225.633 730.749 229.267 Q727.578 232.878 722.022 232.878 Q716.443 232.878 713.272 229.267 Q710.124 225.633 710.124 219.267 Q710.124 212.878 713.272 209.267 Q716.443 205.656 722.022 205.656 Z\" fill=\"#000000\" fill-rule=\"evenodd\" fill-opacity=\"1\" /><path clip-path=\"url(#clip510)\" d=\"M762.531 216.559 L762.531 232.207 L758.272 232.207 L758.272 216.697 Q758.272 213.017 756.837 211.188 Q755.402 209.36 752.531 209.36 Q749.082 209.36 747.091 211.559 Q745.101 213.758 745.101 217.554 L745.101 232.207 L740.818 232.207 L740.818 206.281 L745.101 206.281 L745.101 210.309 Q746.628 207.971 748.689 206.813 Q750.772 205.656 753.48 205.656 Q757.948 205.656 760.24 208.434 Q762.531 211.188 762.531 216.559 Z\" fill=\"#000000\" fill-rule=\"evenodd\" fill-opacity=\"1\" /></svg>\n"
      ]
     },
     "execution_count": 38,
     "metadata": {},
     "output_type": "execute_result"
    }
   ],
   "source": [
    "plot!(ψ[:,1], ψ[:,2], ylabel = \"Y\", xlabel = \"X\", label=\"Prediction\", legend=:topleft, size=(720,540))"
   ]
  }
 ],
 "metadata": {
  "kernelspec": {
   "display_name": "Julia 1.7.2",
   "language": "julia",
   "name": "julia-1.7"
  },
  "language_info": {
   "file_extension": ".jl",
   "mimetype": "application/julia",
   "name": "julia",
   "version": "1.7.2"
  }
 },
 "nbformat": 4,
 "nbformat_minor": 4
}
