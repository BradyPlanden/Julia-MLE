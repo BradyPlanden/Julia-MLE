{
 "cells": [
  {
   "cell_type": "markdown",
   "metadata": {},
   "source": [
    "# Maximum Likelihood Estimation\n",
    "## Problem:\n",
    "    Write a short Python (or Matlab, Julia etc.) script that \n",
    "    (1) generates some data y as the output of a parametric function of x (e.g. a polynomial), \n",
    "    (2) adds noise to it and plots y vs. x, then \n",
    "    (3) solves the inverse problem of identifying the parameters of the underlying function from data, using maximum likelihood estimation, and plots the fitted curve on the same plot as the data. "
   ]
  },
  {
   "cell_type": "code",
   "execution_count": 20,
   "metadata": {},
   "outputs": [],
   "source": [
    "using  Distributions, Optim, Plots, StatsFuns"
   ]
  },
  {
   "cell_type": "markdown",
   "metadata": {},
   "source": [
    " "
   ]
  },
  {
   "cell_type": "code",
   "execution_count": 21,
   "metadata": {},
   "outputs": [],
   "source": [
    "nvar,n = 2,100;"
   ]
  },
  {
   "cell_type": "code",
   "execution_count": 22,
   "metadata": {},
   "outputs": [],
   "source": [
    "X = rand(Normal(0,1), n, nvar-1);"
   ]
  },
  {
   "cell_type": "code",
   "execution_count": 23,
   "metadata": {},
   "outputs": [],
   "source": [
    "A = 0.5; # Noise Amplitude"
   ]
  },
  {
   "cell_type": "code",
   "execution_count": 24,
   "metadata": {},
   "outputs": [],
   "source": [
    "β = [0,7,1]; # Polynomial coeffs."
   ]
  },
  {
   "cell_type": "code",
   "execution_count": 25,
   "metadata": {},
   "outputs": [
    {
     "data": {
      "text/plain": [
       "gen (generic function with 1 method)"
      ]
     },
     "execution_count": 25,
     "metadata": {},
     "output_type": "execute_result"
    }
   ],
   "source": [
    "function gen(n,nvar,A,β,X)\n",
    "    ϵ = randn(n) * A\n",
    "    y = (X * β[1] .+ X.^2 * β[2] .+ X.^3 * β[3]) .+ ϵ\n",
    "    return y\n",
    "end"
   ]
  },
  {
   "cell_type": "code",
   "execution_count": 26,
   "metadata": {
    "scrolled": false
   },
   "outputs": [],
   "source": [
    "y = gen(n,nvar,A,β,X);"
   ]
  },
  {
   "cell_type": "markdown",
   "metadata": {},
   "source": [
    " "
   ]
  },
  {
   "cell_type": "code",
   "execution_count": 27,
   "metadata": {},
   "outputs": [
    {
     "data": {
      "image/svg+xml": [
       "<?xml version=\"1.0\" encoding=\"utf-8\"?>\n",
       "<svg xmlns=\"http://www.w3.org/2000/svg\" xmlns:xlink=\"http://www.w3.org/1999/xlink\" width=\"720\" height=\"540\" viewBox=\"0 0 2880 2160\">\n",
       "<defs>\n",
       "  <clipPath id=\"clip150\">\n",
       "    <rect x=\"0\" y=\"0\" width=\"2880\" height=\"2160\"/>\n",
       "  </clipPath>\n",
       "</defs>\n",
       "<path clip-path=\"url(#clip150)\" d=\"\n",
       "M0 2160 L2880 2160 L2880 0 L0 0  Z\n",
       "  \" fill=\"#ffffff\" fill-rule=\"evenodd\" fill-opacity=\"1\"/>\n",
       "<defs>\n",
       "  <clipPath id=\"clip151\">\n",
       "    <rect x=\"576\" y=\"0\" width=\"2017\" height=\"2017\"/>\n",
       "  </clipPath>\n",
       "</defs>\n",
       "<path clip-path=\"url(#clip150)\" d=\"\n",
       "M215.861 1967.32 L2832.76 1967.32 L2832.76 47.2441 L215.861 47.2441  Z\n",
       "  \" fill=\"#ffffff\" fill-rule=\"evenodd\" fill-opacity=\"1\"/>\n",
       "<defs>\n",
       "  <clipPath id=\"clip152\">\n",
       "    <rect x=\"215\" y=\"47\" width=\"2618\" height=\"1921\"/>\n",
       "  </clipPath>\n",
       "</defs>\n",
       "<polyline clip-path=\"url(#clip152)\" style=\"stroke:#000000; stroke-linecap:butt; stroke-linejoin:round; stroke-width:2; stroke-opacity:0.1; fill:none\" points=\"\n",
       "  644.337,1967.32 644.337,47.2441 \n",
       "  \"/>\n",
       "<polyline clip-path=\"url(#clip152)\" style=\"stroke:#000000; stroke-linecap:butt; stroke-linejoin:round; stroke-width:2; stroke-opacity:0.1; fill:none\" points=\"\n",
       "  1081.79,1967.32 1081.79,47.2441 \n",
       "  \"/>\n",
       "<polyline clip-path=\"url(#clip152)\" style=\"stroke:#000000; stroke-linecap:butt; stroke-linejoin:round; stroke-width:2; stroke-opacity:0.1; fill:none\" points=\"\n",
       "  1519.24,1967.32 1519.24,47.2441 \n",
       "  \"/>\n",
       "<polyline clip-path=\"url(#clip152)\" style=\"stroke:#000000; stroke-linecap:butt; stroke-linejoin:round; stroke-width:2; stroke-opacity:0.1; fill:none\" points=\"\n",
       "  1956.69,1967.32 1956.69,47.2441 \n",
       "  \"/>\n",
       "<polyline clip-path=\"url(#clip152)\" style=\"stroke:#000000; stroke-linecap:butt; stroke-linejoin:round; stroke-width:2; stroke-opacity:0.1; fill:none\" points=\"\n",
       "  2394.15,1967.32 2394.15,47.2441 \n",
       "  \"/>\n",
       "<polyline clip-path=\"url(#clip152)\" style=\"stroke:#000000; stroke-linecap:butt; stroke-linejoin:round; stroke-width:2; stroke-opacity:0.1; fill:none\" points=\"\n",
       "  2831.6,1967.32 2831.6,47.2441 \n",
       "  \"/>\n",
       "<polyline clip-path=\"url(#clip150)\" style=\"stroke:#000000; stroke-linecap:butt; stroke-linejoin:round; stroke-width:4; stroke-opacity:1; fill:none\" points=\"\n",
       "  215.861,1967.32 2832.76,1967.32 \n",
       "  \"/>\n",
       "<polyline clip-path=\"url(#clip150)\" style=\"stroke:#000000; stroke-linecap:butt; stroke-linejoin:round; stroke-width:4; stroke-opacity:1; fill:none\" points=\"\n",
       "  644.337,1967.32 644.337,1948.42 \n",
       "  \"/>\n",
       "<polyline clip-path=\"url(#clip150)\" style=\"stroke:#000000; stroke-linecap:butt; stroke-linejoin:round; stroke-width:4; stroke-opacity:1; fill:none\" points=\"\n",
       "  1081.79,1967.32 1081.79,1948.42 \n",
       "  \"/>\n",
       "<polyline clip-path=\"url(#clip150)\" style=\"stroke:#000000; stroke-linecap:butt; stroke-linejoin:round; stroke-width:4; stroke-opacity:1; fill:none\" points=\"\n",
       "  1519.24,1967.32 1519.24,1948.42 \n",
       "  \"/>\n",
       "<polyline clip-path=\"url(#clip150)\" style=\"stroke:#000000; stroke-linecap:butt; stroke-linejoin:round; stroke-width:4; stroke-opacity:1; fill:none\" points=\"\n",
       "  1956.69,1967.32 1956.69,1948.42 \n",
       "  \"/>\n",
       "<polyline clip-path=\"url(#clip150)\" style=\"stroke:#000000; stroke-linecap:butt; stroke-linejoin:round; stroke-width:4; stroke-opacity:1; fill:none\" points=\"\n",
       "  2394.15,1967.32 2394.15,1948.42 \n",
       "  \"/>\n",
       "<polyline clip-path=\"url(#clip150)\" style=\"stroke:#000000; stroke-linecap:butt; stroke-linejoin:round; stroke-width:4; stroke-opacity:1; fill:none\" points=\"\n",
       "  2831.6,1967.32 2831.6,1948.42 \n",
       "  \"/>\n",
       "<path clip-path=\"url(#clip150)\" d=\"M614.279 2016.73 L643.955 2016.73 L643.955 2020.67 L614.279 2020.67 L614.279 2016.73 Z\" fill=\"#000000\" fill-rule=\"evenodd\" fill-opacity=\"1\" /><path clip-path=\"url(#clip150)\" d=\"M658.075 2029.62 L674.394 2029.62 L674.394 2033.56 L652.45 2033.56 L652.45 2029.62 Q655.112 2026.87 659.695 2022.24 Q664.302 2017.59 665.482 2016.25 Q667.728 2013.72 668.607 2011.99 Q669.51 2010.23 669.51 2008.54 Q669.51 2005.78 667.566 2004.05 Q665.644 2002.31 662.542 2002.31 Q660.343 2002.31 657.89 2003.07 Q655.459 2003.84 652.681 2005.39 L652.681 2000.67 Q655.505 1999.53 657.959 1998.95 Q660.413 1998.37 662.45 1998.37 Q667.82 1998.37 671.015 2001.06 Q674.209 2003.75 674.209 2008.24 Q674.209 2010.37 673.399 2012.29 Q672.612 2014.18 670.505 2016.78 Q669.927 2017.45 666.825 2020.67 Q663.723 2023.86 658.075 2029.62 Z\" fill=\"#000000\" fill-rule=\"evenodd\" fill-opacity=\"1\" /><path clip-path=\"url(#clip150)\" d=\"M1051.55 2016.73 L1081.22 2016.73 L1081.22 2020.67 L1051.55 2020.67 L1051.55 2016.73 Z\" fill=\"#000000\" fill-rule=\"evenodd\" fill-opacity=\"1\" /><path clip-path=\"url(#clip150)\" d=\"M1092.12 2029.62 L1099.76 2029.62 L1099.76 2003.26 L1091.45 2004.93 L1091.45 2000.67 L1099.72 1999 L1104.39 1999 L1104.39 2029.62 L1112.03 2029.62 L1112.03 2033.56 L1092.12 2033.56 L1092.12 2029.62 Z\" fill=\"#000000\" fill-rule=\"evenodd\" fill-opacity=\"1\" /><path clip-path=\"url(#clip150)\" d=\"M1519.24 2002.08 Q1515.63 2002.08 1513.8 2005.64 Q1512 2009.18 1512 2016.31 Q1512 2023.42 1513.8 2026.99 Q1515.63 2030.53 1519.24 2030.53 Q1522.88 2030.53 1524.68 2026.99 Q1526.51 2023.42 1526.51 2016.31 Q1526.51 2009.18 1524.68 2005.64 Q1522.88 2002.08 1519.24 2002.08 M1519.24 1998.37 Q1525.05 1998.37 1528.11 2002.98 Q1531.19 2007.56 1531.19 2016.31 Q1531.19 2025.04 1528.11 2029.65 Q1525.05 2034.23 1519.24 2034.23 Q1513.43 2034.23 1510.35 2029.65 Q1507.3 2025.04 1507.3 2016.31 Q1507.3 2007.56 1510.35 2002.98 Q1513.43 1998.37 1519.24 1998.37 Z\" fill=\"#000000\" fill-rule=\"evenodd\" fill-opacity=\"1\" /><path clip-path=\"url(#clip150)\" d=\"M1947.08 2029.62 L1954.71 2029.62 L1954.71 2003.26 L1946.4 2004.93 L1946.4 2000.67 L1954.67 1999 L1959.34 1999 L1959.34 2029.62 L1966.98 2029.62 L1966.98 2033.56 L1947.08 2033.56 L1947.08 2029.62 Z\" fill=\"#000000\" fill-rule=\"evenodd\" fill-opacity=\"1\" /><path clip-path=\"url(#clip150)\" d=\"M2388.8 2029.62 L2405.12 2029.62 L2405.12 2033.56 L2383.17 2033.56 L2383.17 2029.62 Q2385.84 2026.87 2390.42 2022.24 Q2395.03 2017.59 2396.21 2016.25 Q2398.45 2013.72 2399.33 2011.99 Q2400.23 2010.23 2400.23 2008.54 Q2400.23 2005.78 2398.29 2004.05 Q2396.37 2002.31 2393.27 2002.31 Q2391.07 2002.31 2388.61 2003.07 Q2386.18 2003.84 2383.41 2005.39 L2383.41 2000.67 Q2386.23 1999.53 2388.68 1998.95 Q2391.14 1998.37 2393.17 1998.37 Q2398.54 1998.37 2401.74 2001.06 Q2404.93 2003.75 2404.93 2008.24 Q2404.93 2010.37 2404.12 2012.29 Q2403.34 2014.18 2401.23 2016.78 Q2400.65 2017.45 2397.55 2020.67 Q2394.45 2023.86 2388.8 2029.62 Z\" fill=\"#000000\" fill-rule=\"evenodd\" fill-opacity=\"1\" /><path clip-path=\"url(#clip150)\" d=\"M2835.85 2014.93 Q2839.2 2015.64 2841.08 2017.91 Q2842.98 2020.18 2842.98 2023.51 Q2842.98 2028.63 2839.46 2031.43 Q2835.94 2034.23 2829.46 2034.23 Q2827.28 2034.23 2824.97 2033.79 Q2822.68 2033.37 2820.22 2032.52 L2820.22 2028 Q2822.17 2029.14 2824.48 2029.72 Q2826.8 2030.3 2829.32 2030.3 Q2833.72 2030.3 2836.01 2028.56 Q2838.32 2026.82 2838.32 2023.51 Q2838.32 2020.46 2836.17 2018.75 Q2834.04 2017.01 2830.22 2017.01 L2826.19 2017.01 L2826.19 2013.17 L2830.41 2013.17 Q2833.86 2013.17 2835.68 2011.8 Q2837.51 2010.41 2837.51 2007.82 Q2837.51 2005.16 2835.62 2003.75 Q2833.74 2002.31 2830.22 2002.31 Q2828.3 2002.31 2826.1 2002.73 Q2823.9 2003.14 2821.26 2004.02 L2821.26 1999.86 Q2823.93 1999.12 2826.24 1998.75 Q2828.58 1998.37 2830.64 1998.37 Q2835.96 1998.37 2839.06 2000.81 Q2842.17 2003.21 2842.17 2007.33 Q2842.17 2010.2 2840.52 2012.19 Q2838.88 2014.16 2835.85 2014.93 Z\" fill=\"#000000\" fill-rule=\"evenodd\" fill-opacity=\"1\" /><path clip-path=\"url(#clip150)\" d=\"M1506.13 2071.86 L1513.04 2071.86 L1524.85 2089.53 L1536.72 2071.86 L1543.63 2071.86 L1528.35 2094.68 L1544.65 2119.38 L1537.74 2119.38 L1524.37 2099.17 L1510.91 2119.38 L1503.97 2119.38 L1520.93 2094.02 L1506.13 2071.86 Z\" fill=\"#000000\" fill-rule=\"evenodd\" fill-opacity=\"1\" /><polyline clip-path=\"url(#clip152)\" style=\"stroke:#000000; stroke-linecap:butt; stroke-linejoin:round; stroke-width:2; stroke-opacity:0.1; fill:none\" points=\"\n",
       "  215.861,1878.58 2832.76,1878.58 \n",
       "  \"/>\n",
       "<polyline clip-path=\"url(#clip152)\" style=\"stroke:#000000; stroke-linecap:butt; stroke-linejoin:round; stroke-width:2; stroke-opacity:0.1; fill:none\" points=\"\n",
       "  215.861,1422.82 2832.76,1422.82 \n",
       "  \"/>\n",
       "<polyline clip-path=\"url(#clip152)\" style=\"stroke:#000000; stroke-linecap:butt; stroke-linejoin:round; stroke-width:2; stroke-opacity:0.1; fill:none\" points=\"\n",
       "  215.861,967.058 2832.76,967.058 \n",
       "  \"/>\n",
       "<polyline clip-path=\"url(#clip152)\" style=\"stroke:#000000; stroke-linecap:butt; stroke-linejoin:round; stroke-width:2; stroke-opacity:0.1; fill:none\" points=\"\n",
       "  215.861,511.299 2832.76,511.299 \n",
       "  \"/>\n",
       "<polyline clip-path=\"url(#clip152)\" style=\"stroke:#000000; stroke-linecap:butt; stroke-linejoin:round; stroke-width:2; stroke-opacity:0.1; fill:none\" points=\"\n",
       "  215.861,55.5394 2832.76,55.5394 \n",
       "  \"/>\n",
       "<polyline clip-path=\"url(#clip150)\" style=\"stroke:#000000; stroke-linecap:butt; stroke-linejoin:round; stroke-width:4; stroke-opacity:1; fill:none\" points=\"\n",
       "  215.861,1967.32 215.861,47.2441 \n",
       "  \"/>\n",
       "<polyline clip-path=\"url(#clip150)\" style=\"stroke:#000000; stroke-linecap:butt; stroke-linejoin:round; stroke-width:4; stroke-opacity:1; fill:none\" points=\"\n",
       "  215.861,1878.58 234.759,1878.58 \n",
       "  \"/>\n",
       "<polyline clip-path=\"url(#clip150)\" style=\"stroke:#000000; stroke-linecap:butt; stroke-linejoin:round; stroke-width:4; stroke-opacity:1; fill:none\" points=\"\n",
       "  215.861,1422.82 234.759,1422.82 \n",
       "  \"/>\n",
       "<polyline clip-path=\"url(#clip150)\" style=\"stroke:#000000; stroke-linecap:butt; stroke-linejoin:round; stroke-width:4; stroke-opacity:1; fill:none\" points=\"\n",
       "  215.861,967.058 234.759,967.058 \n",
       "  \"/>\n",
       "<polyline clip-path=\"url(#clip150)\" style=\"stroke:#000000; stroke-linecap:butt; stroke-linejoin:round; stroke-width:4; stroke-opacity:1; fill:none\" points=\"\n",
       "  215.861,511.299 234.759,511.299 \n",
       "  \"/>\n",
       "<polyline clip-path=\"url(#clip150)\" style=\"stroke:#000000; stroke-linecap:butt; stroke-linejoin:round; stroke-width:4; stroke-opacity:1; fill:none\" points=\"\n",
       "  215.861,55.5394 234.759,55.5394 \n",
       "  \"/>\n",
       "<path clip-path=\"url(#clip150)\" d=\"M160.717 1864.38 Q157.106 1864.38 155.277 1867.94 Q153.471 1871.48 153.471 1878.61 Q153.471 1885.72 155.277 1889.28 Q157.106 1892.82 160.717 1892.82 Q164.351 1892.82 166.156 1889.28 Q167.985 1885.72 167.985 1878.61 Q167.985 1871.48 166.156 1867.94 Q164.351 1864.38 160.717 1864.38 M160.717 1860.67 Q166.527 1860.67 169.582 1865.28 Q172.661 1869.86 172.661 1878.61 Q172.661 1887.34 169.582 1891.94 Q166.527 1896.53 160.717 1896.53 Q154.906 1896.53 151.828 1891.94 Q148.772 1887.34 148.772 1878.61 Q148.772 1869.86 151.828 1865.28 Q154.906 1860.67 160.717 1860.67 Z\" fill=\"#000000\" fill-rule=\"evenodd\" fill-opacity=\"1\" /><path clip-path=\"url(#clip150)\" d=\"M124.583 1436.16 L140.902 1436.16 L140.902 1440.1 L118.958 1440.1 L118.958 1436.16 Q121.62 1433.41 126.203 1428.78 Q130.809 1424.13 131.99 1422.78 Q134.235 1420.26 135.115 1418.52 Q136.018 1416.76 136.018 1415.07 Q136.018 1412.32 134.073 1410.58 Q132.152 1408.85 129.05 1408.85 Q126.851 1408.85 124.397 1409.61 Q121.967 1410.38 119.189 1411.93 L119.189 1407.2 Q122.013 1406.07 124.467 1405.49 Q126.92 1404.91 128.958 1404.91 Q134.328 1404.91 137.522 1407.6 Q140.717 1410.28 140.717 1414.77 Q140.717 1416.9 139.907 1418.82 Q139.119 1420.72 137.013 1423.31 Q136.434 1423.99 133.332 1427.2 Q130.231 1430.4 124.583 1436.16 Z\" fill=\"#000000\" fill-rule=\"evenodd\" fill-opacity=\"1\" /><path clip-path=\"url(#clip150)\" d=\"M160.717 1408.62 Q157.106 1408.62 155.277 1412.18 Q153.471 1415.72 153.471 1422.85 Q153.471 1429.96 155.277 1433.52 Q157.106 1437.06 160.717 1437.06 Q164.351 1437.06 166.156 1433.52 Q167.985 1429.96 167.985 1422.85 Q167.985 1415.72 166.156 1412.18 Q164.351 1408.62 160.717 1408.62 M160.717 1404.91 Q166.527 1404.91 169.582 1409.52 Q172.661 1414.1 172.661 1422.85 Q172.661 1431.58 169.582 1436.19 Q166.527 1440.77 160.717 1440.77 Q154.906 1440.77 151.828 1436.19 Q148.772 1431.58 148.772 1422.85 Q148.772 1414.1 151.828 1409.52 Q154.906 1404.91 160.717 1404.91 Z\" fill=\"#000000\" fill-rule=\"evenodd\" fill-opacity=\"1\" /><path clip-path=\"url(#clip150)\" d=\"M133.402 953.852 L121.596 972.301 L133.402 972.301 L133.402 953.852 M132.175 949.778 L138.055 949.778 L138.055 972.301 L142.985 972.301 L142.985 976.19 L138.055 976.19 L138.055 984.338 L133.402 984.338 L133.402 976.19 L117.8 976.19 L117.8 971.676 L132.175 949.778 Z\" fill=\"#000000\" fill-rule=\"evenodd\" fill-opacity=\"1\" /><path clip-path=\"url(#clip150)\" d=\"M160.717 952.857 Q157.106 952.857 155.277 956.421 Q153.471 959.963 153.471 967.093 Q153.471 974.199 155.277 977.764 Q157.106 981.306 160.717 981.306 Q164.351 981.306 166.156 977.764 Q167.985 974.199 167.985 967.093 Q167.985 959.963 166.156 956.421 Q164.351 952.857 160.717 952.857 M160.717 949.153 Q166.527 949.153 169.582 953.759 Q172.661 958.343 172.661 967.093 Q172.661 975.819 169.582 980.426 Q166.527 985.009 160.717 985.009 Q154.906 985.009 151.828 980.426 Q148.772 975.819 148.772 967.093 Q148.772 958.343 151.828 953.759 Q154.906 949.153 160.717 949.153 Z\" fill=\"#000000\" fill-rule=\"evenodd\" fill-opacity=\"1\" /><path clip-path=\"url(#clip150)\" d=\"M131.133 509.435 Q127.985 509.435 126.133 511.588 Q124.305 513.741 124.305 517.491 Q124.305 521.218 126.133 523.394 Q127.985 525.546 131.133 525.546 Q134.282 525.546 136.11 523.394 Q137.962 521.218 137.962 517.491 Q137.962 513.741 136.11 511.588 Q134.282 509.435 131.133 509.435 M140.416 494.783 L140.416 499.042 Q138.657 498.208 136.851 497.769 Q135.069 497.329 133.309 497.329 Q128.68 497.329 126.226 500.454 Q123.795 503.579 123.448 509.898 Q124.814 507.884 126.874 506.82 Q128.934 505.732 131.411 505.732 Q136.62 505.732 139.629 508.903 Q142.661 512.051 142.661 517.491 Q142.661 522.815 139.513 526.032 Q136.365 529.25 131.133 529.25 Q125.138 529.25 121.967 524.667 Q118.796 520.06 118.796 511.333 Q118.796 503.139 122.684 498.278 Q126.573 493.394 133.124 493.394 Q134.883 493.394 136.666 493.741 Q138.471 494.088 140.416 494.783 Z\" fill=\"#000000\" fill-rule=\"evenodd\" fill-opacity=\"1\" /><path clip-path=\"url(#clip150)\" d=\"M160.717 497.097 Q157.106 497.097 155.277 500.662 Q153.471 504.204 153.471 511.333 Q153.471 518.44 155.277 522.005 Q157.106 525.546 160.717 525.546 Q164.351 525.546 166.156 522.005 Q167.985 518.44 167.985 511.333 Q167.985 504.204 166.156 500.662 Q164.351 497.097 160.717 497.097 M160.717 493.394 Q166.527 493.394 169.582 498 Q172.661 502.583 172.661 511.333 Q172.661 520.06 169.582 524.667 Q166.527 529.25 160.717 529.25 Q154.906 529.25 151.828 524.667 Q148.772 520.06 148.772 511.333 Q148.772 502.583 151.828 498 Q154.906 493.394 160.717 493.394 Z\" fill=\"#000000\" fill-rule=\"evenodd\" fill-opacity=\"1\" /><path clip-path=\"url(#clip150)\" d=\"M130.555 56.4074 Q127.221 56.4074 125.3 58.1898 Q123.402 59.9722 123.402 63.0972 Q123.402 66.2222 125.3 68.0046 Q127.221 69.787 130.555 69.787 Q133.888 69.787 135.809 68.0046 Q137.731 66.199 137.731 63.0972 Q137.731 59.9722 135.809 58.1898 Q133.911 56.4074 130.555 56.4074 M125.879 54.4167 Q122.87 53.676 121.18 51.6158 Q119.513 49.5556 119.513 46.5927 Q119.513 42.4492 122.453 40.0418 Q125.416 37.6344 130.555 37.6344 Q135.717 37.6344 138.657 40.0418 Q141.596 42.4492 141.596 46.5927 Q141.596 49.5556 139.907 51.6158 Q138.24 53.676 135.254 54.4167 Q138.633 55.2037 140.508 57.4954 Q142.407 59.787 142.407 63.0972 Q142.407 68.1203 139.328 70.8055 Q136.272 73.4907 130.555 73.4907 Q124.837 73.4907 121.758 70.8055 Q118.703 68.1203 118.703 63.0972 Q118.703 59.787 120.601 57.4954 Q122.499 55.2037 125.879 54.4167 M124.166 47.0325 Q124.166 49.7176 125.833 51.2223 Q127.522 52.7269 130.555 52.7269 Q133.564 52.7269 135.254 51.2223 Q136.967 49.7176 136.967 47.0325 Q136.967 44.3473 135.254 42.8427 Q133.564 41.3381 130.555 41.3381 Q127.522 41.3381 125.833 42.8427 Q124.166 44.3473 124.166 47.0325 Z\" fill=\"#000000\" fill-rule=\"evenodd\" fill-opacity=\"1\" /><path clip-path=\"url(#clip150)\" d=\"M160.717 41.3381 Q157.106 41.3381 155.277 44.9029 Q153.471 48.4445 153.471 55.5741 Q153.471 62.6805 155.277 66.2453 Q157.106 69.787 160.717 69.787 Q164.351 69.787 166.156 66.2453 Q167.985 62.6805 167.985 55.5741 Q167.985 48.4445 166.156 44.9029 Q164.351 41.3381 160.717 41.3381 M160.717 37.6344 Q166.527 37.6344 169.582 42.2408 Q172.661 46.8241 172.661 55.5741 Q172.661 64.3009 169.582 68.9074 Q166.527 73.4907 160.717 73.4907 Q154.906 73.4907 151.828 68.9074 Q148.772 64.3009 148.772 55.5741 Q148.772 46.8241 151.828 42.2408 Q154.906 37.6344 160.717 37.6344 Z\" fill=\"#000000\" fill-rule=\"evenodd\" fill-opacity=\"1\" /><path clip-path=\"url(#clip150)\" d=\"M12.8242 1027.32 L12.8242 1020.41 L32.3669 1007.23 L12.8242 994.153 L12.8242 987.246 L37.7141 1004.05 L60.3442 1004.05 L60.3442 1010.51 L37.7141 1010.51 L12.8242 1027.32 Z\" fill=\"#000000\" fill-rule=\"evenodd\" fill-opacity=\"1\" /><circle clip-path=\"url(#clip152)\" cx=\"1613.02\" cy=\"1872.65\" r=\"14.4\" fill=\"#009af9\" fill-rule=\"evenodd\" fill-opacity=\"1\" stroke=\"#000000\" stroke-opacity=\"1\" stroke-width=\"4.32\"/>\n",
       "<circle clip-path=\"url(#clip152)\" cx=\"915.976\" cy=\"1625.85\" r=\"14.4\" fill=\"#009af9\" fill-rule=\"evenodd\" fill-opacity=\"1\" stroke=\"#000000\" stroke-opacity=\"1\" stroke-width=\"4.32\"/>\n",
       "<circle clip-path=\"url(#clip152)\" cx=\"1425.99\" cy=\"1890.74\" r=\"14.4\" fill=\"#009af9\" fill-rule=\"evenodd\" fill-opacity=\"1\" stroke=\"#000000\" stroke-opacity=\"1\" stroke-width=\"4.32\"/>\n",
       "<circle clip-path=\"url(#clip152)\" cx=\"1519.8\" cy=\"1878.48\" r=\"14.4\" fill=\"#009af9\" fill-rule=\"evenodd\" fill-opacity=\"1\" stroke=\"#000000\" stroke-opacity=\"1\" stroke-width=\"4.32\"/>\n",
       "<circle clip-path=\"url(#clip152)\" cx=\"1300.83\" cy=\"1841.91\" r=\"14.4\" fill=\"#009af9\" fill-rule=\"evenodd\" fill-opacity=\"1\" stroke=\"#000000\" stroke-opacity=\"1\" stroke-width=\"4.32\"/>\n",
       "<circle clip-path=\"url(#clip152)\" cx=\"2537.38\" cy=\"711.968\" r=\"14.4\" fill=\"#009af9\" fill-rule=\"evenodd\" fill-opacity=\"1\" stroke=\"#000000\" stroke-opacity=\"1\" stroke-width=\"4.32\"/>\n",
       "<circle clip-path=\"url(#clip152)\" cx=\"1434.92\" cy=\"1879.03\" r=\"14.4\" fill=\"#009af9\" fill-rule=\"evenodd\" fill-opacity=\"1\" stroke=\"#000000\" stroke-opacity=\"1\" stroke-width=\"4.32\"/>\n",
       "<circle clip-path=\"url(#clip152)\" cx=\"1727.44\" cy=\"1833.9\" r=\"14.4\" fill=\"#009af9\" fill-rule=\"evenodd\" fill-opacity=\"1\" stroke=\"#000000\" stroke-opacity=\"1\" stroke-width=\"4.32\"/>\n",
       "<circle clip-path=\"url(#clip152)\" cx=\"1874.91\" cy=\"1753.68\" r=\"14.4\" fill=\"#009af9\" fill-rule=\"evenodd\" fill-opacity=\"1\" stroke=\"#000000\" stroke-opacity=\"1\" stroke-width=\"4.32\"/>\n",
       "<circle clip-path=\"url(#clip152)\" cx=\"2021.72\" cy=\"1647.89\" r=\"14.4\" fill=\"#009af9\" fill-rule=\"evenodd\" fill-opacity=\"1\" stroke=\"#000000\" stroke-opacity=\"1\" stroke-width=\"4.32\"/>\n",
       "<circle clip-path=\"url(#clip152)\" cx=\"1098.71\" cy=\"1742.04\" r=\"14.4\" fill=\"#009af9\" fill-rule=\"evenodd\" fill-opacity=\"1\" stroke=\"#000000\" stroke-opacity=\"1\" stroke-width=\"4.32\"/>\n",
       "<circle clip-path=\"url(#clip152)\" cx=\"898.85\" cy=\"1610.58\" r=\"14.4\" fill=\"#009af9\" fill-rule=\"evenodd\" fill-opacity=\"1\" stroke=\"#000000\" stroke-opacity=\"1\" stroke-width=\"4.32\"/>\n",
       "<circle clip-path=\"url(#clip152)\" cx=\"2758.69\" cy=\"101.586\" r=\"14.4\" fill=\"#009af9\" fill-rule=\"evenodd\" fill-opacity=\"1\" stroke=\"#000000\" stroke-opacity=\"1\" stroke-width=\"4.32\"/>\n",
       "<circle clip-path=\"url(#clip152)\" cx=\"959.527\" cy=\"1672.75\" r=\"14.4\" fill=\"#009af9\" fill-rule=\"evenodd\" fill-opacity=\"1\" stroke=\"#000000\" stroke-opacity=\"1\" stroke-width=\"4.32\"/>\n",
       "<circle clip-path=\"url(#clip152)\" cx=\"1072.81\" cy=\"1731.15\" r=\"14.4\" fill=\"#009af9\" fill-rule=\"evenodd\" fill-opacity=\"1\" stroke=\"#000000\" stroke-opacity=\"1\" stroke-width=\"4.32\"/>\n",
       "<circle clip-path=\"url(#clip152)\" cx=\"1669.51\" cy=\"1853.6\" r=\"14.4\" fill=\"#009af9\" fill-rule=\"evenodd\" fill-opacity=\"1\" stroke=\"#000000\" stroke-opacity=\"1\" stroke-width=\"4.32\"/>\n",
       "<circle clip-path=\"url(#clip152)\" cx=\"1724.41\" cy=\"1853.56\" r=\"14.4\" fill=\"#009af9\" fill-rule=\"evenodd\" fill-opacity=\"1\" stroke=\"#000000\" stroke-opacity=\"1\" stroke-width=\"4.32\"/>\n",
       "<circle clip-path=\"url(#clip152)\" cx=\"1303.72\" cy=\"1833.58\" r=\"14.4\" fill=\"#009af9\" fill-rule=\"evenodd\" fill-opacity=\"1\" stroke=\"#000000\" stroke-opacity=\"1\" stroke-width=\"4.32\"/>\n",
       "<circle clip-path=\"url(#clip152)\" cx=\"2020.73\" cy=\"1629.36\" r=\"14.4\" fill=\"#009af9\" fill-rule=\"evenodd\" fill-opacity=\"1\" stroke=\"#000000\" stroke-opacity=\"1\" stroke-width=\"4.32\"/>\n",
       "<circle clip-path=\"url(#clip152)\" cx=\"1932.95\" cy=\"1723.89\" r=\"14.4\" fill=\"#009af9\" fill-rule=\"evenodd\" fill-opacity=\"1\" stroke=\"#000000\" stroke-opacity=\"1\" stroke-width=\"4.32\"/>\n",
       "<circle clip-path=\"url(#clip152)\" cx=\"2034.51\" cy=\"1597.76\" r=\"14.4\" fill=\"#009af9\" fill-rule=\"evenodd\" fill-opacity=\"1\" stroke=\"#000000\" stroke-opacity=\"1\" stroke-width=\"4.32\"/>\n",
       "<circle clip-path=\"url(#clip152)\" cx=\"1734\" cy=\"1847.44\" r=\"14.4\" fill=\"#009af9\" fill-rule=\"evenodd\" fill-opacity=\"1\" stroke=\"#000000\" stroke-opacity=\"1\" stroke-width=\"4.32\"/>\n",
       "<circle clip-path=\"url(#clip152)\" cx=\"1344.77\" cy=\"1857.84\" r=\"14.4\" fill=\"#009af9\" fill-rule=\"evenodd\" fill-opacity=\"1\" stroke=\"#000000\" stroke-opacity=\"1\" stroke-width=\"4.32\"/>\n",
       "<circle clip-path=\"url(#clip152)\" cx=\"566.211\" cy=\"1368.91\" r=\"14.4\" fill=\"#009af9\" fill-rule=\"evenodd\" fill-opacity=\"1\" stroke=\"#000000\" stroke-opacity=\"1\" stroke-width=\"4.32\"/>\n",
       "<circle clip-path=\"url(#clip152)\" cx=\"983.13\" cy=\"1676.81\" r=\"14.4\" fill=\"#009af9\" fill-rule=\"evenodd\" fill-opacity=\"1\" stroke=\"#000000\" stroke-opacity=\"1\" stroke-width=\"4.32\"/>\n",
       "<circle clip-path=\"url(#clip152)\" cx=\"395.567\" cy=\"1205.77\" r=\"14.4\" fill=\"#009af9\" fill-rule=\"evenodd\" fill-opacity=\"1\" stroke=\"#000000\" stroke-opacity=\"1\" stroke-width=\"4.32\"/>\n",
       "<circle clip-path=\"url(#clip152)\" cx=\"1928.06\" cy=\"1699.55\" r=\"14.4\" fill=\"#009af9\" fill-rule=\"evenodd\" fill-opacity=\"1\" stroke=\"#000000\" stroke-opacity=\"1\" stroke-width=\"4.32\"/>\n",
       "<circle clip-path=\"url(#clip152)\" cx=\"2221.46\" cy=\"1372.33\" r=\"14.4\" fill=\"#009af9\" fill-rule=\"evenodd\" fill-opacity=\"1\" stroke=\"#000000\" stroke-opacity=\"1\" stroke-width=\"4.32\"/>\n",
       "<circle clip-path=\"url(#clip152)\" cx=\"1669.75\" cy=\"1882.69\" r=\"14.4\" fill=\"#009af9\" fill-rule=\"evenodd\" fill-opacity=\"1\" stroke=\"#000000\" stroke-opacity=\"1\" stroke-width=\"4.32\"/>\n",
       "<circle clip-path=\"url(#clip152)\" cx=\"1010.97\" cy=\"1700.65\" r=\"14.4\" fill=\"#009af9\" fill-rule=\"evenodd\" fill-opacity=\"1\" stroke=\"#000000\" stroke-opacity=\"1\" stroke-width=\"4.32\"/>\n",
       "<circle clip-path=\"url(#clip152)\" cx=\"1510.52\" cy=\"1872.67\" r=\"14.4\" fill=\"#009af9\" fill-rule=\"evenodd\" fill-opacity=\"1\" stroke=\"#000000\" stroke-opacity=\"1\" stroke-width=\"4.32\"/>\n",
       "<circle clip-path=\"url(#clip152)\" cx=\"1420.78\" cy=\"1879.84\" r=\"14.4\" fill=\"#009af9\" fill-rule=\"evenodd\" fill-opacity=\"1\" stroke=\"#000000\" stroke-opacity=\"1\" stroke-width=\"4.32\"/>\n",
       "<circle clip-path=\"url(#clip152)\" cx=\"2235.01\" cy=\"1337.72\" r=\"14.4\" fill=\"#009af9\" fill-rule=\"evenodd\" fill-opacity=\"1\" stroke=\"#000000\" stroke-opacity=\"1\" stroke-width=\"4.32\"/>\n",
       "<circle clip-path=\"url(#clip152)\" cx=\"1447.37\" cy=\"1856.76\" r=\"14.4\" fill=\"#009af9\" fill-rule=\"evenodd\" fill-opacity=\"1\" stroke=\"#000000\" stroke-opacity=\"1\" stroke-width=\"4.32\"/>\n",
       "<circle clip-path=\"url(#clip152)\" cx=\"460.422\" cy=\"1252.82\" r=\"14.4\" fill=\"#009af9\" fill-rule=\"evenodd\" fill-opacity=\"1\" stroke=\"#000000\" stroke-opacity=\"1\" stroke-width=\"4.32\"/>\n",
       "<circle clip-path=\"url(#clip152)\" cx=\"1937.35\" cy=\"1717.97\" r=\"14.4\" fill=\"#009af9\" fill-rule=\"evenodd\" fill-opacity=\"1\" stroke=\"#000000\" stroke-opacity=\"1\" stroke-width=\"4.32\"/>\n",
       "<circle clip-path=\"url(#clip152)\" cx=\"910.548\" cy=\"1628.34\" r=\"14.4\" fill=\"#009af9\" fill-rule=\"evenodd\" fill-opacity=\"1\" stroke=\"#000000\" stroke-opacity=\"1\" stroke-width=\"4.32\"/>\n",
       "<circle clip-path=\"url(#clip152)\" cx=\"1273.93\" cy=\"1846.51\" r=\"14.4\" fill=\"#009af9\" fill-rule=\"evenodd\" fill-opacity=\"1\" stroke=\"#000000\" stroke-opacity=\"1\" stroke-width=\"4.32\"/>\n",
       "<circle clip-path=\"url(#clip152)\" cx=\"2132.64\" cy=\"1524.84\" r=\"14.4\" fill=\"#009af9\" fill-rule=\"evenodd\" fill-opacity=\"1\" stroke=\"#000000\" stroke-opacity=\"1\" stroke-width=\"4.32\"/>\n",
       "<circle clip-path=\"url(#clip152)\" cx=\"1193.07\" cy=\"1797.72\" r=\"14.4\" fill=\"#009af9\" fill-rule=\"evenodd\" fill-opacity=\"1\" stroke=\"#000000\" stroke-opacity=\"1\" stroke-width=\"4.32\"/>\n",
       "<circle clip-path=\"url(#clip152)\" cx=\"990.324\" cy=\"1697.95\" r=\"14.4\" fill=\"#009af9\" fill-rule=\"evenodd\" fill-opacity=\"1\" stroke=\"#000000\" stroke-opacity=\"1\" stroke-width=\"4.32\"/>\n",
       "<circle clip-path=\"url(#clip152)\" cx=\"1568\" cy=\"1869.06\" r=\"14.4\" fill=\"#009af9\" fill-rule=\"evenodd\" fill-opacity=\"1\" stroke=\"#000000\" stroke-opacity=\"1\" stroke-width=\"4.32\"/>\n",
       "<circle clip-path=\"url(#clip152)\" cx=\"1912.25\" cy=\"1755.1\" r=\"14.4\" fill=\"#009af9\" fill-rule=\"evenodd\" fill-opacity=\"1\" stroke=\"#000000\" stroke-opacity=\"1\" stroke-width=\"4.32\"/>\n",
       "<circle clip-path=\"url(#clip152)\" cx=\"2317.37\" cy=\"1218.94\" r=\"14.4\" fill=\"#009af9\" fill-rule=\"evenodd\" fill-opacity=\"1\" stroke=\"#000000\" stroke-opacity=\"1\" stroke-width=\"4.32\"/>\n",
       "<circle clip-path=\"url(#clip152)\" cx=\"2202.84\" cy=\"1402.27\" r=\"14.4\" fill=\"#009af9\" fill-rule=\"evenodd\" fill-opacity=\"1\" stroke=\"#000000\" stroke-opacity=\"1\" stroke-width=\"4.32\"/>\n",
       "<circle clip-path=\"url(#clip152)\" cx=\"1688.63\" cy=\"1860.51\" r=\"14.4\" fill=\"#009af9\" fill-rule=\"evenodd\" fill-opacity=\"1\" stroke=\"#000000\" stroke-opacity=\"1\" stroke-width=\"4.32\"/>\n",
       "<circle clip-path=\"url(#clip152)\" cx=\"1735.04\" cy=\"1845.51\" r=\"14.4\" fill=\"#009af9\" fill-rule=\"evenodd\" fill-opacity=\"1\" stroke=\"#000000\" stroke-opacity=\"1\" stroke-width=\"4.32\"/>\n",
       "<circle clip-path=\"url(#clip152)\" cx=\"1531.26\" cy=\"1882.92\" r=\"14.4\" fill=\"#009af9\" fill-rule=\"evenodd\" fill-opacity=\"1\" stroke=\"#000000\" stroke-opacity=\"1\" stroke-width=\"4.32\"/>\n",
       "<circle clip-path=\"url(#clip152)\" cx=\"1422.77\" cy=\"1890.75\" r=\"14.4\" fill=\"#009af9\" fill-rule=\"evenodd\" fill-opacity=\"1\" stroke=\"#000000\" stroke-opacity=\"1\" stroke-width=\"4.32\"/>\n",
       "<circle clip-path=\"url(#clip152)\" cx=\"1761.13\" cy=\"1830.76\" r=\"14.4\" fill=\"#009af9\" fill-rule=\"evenodd\" fill-opacity=\"1\" stroke=\"#000000\" stroke-opacity=\"1\" stroke-width=\"4.32\"/>\n",
       "<circle clip-path=\"url(#clip152)\" cx=\"1597.3\" cy=\"1912.98\" r=\"14.4\" fill=\"#009af9\" fill-rule=\"evenodd\" fill-opacity=\"1\" stroke=\"#000000\" stroke-opacity=\"1\" stroke-width=\"4.32\"/>\n",
       "<circle clip-path=\"url(#clip152)\" cx=\"1928.65\" cy=\"1703.85\" r=\"14.4\" fill=\"#009af9\" fill-rule=\"evenodd\" fill-opacity=\"1\" stroke=\"#000000\" stroke-opacity=\"1\" stroke-width=\"4.32\"/>\n",
       "<circle clip-path=\"url(#clip152)\" cx=\"2149.63\" cy=\"1474.62\" r=\"14.4\" fill=\"#009af9\" fill-rule=\"evenodd\" fill-opacity=\"1\" stroke=\"#000000\" stroke-opacity=\"1\" stroke-width=\"4.32\"/>\n",
       "<circle clip-path=\"url(#clip152)\" cx=\"1841.3\" cy=\"1795.56\" r=\"14.4\" fill=\"#009af9\" fill-rule=\"evenodd\" fill-opacity=\"1\" stroke=\"#000000\" stroke-opacity=\"1\" stroke-width=\"4.32\"/>\n",
       "<circle clip-path=\"url(#clip152)\" cx=\"1760.04\" cy=\"1827.81\" r=\"14.4\" fill=\"#009af9\" fill-rule=\"evenodd\" fill-opacity=\"1\" stroke=\"#000000\" stroke-opacity=\"1\" stroke-width=\"4.32\"/>\n",
       "<circle clip-path=\"url(#clip152)\" cx=\"2354.07\" cy=\"1149.99\" r=\"14.4\" fill=\"#009af9\" fill-rule=\"evenodd\" fill-opacity=\"1\" stroke=\"#000000\" stroke-opacity=\"1\" stroke-width=\"4.32\"/>\n",
       "<circle clip-path=\"url(#clip152)\" cx=\"1895.75\" cy=\"1757.79\" r=\"14.4\" fill=\"#009af9\" fill-rule=\"evenodd\" fill-opacity=\"1\" stroke=\"#000000\" stroke-opacity=\"1\" stroke-width=\"4.32\"/>\n",
       "<circle clip-path=\"url(#clip152)\" cx=\"1409.12\" cy=\"1853.04\" r=\"14.4\" fill=\"#009af9\" fill-rule=\"evenodd\" fill-opacity=\"1\" stroke=\"#000000\" stroke-opacity=\"1\" stroke-width=\"4.32\"/>\n",
       "<circle clip-path=\"url(#clip152)\" cx=\"1348.57\" cy=\"1856.16\" r=\"14.4\" fill=\"#009af9\" fill-rule=\"evenodd\" fill-opacity=\"1\" stroke=\"#000000\" stroke-opacity=\"1\" stroke-width=\"4.32\"/>\n",
       "<circle clip-path=\"url(#clip152)\" cx=\"1464.81\" cy=\"1882.25\" r=\"14.4\" fill=\"#009af9\" fill-rule=\"evenodd\" fill-opacity=\"1\" stroke=\"#000000\" stroke-opacity=\"1\" stroke-width=\"4.32\"/>\n",
       "<circle clip-path=\"url(#clip152)\" cx=\"1824.37\" cy=\"1773.15\" r=\"14.4\" fill=\"#009af9\" fill-rule=\"evenodd\" fill-opacity=\"1\" stroke=\"#000000\" stroke-opacity=\"1\" stroke-width=\"4.32\"/>\n",
       "<circle clip-path=\"url(#clip152)\" cx=\"289.924\" cy=\"1129.81\" r=\"14.4\" fill=\"#009af9\" fill-rule=\"evenodd\" fill-opacity=\"1\" stroke=\"#000000\" stroke-opacity=\"1\" stroke-width=\"4.32\"/>\n",
       "<circle clip-path=\"url(#clip152)\" cx=\"1781\" cy=\"1830.34\" r=\"14.4\" fill=\"#009af9\" fill-rule=\"evenodd\" fill-opacity=\"1\" stroke=\"#000000\" stroke-opacity=\"1\" stroke-width=\"4.32\"/>\n",
       "<circle clip-path=\"url(#clip152)\" cx=\"436.361\" cy=\"1246.6\" r=\"14.4\" fill=\"#009af9\" fill-rule=\"evenodd\" fill-opacity=\"1\" stroke=\"#000000\" stroke-opacity=\"1\" stroke-width=\"4.32\"/>\n",
       "<circle clip-path=\"url(#clip152)\" cx=\"1333.2\" cy=\"1845\" r=\"14.4\" fill=\"#009af9\" fill-rule=\"evenodd\" fill-opacity=\"1\" stroke=\"#000000\" stroke-opacity=\"1\" stroke-width=\"4.32\"/>\n",
       "<circle clip-path=\"url(#clip152)\" cx=\"601.056\" cy=\"1383.31\" r=\"14.4\" fill=\"#009af9\" fill-rule=\"evenodd\" fill-opacity=\"1\" stroke=\"#000000\" stroke-opacity=\"1\" stroke-width=\"4.32\"/>\n",
       "<circle clip-path=\"url(#clip152)\" cx=\"1030.62\" cy=\"1692.05\" r=\"14.4\" fill=\"#009af9\" fill-rule=\"evenodd\" fill-opacity=\"1\" stroke=\"#000000\" stroke-opacity=\"1\" stroke-width=\"4.32\"/>\n",
       "<circle clip-path=\"url(#clip152)\" cx=\"1425.15\" cy=\"1877.7\" r=\"14.4\" fill=\"#009af9\" fill-rule=\"evenodd\" fill-opacity=\"1\" stroke=\"#000000\" stroke-opacity=\"1\" stroke-width=\"4.32\"/>\n",
       "<circle clip-path=\"url(#clip152)\" cx=\"1082.01\" cy=\"1740.28\" r=\"14.4\" fill=\"#009af9\" fill-rule=\"evenodd\" fill-opacity=\"1\" stroke=\"#000000\" stroke-opacity=\"1\" stroke-width=\"4.32\"/>\n",
       "<circle clip-path=\"url(#clip152)\" cx=\"1108.94\" cy=\"1751.3\" r=\"14.4\" fill=\"#009af9\" fill-rule=\"evenodd\" fill-opacity=\"1\" stroke=\"#000000\" stroke-opacity=\"1\" stroke-width=\"4.32\"/>\n",
       "<circle clip-path=\"url(#clip152)\" cx=\"1551.19\" cy=\"1879.09\" r=\"14.4\" fill=\"#009af9\" fill-rule=\"evenodd\" fill-opacity=\"1\" stroke=\"#000000\" stroke-opacity=\"1\" stroke-width=\"4.32\"/>\n",
       "<circle clip-path=\"url(#clip152)\" cx=\"2075.99\" cy=\"1559.72\" r=\"14.4\" fill=\"#009af9\" fill-rule=\"evenodd\" fill-opacity=\"1\" stroke=\"#000000\" stroke-opacity=\"1\" stroke-width=\"4.32\"/>\n",
       "<circle clip-path=\"url(#clip152)\" cx=\"644.001\" cy=\"1419.98\" r=\"14.4\" fill=\"#009af9\" fill-rule=\"evenodd\" fill-opacity=\"1\" stroke=\"#000000\" stroke-opacity=\"1\" stroke-width=\"4.32\"/>\n",
       "<circle clip-path=\"url(#clip152)\" cx=\"1725.93\" cy=\"1850.48\" r=\"14.4\" fill=\"#009af9\" fill-rule=\"evenodd\" fill-opacity=\"1\" stroke=\"#000000\" stroke-opacity=\"1\" stroke-width=\"4.32\"/>\n",
       "<circle clip-path=\"url(#clip152)\" cx=\"857.447\" cy=\"1594.09\" r=\"14.4\" fill=\"#009af9\" fill-rule=\"evenodd\" fill-opacity=\"1\" stroke=\"#000000\" stroke-opacity=\"1\" stroke-width=\"4.32\"/>\n",
       "<circle clip-path=\"url(#clip152)\" cx=\"1580.73\" cy=\"1860.33\" r=\"14.4\" fill=\"#009af9\" fill-rule=\"evenodd\" fill-opacity=\"1\" stroke=\"#000000\" stroke-opacity=\"1\" stroke-width=\"4.32\"/>\n",
       "<circle clip-path=\"url(#clip152)\" cx=\"2228.06\" cy=\"1378.24\" r=\"14.4\" fill=\"#009af9\" fill-rule=\"evenodd\" fill-opacity=\"1\" stroke=\"#000000\" stroke-opacity=\"1\" stroke-width=\"4.32\"/>\n",
       "<circle clip-path=\"url(#clip152)\" cx=\"819.857\" cy=\"1577.95\" r=\"14.4\" fill=\"#009af9\" fill-rule=\"evenodd\" fill-opacity=\"1\" stroke=\"#000000\" stroke-opacity=\"1\" stroke-width=\"4.32\"/>\n",
       "<circle clip-path=\"url(#clip152)\" cx=\"1526.16\" cy=\"1880.53\" r=\"14.4\" fill=\"#009af9\" fill-rule=\"evenodd\" fill-opacity=\"1\" stroke=\"#000000\" stroke-opacity=\"1\" stroke-width=\"4.32\"/>\n",
       "<circle clip-path=\"url(#clip152)\" cx=\"1821.98\" cy=\"1785.36\" r=\"14.4\" fill=\"#009af9\" fill-rule=\"evenodd\" fill-opacity=\"1\" stroke=\"#000000\" stroke-opacity=\"1\" stroke-width=\"4.32\"/>\n",
       "<circle clip-path=\"url(#clip152)\" cx=\"1242.71\" cy=\"1821.07\" r=\"14.4\" fill=\"#009af9\" fill-rule=\"evenodd\" fill-opacity=\"1\" stroke=\"#000000\" stroke-opacity=\"1\" stroke-width=\"4.32\"/>\n",
       "<circle clip-path=\"url(#clip152)\" cx=\"1378.56\" cy=\"1878.35\" r=\"14.4\" fill=\"#009af9\" fill-rule=\"evenodd\" fill-opacity=\"1\" stroke=\"#000000\" stroke-opacity=\"1\" stroke-width=\"4.32\"/>\n",
       "<circle clip-path=\"url(#clip152)\" cx=\"1745.1\" cy=\"1835.21\" r=\"14.4\" fill=\"#009af9\" fill-rule=\"evenodd\" fill-opacity=\"1\" stroke=\"#000000\" stroke-opacity=\"1\" stroke-width=\"4.32\"/>\n",
       "<circle clip-path=\"url(#clip152)\" cx=\"2584.25\" cy=\"598.857\" r=\"14.4\" fill=\"#009af9\" fill-rule=\"evenodd\" fill-opacity=\"1\" stroke=\"#000000\" stroke-opacity=\"1\" stroke-width=\"4.32\"/>\n",
       "<circle clip-path=\"url(#clip152)\" cx=\"1172.88\" cy=\"1795.02\" r=\"14.4\" fill=\"#009af9\" fill-rule=\"evenodd\" fill-opacity=\"1\" stroke=\"#000000\" stroke-opacity=\"1\" stroke-width=\"4.32\"/>\n",
       "<circle clip-path=\"url(#clip152)\" cx=\"2249.22\" cy=\"1316.7\" r=\"14.4\" fill=\"#009af9\" fill-rule=\"evenodd\" fill-opacity=\"1\" stroke=\"#000000\" stroke-opacity=\"1\" stroke-width=\"4.32\"/>\n",
       "<circle clip-path=\"url(#clip152)\" cx=\"1883.73\" cy=\"1755.45\" r=\"14.4\" fill=\"#009af9\" fill-rule=\"evenodd\" fill-opacity=\"1\" stroke=\"#000000\" stroke-opacity=\"1\" stroke-width=\"4.32\"/>\n",
       "<circle clip-path=\"url(#clip152)\" cx=\"963.135\" cy=\"1684.31\" r=\"14.4\" fill=\"#009af9\" fill-rule=\"evenodd\" fill-opacity=\"1\" stroke=\"#000000\" stroke-opacity=\"1\" stroke-width=\"4.32\"/>\n",
       "<circle clip-path=\"url(#clip152)\" cx=\"722.969\" cy=\"1472.96\" r=\"14.4\" fill=\"#009af9\" fill-rule=\"evenodd\" fill-opacity=\"1\" stroke=\"#000000\" stroke-opacity=\"1\" stroke-width=\"4.32\"/>\n",
       "<circle clip-path=\"url(#clip152)\" cx=\"2217.75\" cy=\"1388.19\" r=\"14.4\" fill=\"#009af9\" fill-rule=\"evenodd\" fill-opacity=\"1\" stroke=\"#000000\" stroke-opacity=\"1\" stroke-width=\"4.32\"/>\n",
       "<circle clip-path=\"url(#clip152)\" cx=\"1357.52\" cy=\"1856.8\" r=\"14.4\" fill=\"#009af9\" fill-rule=\"evenodd\" fill-opacity=\"1\" stroke=\"#000000\" stroke-opacity=\"1\" stroke-width=\"4.32\"/>\n",
       "<circle clip-path=\"url(#clip152)\" cx=\"1401.94\" cy=\"1865.25\" r=\"14.4\" fill=\"#009af9\" fill-rule=\"evenodd\" fill-opacity=\"1\" stroke=\"#000000\" stroke-opacity=\"1\" stroke-width=\"4.32\"/>\n",
       "<circle clip-path=\"url(#clip152)\" cx=\"1193.88\" cy=\"1807.21\" r=\"14.4\" fill=\"#009af9\" fill-rule=\"evenodd\" fill-opacity=\"1\" stroke=\"#000000\" stroke-opacity=\"1\" stroke-width=\"4.32\"/>\n",
       "<circle clip-path=\"url(#clip152)\" cx=\"1352.12\" cy=\"1856.9\" r=\"14.4\" fill=\"#009af9\" fill-rule=\"evenodd\" fill-opacity=\"1\" stroke=\"#000000\" stroke-opacity=\"1\" stroke-width=\"4.32\"/>\n",
       "<circle clip-path=\"url(#clip152)\" cx=\"1108.6\" cy=\"1756.02\" r=\"14.4\" fill=\"#009af9\" fill-rule=\"evenodd\" fill-opacity=\"1\" stroke=\"#000000\" stroke-opacity=\"1\" stroke-width=\"4.32\"/>\n",
       "<circle clip-path=\"url(#clip152)\" cx=\"1800.05\" cy=\"1814.48\" r=\"14.4\" fill=\"#009af9\" fill-rule=\"evenodd\" fill-opacity=\"1\" stroke=\"#000000\" stroke-opacity=\"1\" stroke-width=\"4.32\"/>\n",
       "<circle clip-path=\"url(#clip152)\" cx=\"1518.77\" cy=\"1866.88\" r=\"14.4\" fill=\"#009af9\" fill-rule=\"evenodd\" fill-opacity=\"1\" stroke=\"#000000\" stroke-opacity=\"1\" stroke-width=\"4.32\"/>\n",
       "<circle clip-path=\"url(#clip152)\" cx=\"2222.95\" cy=\"1394.41\" r=\"14.4\" fill=\"#009af9\" fill-rule=\"evenodd\" fill-opacity=\"1\" stroke=\"#000000\" stroke-opacity=\"1\" stroke-width=\"4.32\"/>\n",
       "<circle clip-path=\"url(#clip152)\" cx=\"837.62\" cy=\"1570.71\" r=\"14.4\" fill=\"#009af9\" fill-rule=\"evenodd\" fill-opacity=\"1\" stroke=\"#000000\" stroke-opacity=\"1\" stroke-width=\"4.32\"/>\n",
       "<circle clip-path=\"url(#clip152)\" cx=\"652.764\" cy=\"1420.63\" r=\"14.4\" fill=\"#009af9\" fill-rule=\"evenodd\" fill-opacity=\"1\" stroke=\"#000000\" stroke-opacity=\"1\" stroke-width=\"4.32\"/>\n",
       "<path clip-path=\"url(#clip150)\" d=\"\n",
       "M303.091 214.927 L710.129 214.927 L710.129 111.247 L303.091 111.247  Z\n",
       "  \" fill=\"#ffffff\" fill-rule=\"evenodd\" fill-opacity=\"1\"/>\n",
       "<polyline clip-path=\"url(#clip150)\" style=\"stroke:#000000; stroke-linecap:butt; stroke-linejoin:round; stroke-width:4; stroke-opacity:1; fill:none\" points=\"\n",
       "  303.091,214.927 710.129,214.927 710.129,111.247 303.091,111.247 303.091,214.927 \n",
       "  \"/>\n",
       "<circle clip-path=\"url(#clip150)\" cx=\"419.397\" cy=\"163.087\" r=\"23.04\" fill=\"#009af9\" fill-rule=\"evenodd\" fill-opacity=\"1\" stroke=\"#000000\" stroke-opacity=\"1\" stroke-width=\"6.912\"/>\n",
       "<path clip-path=\"url(#clip150)\" d=\"M535.704 145.807 L564.94 145.807 L564.94 149.742 L552.671 149.742 L552.671 180.367 L547.972 180.367 L547.972 149.742 L535.704 149.742 L535.704 145.807 Z\" fill=\"#000000\" fill-rule=\"evenodd\" fill-opacity=\"1\" /><path clip-path=\"url(#clip150)\" d=\"M577.324 158.422 Q576.606 158.006 575.75 157.82 Q574.916 157.612 573.898 157.612 Q570.287 157.612 568.342 159.973 Q566.421 162.311 566.421 166.709 L566.421 180.367 L562.139 180.367 L562.139 154.441 L566.421 154.441 L566.421 158.469 Q567.764 156.107 569.916 154.973 Q572.069 153.816 575.148 153.816 Q575.588 153.816 576.12 153.885 Q576.653 153.932 577.301 154.047 L577.324 158.422 Z\" fill=\"#000000\" fill-rule=\"evenodd\" fill-opacity=\"1\" /><path clip-path=\"url(#clip150)\" d=\"M581.352 170.135 L581.352 154.441 L585.611 154.441 L585.611 169.973 Q585.611 173.654 587.046 175.506 Q588.481 177.334 591.352 177.334 Q594.801 177.334 596.791 175.135 Q598.805 172.936 598.805 169.14 L598.805 154.441 L603.064 154.441 L603.064 180.367 L598.805 180.367 L598.805 176.385 Q597.254 178.746 595.194 179.904 Q593.157 181.038 590.449 181.038 Q585.981 181.038 583.666 178.26 Q581.352 175.482 581.352 170.135 M592.069 153.816 L592.069 153.816 Z\" fill=\"#000000\" fill-rule=\"evenodd\" fill-opacity=\"1\" /><path clip-path=\"url(#clip150)\" d=\"M616.05 147.08 L616.05 154.441 L624.824 154.441 L624.824 157.751 L616.05 157.751 L616.05 171.825 Q616.05 174.996 616.907 175.899 Q617.787 176.802 620.449 176.802 L624.824 176.802 L624.824 180.367 L620.449 180.367 Q615.518 180.367 613.643 178.538 Q611.768 176.686 611.768 171.825 L611.768 157.751 L608.643 157.751 L608.643 154.441 L611.768 154.441 L611.768 147.08 L616.05 147.08 Z\" fill=\"#000000\" fill-rule=\"evenodd\" fill-opacity=\"1\" /><path clip-path=\"url(#clip150)\" d=\"M651.976 164.719 L651.976 180.367 L647.717 180.367 L647.717 164.857 Q647.717 161.177 646.282 159.348 Q644.847 157.52 641.976 157.52 Q638.527 157.52 636.536 159.719 Q634.546 161.918 634.546 165.714 L634.546 180.367 L630.263 180.367 L630.263 144.348 L634.546 144.348 L634.546 158.469 Q636.074 156.131 638.134 154.973 Q640.217 153.816 642.925 153.816 Q647.393 153.816 649.685 156.594 Q651.976 159.348 651.976 164.719 Z\" fill=\"#000000\" fill-rule=\"evenodd\" fill-opacity=\"1\" /></svg>\n"
      ]
     },
     "execution_count": 27,
     "metadata": {},
     "output_type": "execute_result"
    }
   ],
   "source": [
    "scatter(X, y, ylabel = \"Y\", xlabel = \"X\", label=\"Truth\", legend=:topleft, size=(720,540))"
   ]
  },
  {
   "cell_type": "code",
   "execution_count": 28,
   "metadata": {},
   "outputs": [
    {
     "data": {
      "text/plain": [
       "log_lkhd (generic function with 1 method)"
      ]
     },
     "execution_count": 28,
     "metadata": {},
     "output_type": "execute_result"
    }
   ],
   "source": [
    "function log_lkhd(X, y, n, β, A) \n",
    "    ŷ = gen(n,nvar,A,β,X)\n",
    "    ll = sum(-logpdf.(Normal(0.1,1),y-ŷ))/n\n",
    "    return ll\n",
    "end"
   ]
  },
  {
   "cell_type": "code",
   "execution_count": 29,
   "metadata": {},
   "outputs": [
    {
     "data": {
      "text/plain": [
       "1.192103852046394"
      ]
     },
     "execution_count": 29,
     "metadata": {},
     "output_type": "execute_result"
    }
   ],
   "source": [
    "log_lkhd(X, y, size(y,1),β,A) # Test log likelihood"
   ]
  },
  {
   "cell_type": "code",
   "execution_count": 30,
   "metadata": {},
   "outputs": [
    {
     "data": {
      "text/plain": [
       "f (generic function with 1 method)"
      ]
     },
     "execution_count": 30,
     "metadata": {},
     "output_type": "execute_result"
    }
   ],
   "source": [
    "f(X,y,n,A) = β -> log_lkhd(X, y, n, β, A) #closure for optimise call"
   ]
  },
  {
   "cell_type": "code",
   "execution_count": 31,
   "metadata": {},
   "outputs": [
    {
     "data": {
      "text/plain": [
       "#3 (generic function with 1 method)"
      ]
     },
     "execution_count": 31,
     "metadata": {},
     "output_type": "execute_result"
    }
   ],
   "source": [
    "ν = f(X,y,n,A) #wrapper"
   ]
  },
  {
   "cell_type": "code",
   "execution_count": 32,
   "metadata": {},
   "outputs": [
    {
     "data": {
      "text/plain": [
       "120.65244239496364"
      ]
     },
     "execution_count": 32,
     "metadata": {},
     "output_type": "execute_result"
    }
   ],
   "source": [
    "ν([0.2,0.2,0.1]) #Test ν"
   ]
  },
  {
   "cell_type": "code",
   "execution_count": 33,
   "metadata": {
    "scrolled": false
   },
   "outputs": [
    {
     "data": {
      "text/plain": [
       " * Status: failure (line search failed)\n",
       "\n",
       " * Candidate solution\n",
       "    Final objective value:     1.222166e+00\n",
       "\n",
       " * Found with\n",
       "    Algorithm:     L-BFGS\n",
       "\n",
       " * Convergence measures\n",
       "    |x - x'|               = 0.00e+00 ≤ 0.0e+00\n",
       "    |x - x'|/|x'|          = 0.00e+00 ≤ 0.0e+00\n",
       "    |f(x) - f(x')|         = 1.05e-01 ≰ 0.0e+00\n",
       "    |f(x) - f(x')|/|f(x')| = 8.58e-02 ≰ 0.0e+00\n",
       "    |g(x)|                 = 1.12e-01 ≰ 1.0e-08\n",
       "\n",
       " * Work counters\n",
       "    Seconds run:   0  (vs limit Inf)\n",
       "    Iterations:    14\n",
       "    f(x) calls:    231\n",
       "    ∇f(x) calls:   231\n"
      ]
     },
     "execution_count": 33,
     "metadata": {},
     "output_type": "execute_result"
    }
   ],
   "source": [
    "res = optimize(ν, [0.,0.,0.], LBFGS(), autodiff=:forward)"
   ]
  },
  {
   "cell_type": "code",
   "execution_count": 34,
   "metadata": {},
   "outputs": [
    {
     "data": {
      "text/plain": [
       "3-element Vector{Float64}:\n",
       " 0.1394198491041258\n",
       " 6.973752835740824\n",
       " 0.9635229323973697"
      ]
     },
     "execution_count": 34,
     "metadata": {},
     "output_type": "execute_result"
    }
   ],
   "source": [
    "β̂ = Optim.minimizer(res)"
   ]
  },
  {
   "cell_type": "code",
   "execution_count": 35,
   "metadata": {},
   "outputs": [
    {
     "data": {
      "text/plain": [
       "3-element Vector{Float64}:\n",
       " -0.1394198491041258\n",
       "  0.026247164259175726\n",
       "  0.03647706760263025"
      ]
     },
     "execution_count": 35,
     "metadata": {},
     "output_type": "execute_result"
    }
   ],
   "source": [
    "β-β̂"
   ]
  },
  {
   "cell_type": "code",
   "execution_count": 36,
   "metadata": {},
   "outputs": [],
   "source": [
    "ŷ = gen(n,nvar,0.,β̂,X);"
   ]
  },
  {
   "cell_type": "code",
   "execution_count": 37,
   "metadata": {},
   "outputs": [],
   "source": [
    "ψ = sortslices([X[:] ŷ[:]], dims=1);"
   ]
  },
  {
   "cell_type": "code",
   "execution_count": 38,
   "metadata": {},
   "outputs": [
    {
     "data": {
      "image/svg+xml": [
       "<?xml version=\"1.0\" encoding=\"utf-8\"?>\n",
       "<svg xmlns=\"http://www.w3.org/2000/svg\" xmlns:xlink=\"http://www.w3.org/1999/xlink\" width=\"720\" height=\"540\" viewBox=\"0 0 2880 2160\">\n",
       "<defs>\n",
       "  <clipPath id=\"clip190\">\n",
       "    <rect x=\"0\" y=\"0\" width=\"2880\" height=\"2160\"/>\n",
       "  </clipPath>\n",
       "</defs>\n",
       "<path clip-path=\"url(#clip190)\" d=\"\n",
       "M0 2160 L2880 2160 L2880 0 L0 0  Z\n",
       "  \" fill=\"#ffffff\" fill-rule=\"evenodd\" fill-opacity=\"1\"/>\n",
       "<defs>\n",
       "  <clipPath id=\"clip191\">\n",
       "    <rect x=\"576\" y=\"0\" width=\"2017\" height=\"2017\"/>\n",
       "  </clipPath>\n",
       "</defs>\n",
       "<path clip-path=\"url(#clip190)\" d=\"\n",
       "M215.861 1967.32 L2832.76 1967.32 L2832.76 47.2441 L215.861 47.2441  Z\n",
       "  \" fill=\"#ffffff\" fill-rule=\"evenodd\" fill-opacity=\"1\"/>\n",
       "<defs>\n",
       "  <clipPath id=\"clip192\">\n",
       "    <rect x=\"215\" y=\"47\" width=\"2618\" height=\"1921\"/>\n",
       "  </clipPath>\n",
       "</defs>\n",
       "<polyline clip-path=\"url(#clip192)\" style=\"stroke:#000000; stroke-linecap:butt; stroke-linejoin:round; stroke-width:2; stroke-opacity:0.1; fill:none\" points=\"\n",
       "  644.337,1967.32 644.337,47.2441 \n",
       "  \"/>\n",
       "<polyline clip-path=\"url(#clip192)\" style=\"stroke:#000000; stroke-linecap:butt; stroke-linejoin:round; stroke-width:2; stroke-opacity:0.1; fill:none\" points=\"\n",
       "  1081.79,1967.32 1081.79,47.2441 \n",
       "  \"/>\n",
       "<polyline clip-path=\"url(#clip192)\" style=\"stroke:#000000; stroke-linecap:butt; stroke-linejoin:round; stroke-width:2; stroke-opacity:0.1; fill:none\" points=\"\n",
       "  1519.24,1967.32 1519.24,47.2441 \n",
       "  \"/>\n",
       "<polyline clip-path=\"url(#clip192)\" style=\"stroke:#000000; stroke-linecap:butt; stroke-linejoin:round; stroke-width:2; stroke-opacity:0.1; fill:none\" points=\"\n",
       "  1956.69,1967.32 1956.69,47.2441 \n",
       "  \"/>\n",
       "<polyline clip-path=\"url(#clip192)\" style=\"stroke:#000000; stroke-linecap:butt; stroke-linejoin:round; stroke-width:2; stroke-opacity:0.1; fill:none\" points=\"\n",
       "  2394.15,1967.32 2394.15,47.2441 \n",
       "  \"/>\n",
       "<polyline clip-path=\"url(#clip192)\" style=\"stroke:#000000; stroke-linecap:butt; stroke-linejoin:round; stroke-width:2; stroke-opacity:0.1; fill:none\" points=\"\n",
       "  2831.6,1967.32 2831.6,47.2441 \n",
       "  \"/>\n",
       "<polyline clip-path=\"url(#clip190)\" style=\"stroke:#000000; stroke-linecap:butt; stroke-linejoin:round; stroke-width:4; stroke-opacity:1; fill:none\" points=\"\n",
       "  215.861,1967.32 2832.76,1967.32 \n",
       "  \"/>\n",
       "<polyline clip-path=\"url(#clip190)\" style=\"stroke:#000000; stroke-linecap:butt; stroke-linejoin:round; stroke-width:4; stroke-opacity:1; fill:none\" points=\"\n",
       "  644.337,1967.32 644.337,1948.42 \n",
       "  \"/>\n",
       "<polyline clip-path=\"url(#clip190)\" style=\"stroke:#000000; stroke-linecap:butt; stroke-linejoin:round; stroke-width:4; stroke-opacity:1; fill:none\" points=\"\n",
       "  1081.79,1967.32 1081.79,1948.42 \n",
       "  \"/>\n",
       "<polyline clip-path=\"url(#clip190)\" style=\"stroke:#000000; stroke-linecap:butt; stroke-linejoin:round; stroke-width:4; stroke-opacity:1; fill:none\" points=\"\n",
       "  1519.24,1967.32 1519.24,1948.42 \n",
       "  \"/>\n",
       "<polyline clip-path=\"url(#clip190)\" style=\"stroke:#000000; stroke-linecap:butt; stroke-linejoin:round; stroke-width:4; stroke-opacity:1; fill:none\" points=\"\n",
       "  1956.69,1967.32 1956.69,1948.42 \n",
       "  \"/>\n",
       "<polyline clip-path=\"url(#clip190)\" style=\"stroke:#000000; stroke-linecap:butt; stroke-linejoin:round; stroke-width:4; stroke-opacity:1; fill:none\" points=\"\n",
       "  2394.15,1967.32 2394.15,1948.42 \n",
       "  \"/>\n",
       "<polyline clip-path=\"url(#clip190)\" style=\"stroke:#000000; stroke-linecap:butt; stroke-linejoin:round; stroke-width:4; stroke-opacity:1; fill:none\" points=\"\n",
       "  2831.6,1967.32 2831.6,1948.42 \n",
       "  \"/>\n",
       "<path clip-path=\"url(#clip190)\" d=\"M614.279 2016.73 L643.955 2016.73 L643.955 2020.67 L614.279 2020.67 L614.279 2016.73 Z\" fill=\"#000000\" fill-rule=\"evenodd\" fill-opacity=\"1\" /><path clip-path=\"url(#clip190)\" d=\"M658.075 2029.62 L674.394 2029.62 L674.394 2033.56 L652.45 2033.56 L652.45 2029.62 Q655.112 2026.87 659.695 2022.24 Q664.302 2017.59 665.482 2016.25 Q667.728 2013.72 668.607 2011.99 Q669.51 2010.23 669.51 2008.54 Q669.51 2005.78 667.566 2004.05 Q665.644 2002.31 662.542 2002.31 Q660.343 2002.31 657.89 2003.07 Q655.459 2003.84 652.681 2005.39 L652.681 2000.67 Q655.505 1999.53 657.959 1998.95 Q660.413 1998.37 662.45 1998.37 Q667.82 1998.37 671.015 2001.06 Q674.209 2003.75 674.209 2008.24 Q674.209 2010.37 673.399 2012.29 Q672.612 2014.18 670.505 2016.78 Q669.927 2017.45 666.825 2020.67 Q663.723 2023.86 658.075 2029.62 Z\" fill=\"#000000\" fill-rule=\"evenodd\" fill-opacity=\"1\" /><path clip-path=\"url(#clip190)\" d=\"M1051.55 2016.73 L1081.22 2016.73 L1081.22 2020.67 L1051.55 2020.67 L1051.55 2016.73 Z\" fill=\"#000000\" fill-rule=\"evenodd\" fill-opacity=\"1\" /><path clip-path=\"url(#clip190)\" d=\"M1092.12 2029.62 L1099.76 2029.62 L1099.76 2003.26 L1091.45 2004.93 L1091.45 2000.67 L1099.72 1999 L1104.39 1999 L1104.39 2029.62 L1112.03 2029.62 L1112.03 2033.56 L1092.12 2033.56 L1092.12 2029.62 Z\" fill=\"#000000\" fill-rule=\"evenodd\" fill-opacity=\"1\" /><path clip-path=\"url(#clip190)\" d=\"M1519.24 2002.08 Q1515.63 2002.08 1513.8 2005.64 Q1512 2009.18 1512 2016.31 Q1512 2023.42 1513.8 2026.99 Q1515.63 2030.53 1519.24 2030.53 Q1522.88 2030.53 1524.68 2026.99 Q1526.51 2023.42 1526.51 2016.31 Q1526.51 2009.18 1524.68 2005.64 Q1522.88 2002.08 1519.24 2002.08 M1519.24 1998.37 Q1525.05 1998.37 1528.11 2002.98 Q1531.19 2007.56 1531.19 2016.31 Q1531.19 2025.04 1528.11 2029.65 Q1525.05 2034.23 1519.24 2034.23 Q1513.43 2034.23 1510.35 2029.65 Q1507.3 2025.04 1507.3 2016.31 Q1507.3 2007.56 1510.35 2002.98 Q1513.43 1998.37 1519.24 1998.37 Z\" fill=\"#000000\" fill-rule=\"evenodd\" fill-opacity=\"1\" /><path clip-path=\"url(#clip190)\" d=\"M1947.08 2029.62 L1954.71 2029.62 L1954.71 2003.26 L1946.4 2004.93 L1946.4 2000.67 L1954.67 1999 L1959.34 1999 L1959.34 2029.62 L1966.98 2029.62 L1966.98 2033.56 L1947.08 2033.56 L1947.08 2029.62 Z\" fill=\"#000000\" fill-rule=\"evenodd\" fill-opacity=\"1\" /><path clip-path=\"url(#clip190)\" d=\"M2388.8 2029.62 L2405.12 2029.62 L2405.12 2033.56 L2383.17 2033.56 L2383.17 2029.62 Q2385.84 2026.87 2390.42 2022.24 Q2395.03 2017.59 2396.21 2016.25 Q2398.45 2013.72 2399.33 2011.99 Q2400.23 2010.23 2400.23 2008.54 Q2400.23 2005.78 2398.29 2004.05 Q2396.37 2002.31 2393.27 2002.31 Q2391.07 2002.31 2388.61 2003.07 Q2386.18 2003.84 2383.41 2005.39 L2383.41 2000.67 Q2386.23 1999.53 2388.68 1998.95 Q2391.14 1998.37 2393.17 1998.37 Q2398.54 1998.37 2401.74 2001.06 Q2404.93 2003.75 2404.93 2008.24 Q2404.93 2010.37 2404.12 2012.29 Q2403.34 2014.18 2401.23 2016.78 Q2400.65 2017.45 2397.55 2020.67 Q2394.45 2023.86 2388.8 2029.62 Z\" fill=\"#000000\" fill-rule=\"evenodd\" fill-opacity=\"1\" /><path clip-path=\"url(#clip190)\" d=\"M2835.85 2014.93 Q2839.2 2015.64 2841.08 2017.91 Q2842.98 2020.18 2842.98 2023.51 Q2842.98 2028.63 2839.46 2031.43 Q2835.94 2034.23 2829.46 2034.23 Q2827.28 2034.23 2824.97 2033.79 Q2822.68 2033.37 2820.22 2032.52 L2820.22 2028 Q2822.17 2029.14 2824.48 2029.72 Q2826.8 2030.3 2829.32 2030.3 Q2833.72 2030.3 2836.01 2028.56 Q2838.32 2026.82 2838.32 2023.51 Q2838.32 2020.46 2836.17 2018.75 Q2834.04 2017.01 2830.22 2017.01 L2826.19 2017.01 L2826.19 2013.17 L2830.41 2013.17 Q2833.86 2013.17 2835.68 2011.8 Q2837.51 2010.41 2837.51 2007.82 Q2837.51 2005.16 2835.62 2003.75 Q2833.74 2002.31 2830.22 2002.31 Q2828.3 2002.31 2826.1 2002.73 Q2823.9 2003.14 2821.26 2004.02 L2821.26 1999.86 Q2823.93 1999.12 2826.24 1998.75 Q2828.58 1998.37 2830.64 1998.37 Q2835.96 1998.37 2839.06 2000.81 Q2842.17 2003.21 2842.17 2007.33 Q2842.17 2010.2 2840.52 2012.19 Q2838.88 2014.16 2835.85 2014.93 Z\" fill=\"#000000\" fill-rule=\"evenodd\" fill-opacity=\"1\" /><path clip-path=\"url(#clip190)\" d=\"M1506.13 2071.86 L1513.04 2071.86 L1524.85 2089.53 L1536.72 2071.86 L1543.63 2071.86 L1528.35 2094.68 L1544.65 2119.38 L1537.74 2119.38 L1524.37 2099.17 L1510.91 2119.38 L1503.97 2119.38 L1520.93 2094.02 L1506.13 2071.86 Z\" fill=\"#000000\" fill-rule=\"evenodd\" fill-opacity=\"1\" /><polyline clip-path=\"url(#clip192)\" style=\"stroke:#000000; stroke-linecap:butt; stroke-linejoin:round; stroke-width:2; stroke-opacity:0.1; fill:none\" points=\"\n",
       "  215.861,1878.71 2832.76,1878.71 \n",
       "  \"/>\n",
       "<polyline clip-path=\"url(#clip192)\" style=\"stroke:#000000; stroke-linecap:butt; stroke-linejoin:round; stroke-width:2; stroke-opacity:0.1; fill:none\" points=\"\n",
       "  215.861,1424.75 2832.76,1424.75 \n",
       "  \"/>\n",
       "<polyline clip-path=\"url(#clip192)\" style=\"stroke:#000000; stroke-linecap:butt; stroke-linejoin:round; stroke-width:2; stroke-opacity:0.1; fill:none\" points=\"\n",
       "  215.861,970.797 2832.76,970.797 \n",
       "  \"/>\n",
       "<polyline clip-path=\"url(#clip192)\" style=\"stroke:#000000; stroke-linecap:butt; stroke-linejoin:round; stroke-width:2; stroke-opacity:0.1; fill:none\" points=\"\n",
       "  215.861,516.839 2832.76,516.839 \n",
       "  \"/>\n",
       "<polyline clip-path=\"url(#clip192)\" style=\"stroke:#000000; stroke-linecap:butt; stroke-linejoin:round; stroke-width:2; stroke-opacity:0.1; fill:none\" points=\"\n",
       "  215.861,62.8813 2832.76,62.8813 \n",
       "  \"/>\n",
       "<polyline clip-path=\"url(#clip190)\" style=\"stroke:#000000; stroke-linecap:butt; stroke-linejoin:round; stroke-width:4; stroke-opacity:1; fill:none\" points=\"\n",
       "  215.861,1967.32 215.861,47.2441 \n",
       "  \"/>\n",
       "<polyline clip-path=\"url(#clip190)\" style=\"stroke:#000000; stroke-linecap:butt; stroke-linejoin:round; stroke-width:4; stroke-opacity:1; fill:none\" points=\"\n",
       "  215.861,1878.71 234.759,1878.71 \n",
       "  \"/>\n",
       "<polyline clip-path=\"url(#clip190)\" style=\"stroke:#000000; stroke-linecap:butt; stroke-linejoin:round; stroke-width:4; stroke-opacity:1; fill:none\" points=\"\n",
       "  215.861,1424.75 234.759,1424.75 \n",
       "  \"/>\n",
       "<polyline clip-path=\"url(#clip190)\" style=\"stroke:#000000; stroke-linecap:butt; stroke-linejoin:round; stroke-width:4; stroke-opacity:1; fill:none\" points=\"\n",
       "  215.861,970.797 234.759,970.797 \n",
       "  \"/>\n",
       "<polyline clip-path=\"url(#clip190)\" style=\"stroke:#000000; stroke-linecap:butt; stroke-linejoin:round; stroke-width:4; stroke-opacity:1; fill:none\" points=\"\n",
       "  215.861,516.839 234.759,516.839 \n",
       "  \"/>\n",
       "<polyline clip-path=\"url(#clip190)\" style=\"stroke:#000000; stroke-linecap:butt; stroke-linejoin:round; stroke-width:4; stroke-opacity:1; fill:none\" points=\"\n",
       "  215.861,62.8813 234.759,62.8813 \n",
       "  \"/>\n",
       "<path clip-path=\"url(#clip190)\" d=\"M160.717 1864.51 Q157.106 1864.51 155.277 1868.08 Q153.471 1871.62 153.471 1878.75 Q153.471 1885.85 155.277 1889.42 Q157.106 1892.96 160.717 1892.96 Q164.351 1892.96 166.156 1889.42 Q167.985 1885.85 167.985 1878.75 Q167.985 1871.62 166.156 1868.08 Q164.351 1864.51 160.717 1864.51 M160.717 1860.81 Q166.527 1860.81 169.582 1865.41 Q172.661 1870 172.661 1878.75 Q172.661 1887.47 169.582 1892.08 Q166.527 1896.66 160.717 1896.66 Q154.906 1896.66 151.828 1892.08 Q148.772 1887.47 148.772 1878.75 Q148.772 1870 151.828 1865.41 Q154.906 1860.81 160.717 1860.81 Z\" fill=\"#000000\" fill-rule=\"evenodd\" fill-opacity=\"1\" /><path clip-path=\"url(#clip190)\" d=\"M124.583 1438.1 L140.902 1438.1 L140.902 1442.03 L118.958 1442.03 L118.958 1438.1 Q121.62 1435.34 126.203 1430.72 Q130.809 1426.06 131.99 1424.72 Q134.235 1422.2 135.115 1420.46 Q136.018 1418.7 136.018 1417.01 Q136.018 1414.26 134.073 1412.52 Q132.152 1410.78 129.05 1410.78 Q126.851 1410.78 124.397 1411.55 Q121.967 1412.31 119.189 1413.86 L119.189 1409.14 Q122.013 1408.01 124.467 1407.43 Q126.92 1406.85 128.958 1406.85 Q134.328 1406.85 137.522 1409.53 Q140.717 1412.22 140.717 1416.71 Q140.717 1418.84 139.907 1420.76 Q139.119 1422.66 137.013 1425.25 Q136.434 1425.92 133.332 1429.14 Q130.231 1432.34 124.583 1438.1 Z\" fill=\"#000000\" fill-rule=\"evenodd\" fill-opacity=\"1\" /><path clip-path=\"url(#clip190)\" d=\"M160.717 1410.55 Q157.106 1410.55 155.277 1414.12 Q153.471 1417.66 153.471 1424.79 Q153.471 1431.9 155.277 1435.46 Q157.106 1439 160.717 1439 Q164.351 1439 166.156 1435.46 Q167.985 1431.9 167.985 1424.79 Q167.985 1417.66 166.156 1414.12 Q164.351 1410.55 160.717 1410.55 M160.717 1406.85 Q166.527 1406.85 169.582 1411.46 Q172.661 1416.04 172.661 1424.79 Q172.661 1433.52 169.582 1438.12 Q166.527 1442.71 160.717 1442.71 Q154.906 1442.71 151.828 1438.12 Q148.772 1433.52 148.772 1424.79 Q148.772 1416.04 151.828 1411.46 Q154.906 1406.85 160.717 1406.85 Z\" fill=\"#000000\" fill-rule=\"evenodd\" fill-opacity=\"1\" /><path clip-path=\"url(#clip190)\" d=\"M133.402 957.591 L121.596 976.04 L133.402 976.04 L133.402 957.591 M132.175 953.517 L138.055 953.517 L138.055 976.04 L142.985 976.04 L142.985 979.929 L138.055 979.929 L138.055 988.077 L133.402 988.077 L133.402 979.929 L117.8 979.929 L117.8 975.415 L132.175 953.517 Z\" fill=\"#000000\" fill-rule=\"evenodd\" fill-opacity=\"1\" /><path clip-path=\"url(#clip190)\" d=\"M160.717 956.596 Q157.106 956.596 155.277 960.16 Q153.471 963.702 153.471 970.832 Q153.471 977.938 155.277 981.503 Q157.106 985.045 160.717 985.045 Q164.351 985.045 166.156 981.503 Q167.985 977.938 167.985 970.832 Q167.985 963.702 166.156 960.16 Q164.351 956.596 160.717 956.596 M160.717 952.892 Q166.527 952.892 169.582 957.498 Q172.661 962.082 172.661 970.832 Q172.661 979.558 169.582 984.165 Q166.527 988.748 160.717 988.748 Q154.906 988.748 151.828 984.165 Q148.772 979.558 148.772 970.832 Q148.772 962.082 151.828 957.498 Q154.906 952.892 160.717 952.892 Z\" fill=\"#000000\" fill-rule=\"evenodd\" fill-opacity=\"1\" /><path clip-path=\"url(#clip190)\" d=\"M131.133 514.976 Q127.985 514.976 126.133 517.128 Q124.305 519.281 124.305 523.031 Q124.305 526.758 126.133 528.934 Q127.985 531.087 131.133 531.087 Q134.282 531.087 136.11 528.934 Q137.962 526.758 137.962 523.031 Q137.962 519.281 136.11 517.128 Q134.282 514.976 131.133 514.976 M140.416 500.323 L140.416 504.582 Q138.657 503.749 136.851 503.309 Q135.069 502.869 133.309 502.869 Q128.68 502.869 126.226 505.994 Q123.795 509.119 123.448 515.439 Q124.814 513.425 126.874 512.36 Q128.934 511.272 131.411 511.272 Q136.62 511.272 139.629 514.443 Q142.661 517.591 142.661 523.031 Q142.661 528.355 139.513 531.573 Q136.365 534.79 131.133 534.79 Q125.138 534.79 121.967 530.207 Q118.796 525.601 118.796 516.874 Q118.796 508.679 122.684 503.818 Q126.573 498.934 133.124 498.934 Q134.883 498.934 136.666 499.281 Q138.471 499.629 140.416 500.323 Z\" fill=\"#000000\" fill-rule=\"evenodd\" fill-opacity=\"1\" /><path clip-path=\"url(#clip190)\" d=\"M160.717 502.638 Q157.106 502.638 155.277 506.203 Q153.471 509.744 153.471 516.874 Q153.471 523.98 155.277 527.545 Q157.106 531.087 160.717 531.087 Q164.351 531.087 166.156 527.545 Q167.985 523.98 167.985 516.874 Q167.985 509.744 166.156 506.203 Q164.351 502.638 160.717 502.638 M160.717 498.934 Q166.527 498.934 169.582 503.541 Q172.661 508.124 172.661 516.874 Q172.661 525.601 169.582 530.207 Q166.527 534.79 160.717 534.79 Q154.906 534.79 151.828 530.207 Q148.772 525.601 148.772 516.874 Q148.772 508.124 151.828 503.541 Q154.906 498.934 160.717 498.934 Z\" fill=\"#000000\" fill-rule=\"evenodd\" fill-opacity=\"1\" /><path clip-path=\"url(#clip190)\" d=\"M130.555 63.7494 Q127.221 63.7494 125.3 65.5318 Q123.402 67.3142 123.402 70.4392 Q123.402 73.5642 125.3 75.3466 Q127.221 77.129 130.555 77.129 Q133.888 77.129 135.809 75.3466 Q137.731 73.541 137.731 70.4392 Q137.731 67.3142 135.809 65.5318 Q133.911 63.7494 130.555 63.7494 M125.879 61.7587 Q122.87 61.0179 121.18 58.9578 Q119.513 56.8976 119.513 53.9346 Q119.513 49.7911 122.453 47.3837 Q125.416 44.9764 130.555 44.9764 Q135.717 44.9764 138.657 47.3837 Q141.596 49.7911 141.596 53.9346 Q141.596 56.8976 139.907 58.9578 Q138.24 61.0179 135.254 61.7587 Q138.633 62.5457 140.508 64.8374 Q142.407 67.129 142.407 70.4392 Q142.407 75.4623 139.328 78.1475 Q136.272 80.8326 130.555 80.8326 Q124.837 80.8326 121.758 78.1475 Q118.703 75.4623 118.703 70.4392 Q118.703 67.129 120.601 64.8374 Q122.499 62.5457 125.879 61.7587 M124.166 54.3744 Q124.166 57.0596 125.833 58.5642 Q127.522 60.0689 130.555 60.0689 Q133.564 60.0689 135.254 58.5642 Q136.967 57.0596 136.967 54.3744 Q136.967 51.6893 135.254 50.1847 Q133.564 48.68 130.555 48.68 Q127.522 48.68 125.833 50.1847 Q124.166 51.6893 124.166 54.3744 Z\" fill=\"#000000\" fill-rule=\"evenodd\" fill-opacity=\"1\" /><path clip-path=\"url(#clip190)\" d=\"M160.717 48.68 Q157.106 48.68 155.277 52.2448 Q153.471 55.7865 153.471 62.9161 Q153.471 70.0225 155.277 73.5873 Q157.106 77.129 160.717 77.129 Q164.351 77.129 166.156 73.5873 Q167.985 70.0225 167.985 62.9161 Q167.985 55.7865 166.156 52.2448 Q164.351 48.68 160.717 48.68 M160.717 44.9764 Q166.527 44.9764 169.582 49.5828 Q172.661 54.1661 172.661 62.9161 Q172.661 71.6429 169.582 76.2493 Q166.527 80.8326 160.717 80.8326 Q154.906 80.8326 151.828 76.2493 Q148.772 71.6429 148.772 62.9161 Q148.772 54.1661 151.828 49.5828 Q154.906 44.9764 160.717 44.9764 Z\" fill=\"#000000\" fill-rule=\"evenodd\" fill-opacity=\"1\" /><path clip-path=\"url(#clip190)\" d=\"M12.8242 1027.32 L12.8242 1020.41 L32.3669 1007.23 L12.8242 994.153 L12.8242 987.246 L37.7141 1004.05 L60.3442 1004.05 L60.3442 1010.51 L37.7141 1010.51 L12.8242 1027.32 Z\" fill=\"#000000\" fill-rule=\"evenodd\" fill-opacity=\"1\" /><circle clip-path=\"url(#clip192)\" cx=\"1613.02\" cy=\"1872.81\" r=\"14.4\" fill=\"#009af9\" fill-rule=\"evenodd\" fill-opacity=\"1\" stroke=\"#000000\" stroke-opacity=\"1\" stroke-width=\"4.32\"/>\n",
       "<circle clip-path=\"url(#clip192)\" cx=\"915.976\" cy=\"1626.99\" r=\"14.4\" fill=\"#009af9\" fill-rule=\"evenodd\" fill-opacity=\"1\" stroke=\"#000000\" stroke-opacity=\"1\" stroke-width=\"4.32\"/>\n",
       "<circle clip-path=\"url(#clip192)\" cx=\"1425.99\" cy=\"1890.82\" r=\"14.4\" fill=\"#009af9\" fill-rule=\"evenodd\" fill-opacity=\"1\" stroke=\"#000000\" stroke-opacity=\"1\" stroke-width=\"4.32\"/>\n",
       "<circle clip-path=\"url(#clip192)\" cx=\"1519.8\" cy=\"1878.62\" r=\"14.4\" fill=\"#009af9\" fill-rule=\"evenodd\" fill-opacity=\"1\" stroke=\"#000000\" stroke-opacity=\"1\" stroke-width=\"4.32\"/>\n",
       "<circle clip-path=\"url(#clip192)\" cx=\"1300.83\" cy=\"1842.19\" r=\"14.4\" fill=\"#009af9\" fill-rule=\"evenodd\" fill-opacity=\"1\" stroke=\"#000000\" stroke-opacity=\"1\" stroke-width=\"4.32\"/>\n",
       "<circle clip-path=\"url(#clip192)\" cx=\"2537.38\" cy=\"716.715\" r=\"14.4\" fill=\"#009af9\" fill-rule=\"evenodd\" fill-opacity=\"1\" stroke=\"#000000\" stroke-opacity=\"1\" stroke-width=\"4.32\"/>\n",
       "<circle clip-path=\"url(#clip192)\" cx=\"1434.92\" cy=\"1879.17\" r=\"14.4\" fill=\"#009af9\" fill-rule=\"evenodd\" fill-opacity=\"1\" stroke=\"#000000\" stroke-opacity=\"1\" stroke-width=\"4.32\"/>\n",
       "<circle clip-path=\"url(#clip192)\" cx=\"1727.44\" cy=\"1834.21\" r=\"14.4\" fill=\"#009af9\" fill-rule=\"evenodd\" fill-opacity=\"1\" stroke=\"#000000\" stroke-opacity=\"1\" stroke-width=\"4.32\"/>\n",
       "<circle clip-path=\"url(#clip192)\" cx=\"1874.91\" cy=\"1754.31\" r=\"14.4\" fill=\"#009af9\" fill-rule=\"evenodd\" fill-opacity=\"1\" stroke=\"#000000\" stroke-opacity=\"1\" stroke-width=\"4.32\"/>\n",
       "<circle clip-path=\"url(#clip192)\" cx=\"2021.72\" cy=\"1648.94\" r=\"14.4\" fill=\"#009af9\" fill-rule=\"evenodd\" fill-opacity=\"1\" stroke=\"#000000\" stroke-opacity=\"1\" stroke-width=\"4.32\"/>\n",
       "<circle clip-path=\"url(#clip192)\" cx=\"1098.71\" cy=\"1742.72\" r=\"14.4\" fill=\"#009af9\" fill-rule=\"evenodd\" fill-opacity=\"1\" stroke=\"#000000\" stroke-opacity=\"1\" stroke-width=\"4.32\"/>\n",
       "<circle clip-path=\"url(#clip192)\" cx=\"898.85\" cy=\"1611.77\" r=\"14.4\" fill=\"#009af9\" fill-rule=\"evenodd\" fill-opacity=\"1\" stroke=\"#000000\" stroke-opacity=\"1\" stroke-width=\"4.32\"/>\n",
       "<circle clip-path=\"url(#clip192)\" cx=\"2758.69\" cy=\"108.746\" r=\"14.4\" fill=\"#009af9\" fill-rule=\"evenodd\" fill-opacity=\"1\" stroke=\"#000000\" stroke-opacity=\"1\" stroke-width=\"4.32\"/>\n",
       "<circle clip-path=\"url(#clip192)\" cx=\"959.527\" cy=\"1673.7\" r=\"14.4\" fill=\"#009af9\" fill-rule=\"evenodd\" fill-opacity=\"1\" stroke=\"#000000\" stroke-opacity=\"1\" stroke-width=\"4.32\"/>\n",
       "<circle clip-path=\"url(#clip192)\" cx=\"1072.81\" cy=\"1731.86\" r=\"14.4\" fill=\"#009af9\" fill-rule=\"evenodd\" fill-opacity=\"1\" stroke=\"#000000\" stroke-opacity=\"1\" stroke-width=\"4.32\"/>\n",
       "<circle clip-path=\"url(#clip192)\" cx=\"1669.51\" cy=\"1853.83\" r=\"14.4\" fill=\"#009af9\" fill-rule=\"evenodd\" fill-opacity=\"1\" stroke=\"#000000\" stroke-opacity=\"1\" stroke-width=\"4.32\"/>\n",
       "<circle clip-path=\"url(#clip192)\" cx=\"1724.41\" cy=\"1853.8\" r=\"14.4\" fill=\"#009af9\" fill-rule=\"evenodd\" fill-opacity=\"1\" stroke=\"#000000\" stroke-opacity=\"1\" stroke-width=\"4.32\"/>\n",
       "<circle clip-path=\"url(#clip192)\" cx=\"1303.72\" cy=\"1833.89\" r=\"14.4\" fill=\"#009af9\" fill-rule=\"evenodd\" fill-opacity=\"1\" stroke=\"#000000\" stroke-opacity=\"1\" stroke-width=\"4.32\"/>\n",
       "<circle clip-path=\"url(#clip192)\" cx=\"2020.73\" cy=\"1630.48\" r=\"14.4\" fill=\"#009af9\" fill-rule=\"evenodd\" fill-opacity=\"1\" stroke=\"#000000\" stroke-opacity=\"1\" stroke-width=\"4.32\"/>\n",
       "<circle clip-path=\"url(#clip192)\" cx=\"1932.95\" cy=\"1724.64\" r=\"14.4\" fill=\"#009af9\" fill-rule=\"evenodd\" fill-opacity=\"1\" stroke=\"#000000\" stroke-opacity=\"1\" stroke-width=\"4.32\"/>\n",
       "<circle clip-path=\"url(#clip192)\" cx=\"2034.51\" cy=\"1599.01\" r=\"14.4\" fill=\"#009af9\" fill-rule=\"evenodd\" fill-opacity=\"1\" stroke=\"#000000\" stroke-opacity=\"1\" stroke-width=\"4.32\"/>\n",
       "<circle clip-path=\"url(#clip192)\" cx=\"1734\" cy=\"1847.7\" r=\"14.4\" fill=\"#009af9\" fill-rule=\"evenodd\" fill-opacity=\"1\" stroke=\"#000000\" stroke-opacity=\"1\" stroke-width=\"4.32\"/>\n",
       "<circle clip-path=\"url(#clip192)\" cx=\"1344.77\" cy=\"1858.06\" r=\"14.4\" fill=\"#009af9\" fill-rule=\"evenodd\" fill-opacity=\"1\" stroke=\"#000000\" stroke-opacity=\"1\" stroke-width=\"4.32\"/>\n",
       "<circle clip-path=\"url(#clip192)\" cx=\"566.211\" cy=\"1371.06\" r=\"14.4\" fill=\"#009af9\" fill-rule=\"evenodd\" fill-opacity=\"1\" stroke=\"#000000\" stroke-opacity=\"1\" stroke-width=\"4.32\"/>\n",
       "<circle clip-path=\"url(#clip192)\" cx=\"983.13\" cy=\"1677.74\" r=\"14.4\" fill=\"#009af9\" fill-rule=\"evenodd\" fill-opacity=\"1\" stroke=\"#000000\" stroke-opacity=\"1\" stroke-width=\"4.32\"/>\n",
       "<circle clip-path=\"url(#clip192)\" cx=\"395.567\" cy=\"1208.56\" r=\"14.4\" fill=\"#009af9\" fill-rule=\"evenodd\" fill-opacity=\"1\" stroke=\"#000000\" stroke-opacity=\"1\" stroke-width=\"4.32\"/>\n",
       "<circle clip-path=\"url(#clip192)\" cx=\"1928.06\" cy=\"1700.39\" r=\"14.4\" fill=\"#009af9\" fill-rule=\"evenodd\" fill-opacity=\"1\" stroke=\"#000000\" stroke-opacity=\"1\" stroke-width=\"4.32\"/>\n",
       "<circle clip-path=\"url(#clip192)\" cx=\"2221.46\" cy=\"1374.46\" r=\"14.4\" fill=\"#009af9\" fill-rule=\"evenodd\" fill-opacity=\"1\" stroke=\"#000000\" stroke-opacity=\"1\" stroke-width=\"4.32\"/>\n",
       "<circle clip-path=\"url(#clip192)\" cx=\"1669.75\" cy=\"1882.81\" r=\"14.4\" fill=\"#009af9\" fill-rule=\"evenodd\" fill-opacity=\"1\" stroke=\"#000000\" stroke-opacity=\"1\" stroke-width=\"4.32\"/>\n",
       "<circle clip-path=\"url(#clip192)\" cx=\"1010.97\" cy=\"1701.49\" r=\"14.4\" fill=\"#009af9\" fill-rule=\"evenodd\" fill-opacity=\"1\" stroke=\"#000000\" stroke-opacity=\"1\" stroke-width=\"4.32\"/>\n",
       "<circle clip-path=\"url(#clip192)\" cx=\"1510.52\" cy=\"1872.83\" r=\"14.4\" fill=\"#009af9\" fill-rule=\"evenodd\" fill-opacity=\"1\" stroke=\"#000000\" stroke-opacity=\"1\" stroke-width=\"4.32\"/>\n",
       "<circle clip-path=\"url(#clip192)\" cx=\"1420.78\" cy=\"1879.97\" r=\"14.4\" fill=\"#009af9\" fill-rule=\"evenodd\" fill-opacity=\"1\" stroke=\"#000000\" stroke-opacity=\"1\" stroke-width=\"4.32\"/>\n",
       "<circle clip-path=\"url(#clip192)\" cx=\"2235.01\" cy=\"1339.99\" r=\"14.4\" fill=\"#009af9\" fill-rule=\"evenodd\" fill-opacity=\"1\" stroke=\"#000000\" stroke-opacity=\"1\" stroke-width=\"4.32\"/>\n",
       "<circle clip-path=\"url(#clip192)\" cx=\"1447.37\" cy=\"1856.99\" r=\"14.4\" fill=\"#009af9\" fill-rule=\"evenodd\" fill-opacity=\"1\" stroke=\"#000000\" stroke-opacity=\"1\" stroke-width=\"4.32\"/>\n",
       "<circle clip-path=\"url(#clip192)\" cx=\"460.422\" cy=\"1255.43\" r=\"14.4\" fill=\"#009af9\" fill-rule=\"evenodd\" fill-opacity=\"1\" stroke=\"#000000\" stroke-opacity=\"1\" stroke-width=\"4.32\"/>\n",
       "<circle clip-path=\"url(#clip192)\" cx=\"1937.35\" cy=\"1718.74\" r=\"14.4\" fill=\"#009af9\" fill-rule=\"evenodd\" fill-opacity=\"1\" stroke=\"#000000\" stroke-opacity=\"1\" stroke-width=\"4.32\"/>\n",
       "<circle clip-path=\"url(#clip192)\" cx=\"910.548\" cy=\"1629.46\" r=\"14.4\" fill=\"#009af9\" fill-rule=\"evenodd\" fill-opacity=\"1\" stroke=\"#000000\" stroke-opacity=\"1\" stroke-width=\"4.32\"/>\n",
       "<circle clip-path=\"url(#clip192)\" cx=\"1273.93\" cy=\"1846.77\" r=\"14.4\" fill=\"#009af9\" fill-rule=\"evenodd\" fill-opacity=\"1\" stroke=\"#000000\" stroke-opacity=\"1\" stroke-width=\"4.32\"/>\n",
       "<circle clip-path=\"url(#clip192)\" cx=\"2132.64\" cy=\"1526.38\" r=\"14.4\" fill=\"#009af9\" fill-rule=\"evenodd\" fill-opacity=\"1\" stroke=\"#000000\" stroke-opacity=\"1\" stroke-width=\"4.32\"/>\n",
       "<circle clip-path=\"url(#clip192)\" cx=\"1193.07\" cy=\"1798.17\" r=\"14.4\" fill=\"#009af9\" fill-rule=\"evenodd\" fill-opacity=\"1\" stroke=\"#000000\" stroke-opacity=\"1\" stroke-width=\"4.32\"/>\n",
       "<circle clip-path=\"url(#clip192)\" cx=\"990.324\" cy=\"1698.8\" r=\"14.4\" fill=\"#009af9\" fill-rule=\"evenodd\" fill-opacity=\"1\" stroke=\"#000000\" stroke-opacity=\"1\" stroke-width=\"4.32\"/>\n",
       "<circle clip-path=\"url(#clip192)\" cx=\"1568\" cy=\"1869.24\" r=\"14.4\" fill=\"#009af9\" fill-rule=\"evenodd\" fill-opacity=\"1\" stroke=\"#000000\" stroke-opacity=\"1\" stroke-width=\"4.32\"/>\n",
       "<circle clip-path=\"url(#clip192)\" cx=\"1912.25\" cy=\"1755.73\" r=\"14.4\" fill=\"#009af9\" fill-rule=\"evenodd\" fill-opacity=\"1\" stroke=\"#000000\" stroke-opacity=\"1\" stroke-width=\"4.32\"/>\n",
       "<circle clip-path=\"url(#clip192)\" cx=\"2317.37\" cy=\"1221.69\" r=\"14.4\" fill=\"#009af9\" fill-rule=\"evenodd\" fill-opacity=\"1\" stroke=\"#000000\" stroke-opacity=\"1\" stroke-width=\"4.32\"/>\n",
       "<circle clip-path=\"url(#clip192)\" cx=\"2202.84\" cy=\"1404.29\" r=\"14.4\" fill=\"#009af9\" fill-rule=\"evenodd\" fill-opacity=\"1\" stroke=\"#000000\" stroke-opacity=\"1\" stroke-width=\"4.32\"/>\n",
       "<circle clip-path=\"url(#clip192)\" cx=\"1688.63\" cy=\"1860.72\" r=\"14.4\" fill=\"#009af9\" fill-rule=\"evenodd\" fill-opacity=\"1\" stroke=\"#000000\" stroke-opacity=\"1\" stroke-width=\"4.32\"/>\n",
       "<circle clip-path=\"url(#clip192)\" cx=\"1735.04\" cy=\"1845.78\" r=\"14.4\" fill=\"#009af9\" fill-rule=\"evenodd\" fill-opacity=\"1\" stroke=\"#000000\" stroke-opacity=\"1\" stroke-width=\"4.32\"/>\n",
       "<circle clip-path=\"url(#clip192)\" cx=\"1531.26\" cy=\"1883.04\" r=\"14.4\" fill=\"#009af9\" fill-rule=\"evenodd\" fill-opacity=\"1\" stroke=\"#000000\" stroke-opacity=\"1\" stroke-width=\"4.32\"/>\n",
       "<circle clip-path=\"url(#clip192)\" cx=\"1422.77\" cy=\"1890.83\" r=\"14.4\" fill=\"#009af9\" fill-rule=\"evenodd\" fill-opacity=\"1\" stroke=\"#000000\" stroke-opacity=\"1\" stroke-width=\"4.32\"/>\n",
       "<circle clip-path=\"url(#clip192)\" cx=\"1761.13\" cy=\"1831.09\" r=\"14.4\" fill=\"#009af9\" fill-rule=\"evenodd\" fill-opacity=\"1\" stroke=\"#000000\" stroke-opacity=\"1\" stroke-width=\"4.32\"/>\n",
       "<circle clip-path=\"url(#clip192)\" cx=\"1597.3\" cy=\"1912.98\" r=\"14.4\" fill=\"#009af9\" fill-rule=\"evenodd\" fill-opacity=\"1\" stroke=\"#000000\" stroke-opacity=\"1\" stroke-width=\"4.32\"/>\n",
       "<circle clip-path=\"url(#clip192)\" cx=\"1928.65\" cy=\"1704.67\" r=\"14.4\" fill=\"#009af9\" fill-rule=\"evenodd\" fill-opacity=\"1\" stroke=\"#000000\" stroke-opacity=\"1\" stroke-width=\"4.32\"/>\n",
       "<circle clip-path=\"url(#clip192)\" cx=\"2149.63\" cy=\"1476.36\" r=\"14.4\" fill=\"#009af9\" fill-rule=\"evenodd\" fill-opacity=\"1\" stroke=\"#000000\" stroke-opacity=\"1\" stroke-width=\"4.32\"/>\n",
       "<circle clip-path=\"url(#clip192)\" cx=\"1841.3\" cy=\"1796.02\" r=\"14.4\" fill=\"#009af9\" fill-rule=\"evenodd\" fill-opacity=\"1\" stroke=\"#000000\" stroke-opacity=\"1\" stroke-width=\"4.32\"/>\n",
       "<circle clip-path=\"url(#clip192)\" cx=\"1760.04\" cy=\"1828.14\" r=\"14.4\" fill=\"#009af9\" fill-rule=\"evenodd\" fill-opacity=\"1\" stroke=\"#000000\" stroke-opacity=\"1\" stroke-width=\"4.32\"/>\n",
       "<circle clip-path=\"url(#clip192)\" cx=\"2354.07\" cy=\"1153\" r=\"14.4\" fill=\"#009af9\" fill-rule=\"evenodd\" fill-opacity=\"1\" stroke=\"#000000\" stroke-opacity=\"1\" stroke-width=\"4.32\"/>\n",
       "<circle clip-path=\"url(#clip192)\" cx=\"1895.75\" cy=\"1758.4\" r=\"14.4\" fill=\"#009af9\" fill-rule=\"evenodd\" fill-opacity=\"1\" stroke=\"#000000\" stroke-opacity=\"1\" stroke-width=\"4.32\"/>\n",
       "<circle clip-path=\"url(#clip192)\" cx=\"1409.12\" cy=\"1853.28\" r=\"14.4\" fill=\"#009af9\" fill-rule=\"evenodd\" fill-opacity=\"1\" stroke=\"#000000\" stroke-opacity=\"1\" stroke-width=\"4.32\"/>\n",
       "<circle clip-path=\"url(#clip192)\" cx=\"1348.57\" cy=\"1856.39\" r=\"14.4\" fill=\"#009af9\" fill-rule=\"evenodd\" fill-opacity=\"1\" stroke=\"#000000\" stroke-opacity=\"1\" stroke-width=\"4.32\"/>\n",
       "<circle clip-path=\"url(#clip192)\" cx=\"1464.81\" cy=\"1882.37\" r=\"14.4\" fill=\"#009af9\" fill-rule=\"evenodd\" fill-opacity=\"1\" stroke=\"#000000\" stroke-opacity=\"1\" stroke-width=\"4.32\"/>\n",
       "<circle clip-path=\"url(#clip192)\" cx=\"1824.37\" cy=\"1773.7\" r=\"14.4\" fill=\"#009af9\" fill-rule=\"evenodd\" fill-opacity=\"1\" stroke=\"#000000\" stroke-opacity=\"1\" stroke-width=\"4.32\"/>\n",
       "<circle clip-path=\"url(#clip192)\" cx=\"289.924\" cy=\"1132.9\" r=\"14.4\" fill=\"#009af9\" fill-rule=\"evenodd\" fill-opacity=\"1\" stroke=\"#000000\" stroke-opacity=\"1\" stroke-width=\"4.32\"/>\n",
       "<circle clip-path=\"url(#clip192)\" cx=\"1781\" cy=\"1830.67\" r=\"14.4\" fill=\"#009af9\" fill-rule=\"evenodd\" fill-opacity=\"1\" stroke=\"#000000\" stroke-opacity=\"1\" stroke-width=\"4.32\"/>\n",
       "<circle clip-path=\"url(#clip192)\" cx=\"436.361\" cy=\"1249.24\" r=\"14.4\" fill=\"#009af9\" fill-rule=\"evenodd\" fill-opacity=\"1\" stroke=\"#000000\" stroke-opacity=\"1\" stroke-width=\"4.32\"/>\n",
       "<circle clip-path=\"url(#clip192)\" cx=\"1333.2\" cy=\"1845.26\" r=\"14.4\" fill=\"#009af9\" fill-rule=\"evenodd\" fill-opacity=\"1\" stroke=\"#000000\" stroke-opacity=\"1\" stroke-width=\"4.32\"/>\n",
       "<circle clip-path=\"url(#clip192)\" cx=\"601.056\" cy=\"1385.4\" r=\"14.4\" fill=\"#009af9\" fill-rule=\"evenodd\" fill-opacity=\"1\" stroke=\"#000000\" stroke-opacity=\"1\" stroke-width=\"4.32\"/>\n",
       "<circle clip-path=\"url(#clip192)\" cx=\"1030.62\" cy=\"1692.92\" r=\"14.4\" fill=\"#009af9\" fill-rule=\"evenodd\" fill-opacity=\"1\" stroke=\"#000000\" stroke-opacity=\"1\" stroke-width=\"4.32\"/>\n",
       "<circle clip-path=\"url(#clip192)\" cx=\"1425.15\" cy=\"1877.84\" r=\"14.4\" fill=\"#009af9\" fill-rule=\"evenodd\" fill-opacity=\"1\" stroke=\"#000000\" stroke-opacity=\"1\" stroke-width=\"4.32\"/>\n",
       "<circle clip-path=\"url(#clip192)\" cx=\"1082.01\" cy=\"1740.96\" r=\"14.4\" fill=\"#009af9\" fill-rule=\"evenodd\" fill-opacity=\"1\" stroke=\"#000000\" stroke-opacity=\"1\" stroke-width=\"4.32\"/>\n",
       "<circle clip-path=\"url(#clip192)\" cx=\"1108.94\" cy=\"1751.94\" r=\"14.4\" fill=\"#009af9\" fill-rule=\"evenodd\" fill-opacity=\"1\" stroke=\"#000000\" stroke-opacity=\"1\" stroke-width=\"4.32\"/>\n",
       "<circle clip-path=\"url(#clip192)\" cx=\"1551.19\" cy=\"1879.22\" r=\"14.4\" fill=\"#009af9\" fill-rule=\"evenodd\" fill-opacity=\"1\" stroke=\"#000000\" stroke-opacity=\"1\" stroke-width=\"4.32\"/>\n",
       "<circle clip-path=\"url(#clip192)\" cx=\"2075.99\" cy=\"1561.11\" r=\"14.4\" fill=\"#009af9\" fill-rule=\"evenodd\" fill-opacity=\"1\" stroke=\"#000000\" stroke-opacity=\"1\" stroke-width=\"4.32\"/>\n",
       "<circle clip-path=\"url(#clip192)\" cx=\"644.001\" cy=\"1421.93\" r=\"14.4\" fill=\"#009af9\" fill-rule=\"evenodd\" fill-opacity=\"1\" stroke=\"#000000\" stroke-opacity=\"1\" stroke-width=\"4.32\"/>\n",
       "<circle clip-path=\"url(#clip192)\" cx=\"1725.93\" cy=\"1850.73\" r=\"14.4\" fill=\"#009af9\" fill-rule=\"evenodd\" fill-opacity=\"1\" stroke=\"#000000\" stroke-opacity=\"1\" stroke-width=\"4.32\"/>\n",
       "<circle clip-path=\"url(#clip192)\" cx=\"857.447\" cy=\"1595.35\" r=\"14.4\" fill=\"#009af9\" fill-rule=\"evenodd\" fill-opacity=\"1\" stroke=\"#000000\" stroke-opacity=\"1\" stroke-width=\"4.32\"/>\n",
       "<circle clip-path=\"url(#clip192)\" cx=\"1580.73\" cy=\"1860.53\" r=\"14.4\" fill=\"#009af9\" fill-rule=\"evenodd\" fill-opacity=\"1\" stroke=\"#000000\" stroke-opacity=\"1\" stroke-width=\"4.32\"/>\n",
       "<circle clip-path=\"url(#clip192)\" cx=\"2228.06\" cy=\"1380.36\" r=\"14.4\" fill=\"#009af9\" fill-rule=\"evenodd\" fill-opacity=\"1\" stroke=\"#000000\" stroke-opacity=\"1\" stroke-width=\"4.32\"/>\n",
       "<circle clip-path=\"url(#clip192)\" cx=\"819.857\" cy=\"1579.28\" r=\"14.4\" fill=\"#009af9\" fill-rule=\"evenodd\" fill-opacity=\"1\" stroke=\"#000000\" stroke-opacity=\"1\" stroke-width=\"4.32\"/>\n",
       "<circle clip-path=\"url(#clip192)\" cx=\"1526.16\" cy=\"1880.66\" r=\"14.4\" fill=\"#009af9\" fill-rule=\"evenodd\" fill-opacity=\"1\" stroke=\"#000000\" stroke-opacity=\"1\" stroke-width=\"4.32\"/>\n",
       "<circle clip-path=\"url(#clip192)\" cx=\"1821.98\" cy=\"1785.86\" r=\"14.4\" fill=\"#009af9\" fill-rule=\"evenodd\" fill-opacity=\"1\" stroke=\"#000000\" stroke-opacity=\"1\" stroke-width=\"4.32\"/>\n",
       "<circle clip-path=\"url(#clip192)\" cx=\"1242.71\" cy=\"1821.43\" r=\"14.4\" fill=\"#009af9\" fill-rule=\"evenodd\" fill-opacity=\"1\" stroke=\"#000000\" stroke-opacity=\"1\" stroke-width=\"4.32\"/>\n",
       "<circle clip-path=\"url(#clip192)\" cx=\"1378.56\" cy=\"1878.49\" r=\"14.4\" fill=\"#009af9\" fill-rule=\"evenodd\" fill-opacity=\"1\" stroke=\"#000000\" stroke-opacity=\"1\" stroke-width=\"4.32\"/>\n",
       "<circle clip-path=\"url(#clip192)\" cx=\"1745.1\" cy=\"1835.52\" r=\"14.4\" fill=\"#009af9\" fill-rule=\"evenodd\" fill-opacity=\"1\" stroke=\"#000000\" stroke-opacity=\"1\" stroke-width=\"4.32\"/>\n",
       "<circle clip-path=\"url(#clip192)\" cx=\"2584.25\" cy=\"604.052\" r=\"14.4\" fill=\"#009af9\" fill-rule=\"evenodd\" fill-opacity=\"1\" stroke=\"#000000\" stroke-opacity=\"1\" stroke-width=\"4.32\"/>\n",
       "<circle clip-path=\"url(#clip192)\" cx=\"1172.88\" cy=\"1795.48\" r=\"14.4\" fill=\"#009af9\" fill-rule=\"evenodd\" fill-opacity=\"1\" stroke=\"#000000\" stroke-opacity=\"1\" stroke-width=\"4.32\"/>\n",
       "<circle clip-path=\"url(#clip192)\" cx=\"2249.22\" cy=\"1319.06\" r=\"14.4\" fill=\"#009af9\" fill-rule=\"evenodd\" fill-opacity=\"1\" stroke=\"#000000\" stroke-opacity=\"1\" stroke-width=\"4.32\"/>\n",
       "<circle clip-path=\"url(#clip192)\" cx=\"1883.73\" cy=\"1756.07\" r=\"14.4\" fill=\"#009af9\" fill-rule=\"evenodd\" fill-opacity=\"1\" stroke=\"#000000\" stroke-opacity=\"1\" stroke-width=\"4.32\"/>\n",
       "<circle clip-path=\"url(#clip192)\" cx=\"963.135\" cy=\"1685.21\" r=\"14.4\" fill=\"#009af9\" fill-rule=\"evenodd\" fill-opacity=\"1\" stroke=\"#000000\" stroke-opacity=\"1\" stroke-width=\"4.32\"/>\n",
       "<circle clip-path=\"url(#clip192)\" cx=\"722.969\" cy=\"1474.7\" r=\"14.4\" fill=\"#009af9\" fill-rule=\"evenodd\" fill-opacity=\"1\" stroke=\"#000000\" stroke-opacity=\"1\" stroke-width=\"4.32\"/>\n",
       "<circle clip-path=\"url(#clip192)\" cx=\"2217.75\" cy=\"1390.27\" r=\"14.4\" fill=\"#009af9\" fill-rule=\"evenodd\" fill-opacity=\"1\" stroke=\"#000000\" stroke-opacity=\"1\" stroke-width=\"4.32\"/>\n",
       "<circle clip-path=\"url(#clip192)\" cx=\"1357.52\" cy=\"1857.02\" r=\"14.4\" fill=\"#009af9\" fill-rule=\"evenodd\" fill-opacity=\"1\" stroke=\"#000000\" stroke-opacity=\"1\" stroke-width=\"4.32\"/>\n",
       "<circle clip-path=\"url(#clip192)\" cx=\"1401.94\" cy=\"1865.44\" r=\"14.4\" fill=\"#009af9\" fill-rule=\"evenodd\" fill-opacity=\"1\" stroke=\"#000000\" stroke-opacity=\"1\" stroke-width=\"4.32\"/>\n",
       "<circle clip-path=\"url(#clip192)\" cx=\"1193.88\" cy=\"1807.63\" r=\"14.4\" fill=\"#009af9\" fill-rule=\"evenodd\" fill-opacity=\"1\" stroke=\"#000000\" stroke-opacity=\"1\" stroke-width=\"4.32\"/>\n",
       "<circle clip-path=\"url(#clip192)\" cx=\"1352.12\" cy=\"1857.12\" r=\"14.4\" fill=\"#009af9\" fill-rule=\"evenodd\" fill-opacity=\"1\" stroke=\"#000000\" stroke-opacity=\"1\" stroke-width=\"4.32\"/>\n",
       "<circle clip-path=\"url(#clip192)\" cx=\"1108.6\" cy=\"1756.64\" r=\"14.4\" fill=\"#009af9\" fill-rule=\"evenodd\" fill-opacity=\"1\" stroke=\"#000000\" stroke-opacity=\"1\" stroke-width=\"4.32\"/>\n",
       "<circle clip-path=\"url(#clip192)\" cx=\"1800.05\" cy=\"1814.87\" r=\"14.4\" fill=\"#009af9\" fill-rule=\"evenodd\" fill-opacity=\"1\" stroke=\"#000000\" stroke-opacity=\"1\" stroke-width=\"4.32\"/>\n",
       "<circle clip-path=\"url(#clip192)\" cx=\"1518.77\" cy=\"1867.06\" r=\"14.4\" fill=\"#009af9\" fill-rule=\"evenodd\" fill-opacity=\"1\" stroke=\"#000000\" stroke-opacity=\"1\" stroke-width=\"4.32\"/>\n",
       "<circle clip-path=\"url(#clip192)\" cx=\"2222.95\" cy=\"1396.46\" r=\"14.4\" fill=\"#009af9\" fill-rule=\"evenodd\" fill-opacity=\"1\" stroke=\"#000000\" stroke-opacity=\"1\" stroke-width=\"4.32\"/>\n",
       "<circle clip-path=\"url(#clip192)\" cx=\"837.62\" cy=\"1572.06\" r=\"14.4\" fill=\"#009af9\" fill-rule=\"evenodd\" fill-opacity=\"1\" stroke=\"#000000\" stroke-opacity=\"1\" stroke-width=\"4.32\"/>\n",
       "<circle clip-path=\"url(#clip192)\" cx=\"652.764\" cy=\"1422.57\" r=\"14.4\" fill=\"#009af9\" fill-rule=\"evenodd\" fill-opacity=\"1\" stroke=\"#000000\" stroke-opacity=\"1\" stroke-width=\"4.32\"/>\n",
       "<polyline clip-path=\"url(#clip192)\" style=\"stroke:#e26f46; stroke-linecap:butt; stroke-linejoin:round; stroke-width:4; stroke-opacity:1; fill:none\" points=\"\n",
       "  289.924,1122.92 395.567,1213.09 436.361,1248.33 460.422,1269.16 566.211,1360.46 601.056,1390.23 644.001,1426.56 652.764,1433.91 722.969,1491.91 819.857,1568.55 \n",
       "  837.62,1582.07 857.447,1596.95 898.85,1627.22 910.548,1635.56 915.976,1639.4 959.527,1669.44 963.135,1671.86 983.13,1685.11 990.324,1689.79 1010.97,1703.01 \n",
       "  1030.62,1715.24 1072.81,1740.33 1082.01,1745.59 1098.71,1754.9 1108.6,1760.29 1108.94,1760.48 1172.88,1792.84 1193.07,1802.14 1193.88,1802.5 1242.71,1822.98 \n",
       "  1273.93,1834.57 1300.83,1843.56 1303.72,1844.46 1333.2,1853.11 1344.77,1856.18 1348.57,1857.15 1352.12,1858.04 1357.52,1859.35 1378.56,1864.09 1401.94,1868.6 \n",
       "  1409.12,1869.83 1420.78,1871.65 1422.77,1871.95 1425.15,1872.29 1425.99,1872.41 1434.92,1873.6 1447.37,1875.06 1464.81,1876.7 1510.52,1878.71 1518.77,1878.72 \n",
       "  1519.8,1878.71 1526.16,1878.62 1531.26,1878.51 1551.19,1877.63 1568,1876.36 1580.73,1875.08 1597.3,1872.98 1613.02,1870.54 1669.51,1858.06 1669.75,1858 \n",
       "  1688.63,1852.48 1724.41,1840.15 1725.93,1839.58 1727.44,1839 1734,1836.42 1735.04,1836 1745.1,1831.87 1760.04,1825.36 1761.13,1824.87 1781,1815.46 \n",
       "  1800.05,1805.67 1821.98,1793.46 1824.37,1792.07 1841.3,1781.86 1874.91,1759.75 1883.73,1753.54 1895.75,1744.79 1912.25,1732.25 1928.06,1719.66 1928.65,1719.17 \n",
       "  1932.95,1715.65 1937.35,1711.99 2020.73,1634.12 2021.72,1633.09 2034.51,1619.63 2075.99,1573.21 2132.64,1502.75 2149.63,1480 2202.84,1403.77 2217.75,1381.04 \n",
       "  2221.46,1375.29 2222.95,1372.97 2228.06,1364.96 2235.01,1353.96 2249.22,1331.05 2317.37,1213.21 2354.07,1144.19 2537.38,738.186 2584.25,617.221 2758.69,101.586 \n",
       "  \n",
       "  \"/>\n",
       "<path clip-path=\"url(#clip190)\" d=\"\n",
       "M303.091 266.767 L820.684 266.767 L820.684 111.247 L303.091 111.247  Z\n",
       "  \" fill=\"#ffffff\" fill-rule=\"evenodd\" fill-opacity=\"1\"/>\n",
       "<polyline clip-path=\"url(#clip190)\" style=\"stroke:#000000; stroke-linecap:butt; stroke-linejoin:round; stroke-width:4; stroke-opacity:1; fill:none\" points=\"\n",
       "  303.091,266.767 820.684,266.767 820.684,111.247 303.091,111.247 303.091,266.767 \n",
       "  \"/>\n",
       "<circle clip-path=\"url(#clip190)\" cx=\"419.397\" cy=\"163.087\" r=\"23.04\" fill=\"#009af9\" fill-rule=\"evenodd\" fill-opacity=\"1\" stroke=\"#000000\" stroke-opacity=\"1\" stroke-width=\"6.912\"/>\n",
       "<path clip-path=\"url(#clip190)\" d=\"M535.704 145.807 L564.94 145.807 L564.94 149.742 L552.671 149.742 L552.671 180.367 L547.972 180.367 L547.972 149.742 L535.704 149.742 L535.704 145.807 Z\" fill=\"#000000\" fill-rule=\"evenodd\" fill-opacity=\"1\" /><path clip-path=\"url(#clip190)\" d=\"M577.324 158.422 Q576.606 158.006 575.75 157.82 Q574.916 157.612 573.898 157.612 Q570.287 157.612 568.342 159.973 Q566.421 162.311 566.421 166.709 L566.421 180.367 L562.139 180.367 L562.139 154.441 L566.421 154.441 L566.421 158.469 Q567.764 156.107 569.916 154.973 Q572.069 153.816 575.148 153.816 Q575.588 153.816 576.12 153.885 Q576.653 153.932 577.301 154.047 L577.324 158.422 Z\" fill=\"#000000\" fill-rule=\"evenodd\" fill-opacity=\"1\" /><path clip-path=\"url(#clip190)\" d=\"M581.352 170.135 L581.352 154.441 L585.611 154.441 L585.611 169.973 Q585.611 173.654 587.046 175.506 Q588.481 177.334 591.352 177.334 Q594.801 177.334 596.791 175.135 Q598.805 172.936 598.805 169.14 L598.805 154.441 L603.064 154.441 L603.064 180.367 L598.805 180.367 L598.805 176.385 Q597.254 178.746 595.194 179.904 Q593.157 181.038 590.449 181.038 Q585.981 181.038 583.666 178.26 Q581.352 175.482 581.352 170.135 M592.069 153.816 L592.069 153.816 Z\" fill=\"#000000\" fill-rule=\"evenodd\" fill-opacity=\"1\" /><path clip-path=\"url(#clip190)\" d=\"M616.05 147.08 L616.05 154.441 L624.824 154.441 L624.824 157.751 L616.05 157.751 L616.05 171.825 Q616.05 174.996 616.907 175.899 Q617.787 176.802 620.449 176.802 L624.824 176.802 L624.824 180.367 L620.449 180.367 Q615.518 180.367 613.643 178.538 Q611.768 176.686 611.768 171.825 L611.768 157.751 L608.643 157.751 L608.643 154.441 L611.768 154.441 L611.768 147.08 L616.05 147.08 Z\" fill=\"#000000\" fill-rule=\"evenodd\" fill-opacity=\"1\" /><path clip-path=\"url(#clip190)\" d=\"M651.976 164.719 L651.976 180.367 L647.717 180.367 L647.717 164.857 Q647.717 161.177 646.282 159.348 Q644.847 157.52 641.976 157.52 Q638.527 157.52 636.536 159.719 Q634.546 161.918 634.546 165.714 L634.546 180.367 L630.263 180.367 L630.263 144.348 L634.546 144.348 L634.546 158.469 Q636.074 156.131 638.134 154.973 Q640.217 153.816 642.925 153.816 Q647.393 153.816 649.685 156.594 Q651.976 159.348 651.976 164.719 Z\" fill=\"#000000\" fill-rule=\"evenodd\" fill-opacity=\"1\" /><polyline clip-path=\"url(#clip190)\" style=\"stroke:#e26f46; stroke-linecap:butt; stroke-linejoin:round; stroke-width:4; stroke-opacity:1; fill:none\" points=\"\n",
       "  332.167,214.927 506.627,214.927 \n",
       "  \"/>\n",
       "<path clip-path=\"url(#clip190)\" d=\"M540.38 201.489 L540.38 214.475 L546.259 214.475 Q549.523 214.475 551.305 212.785 Q553.088 211.096 553.088 207.971 Q553.088 204.869 551.305 203.179 Q549.523 201.489 546.259 201.489 L540.38 201.489 M535.704 197.647 L546.259 197.647 Q552.069 197.647 555.032 200.285 Q558.018 202.901 558.018 207.971 Q558.018 213.086 555.032 215.702 Q552.069 218.318 546.259 218.318 L540.38 218.318 L540.38 232.207 L535.704 232.207 L535.704 197.647 Z\" fill=\"#000000\" fill-rule=\"evenodd\" fill-opacity=\"1\" /><path clip-path=\"url(#clip190)\" d=\"M578.296 210.262 Q577.578 209.846 576.722 209.66 Q575.889 209.452 574.87 209.452 Q571.259 209.452 569.315 211.813 Q567.393 214.151 567.393 218.549 L567.393 232.207 L563.111 232.207 L563.111 206.281 L567.393 206.281 L567.393 210.309 Q568.736 207.947 570.889 206.813 Q573.041 205.656 576.12 205.656 Q576.56 205.656 577.092 205.725 Q577.625 205.772 578.273 205.887 L578.296 210.262 Z\" fill=\"#000000\" fill-rule=\"evenodd\" fill-opacity=\"1\" /><path clip-path=\"url(#clip190)\" d=\"M603.898 218.179 L603.898 220.262 L584.315 220.262 Q584.592 224.66 586.953 226.975 Q589.338 229.267 593.574 229.267 Q596.027 229.267 598.319 228.665 Q600.634 228.063 602.902 226.859 L602.902 230.887 Q600.611 231.859 598.203 232.369 Q595.796 232.878 593.319 232.878 Q587.115 232.878 583.481 229.267 Q579.87 225.656 579.87 219.498 Q579.87 213.133 583.296 209.406 Q586.745 205.656 592.578 205.656 Q597.81 205.656 600.842 209.035 Q603.898 212.392 603.898 218.179 M599.639 216.929 Q599.592 213.434 597.671 211.35 Q595.773 209.267 592.625 209.267 Q589.06 209.267 586.907 211.281 Q584.777 213.295 584.453 216.952 L599.639 216.929 Z\" fill=\"#000000\" fill-rule=\"evenodd\" fill-opacity=\"1\" /><path clip-path=\"url(#clip190)\" d=\"M627.949 210.216 L627.949 196.188 L632.208 196.188 L632.208 232.207 L627.949 232.207 L627.949 228.318 Q626.606 230.633 624.546 231.767 Q622.509 232.878 619.638 232.878 Q614.939 232.878 611.976 229.128 Q609.037 225.378 609.037 219.267 Q609.037 213.156 611.976 209.406 Q614.939 205.656 619.638 205.656 Q622.509 205.656 624.546 206.79 Q626.606 207.901 627.949 210.216 M613.435 219.267 Q613.435 223.966 615.356 226.651 Q617.3 229.313 620.68 229.313 Q624.06 229.313 626.004 226.651 Q627.949 223.966 627.949 219.267 Q627.949 214.568 626.004 211.906 Q624.06 209.221 620.68 209.221 Q617.3 209.221 615.356 211.906 Q613.435 214.568 613.435 219.267 Z\" fill=\"#000000\" fill-rule=\"evenodd\" fill-opacity=\"1\" /><path clip-path=\"url(#clip190)\" d=\"M640.981 206.281 L645.24 206.281 L645.24 232.207 L640.981 232.207 L640.981 206.281 M640.981 196.188 L645.24 196.188 L645.24 201.582 L640.981 201.582 L640.981 196.188 Z\" fill=\"#000000\" fill-rule=\"evenodd\" fill-opacity=\"1\" /><path clip-path=\"url(#clip190)\" d=\"M672.809 207.276 L672.809 211.258 Q671.004 210.262 669.175 209.776 Q667.37 209.267 665.518 209.267 Q661.374 209.267 659.083 211.906 Q656.791 214.522 656.791 219.267 Q656.791 224.012 659.083 226.651 Q661.374 229.267 665.518 229.267 Q667.37 229.267 669.175 228.781 Q671.004 228.271 672.809 227.276 L672.809 231.211 Q671.027 232.045 669.106 232.461 Q667.208 232.878 665.055 232.878 Q659.198 232.878 655.749 229.197 Q652.3 225.517 652.3 219.267 Q652.3 212.924 655.772 209.29 Q659.268 205.656 665.333 205.656 Q667.3 205.656 669.175 206.073 Q671.05 206.466 672.809 207.276 Z\" fill=\"#000000\" fill-rule=\"evenodd\" fill-opacity=\"1\" /><path clip-path=\"url(#clip190)\" d=\"M684.43 198.92 L684.43 206.281 L693.203 206.281 L693.203 209.591 L684.43 209.591 L684.43 223.665 Q684.43 226.836 685.286 227.739 Q686.166 228.642 688.828 228.642 L693.203 228.642 L693.203 232.207 L688.828 232.207 Q683.897 232.207 682.022 230.378 Q680.147 228.526 680.147 223.665 L680.147 209.591 L677.022 209.591 L677.022 206.281 L680.147 206.281 L680.147 198.92 L684.43 198.92 Z\" fill=\"#000000\" fill-rule=\"evenodd\" fill-opacity=\"1\" /><path clip-path=\"url(#clip190)\" d=\"M698.805 206.281 L703.064 206.281 L703.064 232.207 L698.805 232.207 L698.805 206.281 M698.805 196.188 L703.064 196.188 L703.064 201.582 L698.805 201.582 L698.805 196.188 Z\" fill=\"#000000\" fill-rule=\"evenodd\" fill-opacity=\"1\" /><path clip-path=\"url(#clip190)\" d=\"M722.022 209.267 Q718.596 209.267 716.605 211.952 Q714.615 214.614 714.615 219.267 Q714.615 223.92 716.582 226.605 Q718.573 229.267 722.022 229.267 Q725.425 229.267 727.416 226.582 Q729.406 223.896 729.406 219.267 Q729.406 214.66 727.416 211.975 Q725.425 209.267 722.022 209.267 M722.022 205.656 Q727.578 205.656 730.749 209.267 Q733.92 212.878 733.92 219.267 Q733.92 225.633 730.749 229.267 Q727.578 232.878 722.022 232.878 Q716.443 232.878 713.272 229.267 Q710.124 225.633 710.124 219.267 Q710.124 212.878 713.272 209.267 Q716.443 205.656 722.022 205.656 Z\" fill=\"#000000\" fill-rule=\"evenodd\" fill-opacity=\"1\" /><path clip-path=\"url(#clip190)\" d=\"M762.531 216.559 L762.531 232.207 L758.272 232.207 L758.272 216.697 Q758.272 213.017 756.837 211.188 Q755.402 209.36 752.531 209.36 Q749.082 209.36 747.091 211.559 Q745.101 213.758 745.101 217.554 L745.101 232.207 L740.818 232.207 L740.818 206.281 L745.101 206.281 L745.101 210.309 Q746.628 207.971 748.689 206.813 Q750.772 205.656 753.48 205.656 Q757.948 205.656 760.24 208.434 Q762.531 211.188 762.531 216.559 Z\" fill=\"#000000\" fill-rule=\"evenodd\" fill-opacity=\"1\" /></svg>\n"
      ]
     },
     "execution_count": 38,
     "metadata": {},
     "output_type": "execute_result"
    }
   ],
   "source": [
    "plot!(ψ[:,1], ψ[:,2], ylabel = \"Y\", xlabel = \"X\", label=\"Prediction\", legend=:topleft, size=(720,540))"
   ]
  }
 ],
 "metadata": {
  "kernelspec": {
   "display_name": "Julia 1.7.2",
   "language": "julia",
   "name": "julia-1.7"
  },
  "language_info": {
   "file_extension": ".jl",
   "mimetype": "application/julia",
   "name": "julia",
   "version": "1.7.2"
  }
 },
 "nbformat": 4,
 "nbformat_minor": 4
}
